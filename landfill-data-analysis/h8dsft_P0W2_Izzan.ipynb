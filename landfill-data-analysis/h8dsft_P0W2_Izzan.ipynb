{
 "cells": [
  {
   "attachments": {},
   "cell_type": "markdown",
   "metadata": {},
   "source": [
    "# Graded Challenge 2\n",
    "Izzan Dienurrahman\n",
    "HCK-003"
   ]
  },
  {
   "attachments": {},
   "cell_type": "markdown",
   "metadata": {},
   "source": [
    "# Problem 1 (Stats)"
   ]
  },
  {
   "attachments": {},
   "cell_type": "markdown",
   "metadata": {},
   "source": [
    "## Description\n",
    "\n",
    "### Objective\n",
    "- Menganalisa sistem pembuangan dan pengelolaan sampah di kota Austin guna memberikan insight kepada pemerintah kota setempat mengenai kondisi sistem pembuangan dan pengelolaan sampah.\n",
    "\n",
    "\n",
    "### Problem Statement\n",
    "- Melihat jumlah site pembuangan sampah\n",
    "- Melihat semua jenis sampah\n",
    "- Menganalisa dan membandingkan central tendency banyaknya sampah baik sampah yang dipisahkan jenisnya maupun tidak\n",
    "- Menganalisa karakteristik distribusi besarnya sampah baik sampah yang dipisahkan jenisnya maupun tidak\n",
    "- Menganalisa dan menghandle outlier pada dataset\n",
    "- Menentukan keputusan kapasitas site baru berdasarkan data\n",
    "- Menganalisa signifikansi kapasitas pembuangan sampah antar site pembuangan sampah"
   ]
  },
  {
   "attachments": {},
   "cell_type": "markdown",
   "metadata": {},
   "source": [
    "## SQL Query\n",
    ">SELECT\n",
    "report_date,\n",
    "load_time,\n",
    "load_type,\n",
    "load_weight,\n",
    "dropoff_site  \n",
    "FROM `bigquery-public-data.austin_waste.waste_and_diversion` \n",
    "WHERE report_date >= '2021-01-01' AND report_date < '2022-01-01'\n",
    "ORDER BY report_date"
   ]
  },
  {
   "attachments": {},
   "cell_type": "markdown",
   "metadata": {},
   "source": [
    "## Data Loading"
   ]
  },
  {
   "cell_type": "code",
   "execution_count": 1,
   "metadata": {},
   "outputs": [],
   "source": [
    "# import library yang dibutuhkan\n",
    "import pandas as pd\n",
    "import numpy as np\n",
    "import seaborn as sns\n",
    "import scipy.stats as stats\n",
    "import matplotlib.pyplot as plt\n",
    "import statsmodels.api as sm\n",
    "from scipy.stats import norm\n",
    "import pylab"
   ]
  },
  {
   "cell_type": "code",
   "execution_count": 2,
   "metadata": {},
   "outputs": [],
   "source": [
    "pd.options.display.float_format = \"{:,.2f}\".format # mengatur pemisah angka ribuan dan 2 angka dibelakang koma"
   ]
  },
  {
   "cell_type": "code",
   "execution_count": 3,
   "metadata": {},
   "outputs": [],
   "source": [
    "# add custom missing values\n",
    "missing_values = [\"n/a\", \"na\", \"--\"]"
   ]
  },
  {
   "cell_type": "code",
   "execution_count": 4,
   "metadata": {},
   "outputs": [],
   "source": [
    "# read dataset with added custom missing values\n",
    "df = pd.read_csv('h8dsft_P0GC2_Izzan.csv', na_values=missing_values)"
   ]
  },
  {
   "cell_type": "code",
   "execution_count": 5,
   "metadata": {},
   "outputs": [
    {
     "data": {
      "text/html": [
       "<div>\n",
       "<style scoped>\n",
       "    .dataframe tbody tr th:only-of-type {\n",
       "        vertical-align: middle;\n",
       "    }\n",
       "\n",
       "    .dataframe tbody tr th {\n",
       "        vertical-align: top;\n",
       "    }\n",
       "\n",
       "    .dataframe thead th {\n",
       "        text-align: right;\n",
       "    }\n",
       "</style>\n",
       "<table border=\"1\" class=\"dataframe\">\n",
       "  <thead>\n",
       "    <tr style=\"text-align: right;\">\n",
       "      <th></th>\n",
       "      <th>report_date</th>\n",
       "      <th>load_time</th>\n",
       "      <th>load_type</th>\n",
       "      <th>load_weight</th>\n",
       "      <th>dropoff_site</th>\n",
       "    </tr>\n",
       "  </thead>\n",
       "  <tbody>\n",
       "    <tr>\n",
       "      <th>0</th>\n",
       "      <td>2021-01-01</td>\n",
       "      <td>2021-01-01 12:00:00 UTC</td>\n",
       "      <td>SWEEPING</td>\n",
       "      <td>NaN</td>\n",
       "      <td>ONION CREEK</td>\n",
       "    </tr>\n",
       "    <tr>\n",
       "      <th>1</th>\n",
       "      <td>2021-01-01</td>\n",
       "      <td>2021-01-01 12:00:00 UTC</td>\n",
       "      <td>SWEEPING</td>\n",
       "      <td>NaN</td>\n",
       "      <td>ONION CREEK</td>\n",
       "    </tr>\n",
       "    <tr>\n",
       "      <th>2</th>\n",
       "      <td>2021-01-01</td>\n",
       "      <td>2021-01-01 12:00:00 UTC</td>\n",
       "      <td>SWEEPING</td>\n",
       "      <td>NaN</td>\n",
       "      <td>ONION CREEK</td>\n",
       "    </tr>\n",
       "    <tr>\n",
       "      <th>3</th>\n",
       "      <td>2021-01-01</td>\n",
       "      <td>2021-01-01 12:00:00 UTC</td>\n",
       "      <td>SWEEPING</td>\n",
       "      <td>NaN</td>\n",
       "      <td>ONION CREEK</td>\n",
       "    </tr>\n",
       "    <tr>\n",
       "      <th>4</th>\n",
       "      <td>2021-01-02</td>\n",
       "      <td>2021-01-02 09:24:00 UTC</td>\n",
       "      <td>TIRES</td>\n",
       "      <td>1,640.00</td>\n",
       "      <td>MRF</td>\n",
       "    </tr>\n",
       "  </tbody>\n",
       "</table>\n",
       "</div>"
      ],
      "text/plain": [
       "  report_date                load_time load_type  load_weight dropoff_site\n",
       "0  2021-01-01  2021-01-01 12:00:00 UTC  SWEEPING          NaN  ONION CREEK\n",
       "1  2021-01-01  2021-01-01 12:00:00 UTC  SWEEPING          NaN  ONION CREEK\n",
       "2  2021-01-01  2021-01-01 12:00:00 UTC  SWEEPING          NaN  ONION CREEK\n",
       "3  2021-01-01  2021-01-01 12:00:00 UTC  SWEEPING          NaN  ONION CREEK\n",
       "4  2021-01-02  2021-01-02 09:24:00 UTC     TIRES     1,640.00          MRF"
      ]
     },
     "execution_count": 5,
     "metadata": {},
     "output_type": "execute_result"
    }
   ],
   "source": [
    "df.head() # menampilkan 5 data teratas"
   ]
  },
  {
   "cell_type": "code",
   "execution_count": 6,
   "metadata": {},
   "outputs": [
    {
     "data": {
      "text/html": [
       "<div>\n",
       "<style scoped>\n",
       "    .dataframe tbody tr th:only-of-type {\n",
       "        vertical-align: middle;\n",
       "    }\n",
       "\n",
       "    .dataframe tbody tr th {\n",
       "        vertical-align: top;\n",
       "    }\n",
       "\n",
       "    .dataframe thead th {\n",
       "        text-align: right;\n",
       "    }\n",
       "</style>\n",
       "<table border=\"1\" class=\"dataframe\">\n",
       "  <thead>\n",
       "    <tr style=\"text-align: right;\">\n",
       "      <th></th>\n",
       "      <th>report_date</th>\n",
       "      <th>load_time</th>\n",
       "      <th>load_type</th>\n",
       "      <th>load_weight</th>\n",
       "      <th>dropoff_site</th>\n",
       "    </tr>\n",
       "  </thead>\n",
       "  <tbody>\n",
       "    <tr>\n",
       "      <th>26152</th>\n",
       "      <td>2021-07-09</td>\n",
       "      <td>2021-07-09 09:48:00 UTC</td>\n",
       "      <td>BRUSH</td>\n",
       "      <td>8,240.00</td>\n",
       "      <td>HORNSBY BEND</td>\n",
       "    </tr>\n",
       "    <tr>\n",
       "      <th>26153</th>\n",
       "      <td>2021-07-09</td>\n",
       "      <td>2021-07-09 12:02:00 UTC</td>\n",
       "      <td>BRUSH</td>\n",
       "      <td>4,160.00</td>\n",
       "      <td>HORNSBY BEND</td>\n",
       "    </tr>\n",
       "    <tr>\n",
       "      <th>26154</th>\n",
       "      <td>2021-07-09</td>\n",
       "      <td>2021-07-09 11:55:00 UTC</td>\n",
       "      <td>BRUSH</td>\n",
       "      <td>4,340.00</td>\n",
       "      <td>HORNSBY BEND</td>\n",
       "    </tr>\n",
       "    <tr>\n",
       "      <th>26155</th>\n",
       "      <td>2021-07-09</td>\n",
       "      <td>2021-07-09 12:00:00 UTC</td>\n",
       "      <td>LITTER</td>\n",
       "      <td>1,900.00</td>\n",
       "      <td>TDS LANDFILL</td>\n",
       "    </tr>\n",
       "    <tr>\n",
       "      <th>26156</th>\n",
       "      <td>2021-07-09</td>\n",
       "      <td>2021-07-09 12:00:00 UTC</td>\n",
       "      <td>LITTER</td>\n",
       "      <td>3,040.00</td>\n",
       "      <td>TDS LANDFILL</td>\n",
       "    </tr>\n",
       "  </tbody>\n",
       "</table>\n",
       "</div>"
      ],
      "text/plain": [
       "      report_date                load_time load_type  load_weight  \\\n",
       "26152  2021-07-09  2021-07-09 09:48:00 UTC     BRUSH     8,240.00   \n",
       "26153  2021-07-09  2021-07-09 12:02:00 UTC     BRUSH     4,160.00   \n",
       "26154  2021-07-09  2021-07-09 11:55:00 UTC     BRUSH     4,340.00   \n",
       "26155  2021-07-09  2021-07-09 12:00:00 UTC    LITTER     1,900.00   \n",
       "26156  2021-07-09  2021-07-09 12:00:00 UTC    LITTER     3,040.00   \n",
       "\n",
       "       dropoff_site  \n",
       "26152  HORNSBY BEND  \n",
       "26153  HORNSBY BEND  \n",
       "26154  HORNSBY BEND  \n",
       "26155  TDS LANDFILL  \n",
       "26156  TDS LANDFILL  "
      ]
     },
     "execution_count": 6,
     "metadata": {},
     "output_type": "execute_result"
    }
   ],
   "source": [
    "df.tail() # menampilkan 5 data terbawah"
   ]
  },
  {
   "attachments": {},
   "cell_type": "markdown",
   "metadata": {},
   "source": [
    "## Data Cleaning"
   ]
  },
  {
   "cell_type": "code",
   "execution_count": 7,
   "metadata": {},
   "outputs": [
    {
     "name": "stdout",
     "output_type": "stream",
     "text": [
      "<class 'pandas.core.frame.DataFrame'>\n",
      "RangeIndex: 26157 entries, 0 to 26156\n",
      "Data columns (total 5 columns):\n",
      " #   Column        Non-Null Count  Dtype  \n",
      "---  ------        --------------  -----  \n",
      " 0   report_date   26157 non-null  object \n",
      " 1   load_time     26157 non-null  object \n",
      " 2   load_type     26157 non-null  object \n",
      " 3   load_weight   25109 non-null  float64\n",
      " 4   dropoff_site  26157 non-null  object \n",
      "dtypes: float64(1), object(4)\n",
      "memory usage: 1021.9+ KB\n"
     ]
    }
   ],
   "source": [
    "df.info() # menampilkan info mengenai dataset"
   ]
  },
  {
   "attachments": {},
   "cell_type": "markdown",
   "metadata": {},
   "source": [
    "Terdapat 26157 total entri data, dimana semua kolom memiliki entri yang penuh terisi kecuali kolom \"load_weight\""
   ]
  },
  {
   "cell_type": "code",
   "execution_count": 8,
   "metadata": {},
   "outputs": [
    {
     "data": {
      "text/plain": [
       "report_date        0\n",
       "load_time          0\n",
       "load_type          0\n",
       "load_weight     1048\n",
       "dropoff_site       0\n",
       "dtype: int64"
      ]
     },
     "execution_count": 8,
     "metadata": {},
     "output_type": "execute_result"
    }
   ],
   "source": [
    "df.isnull().sum() # menampilkan jumlah missing value berdasarkan tiap kolomnya"
   ]
  },
  {
   "attachments": {},
   "cell_type": "markdown",
   "metadata": {},
   "source": [
    "Terlihat adanya 1048 missing values pada kolom load_weight"
   ]
  },
  {
   "cell_type": "code",
   "execution_count": 9,
   "metadata": {},
   "outputs": [
    {
     "name": "stdout",
     "output_type": "stream",
     "text": [
      "Skewness value :  3.335938213321684\n"
     ]
    },
    {
     "data": {
      "image/png": "[encoded data removed]",
      "text/plain": [
       "<Figure size 1000x500 with 1 Axes>"
      ]
     },
     "metadata": {},
     "output_type": "display_data"
    }
   ],
   "source": [
    "df['load_weight'].hist(bins=500, figsize=(10,5), color='maroon')\n",
    "print('Skewness value : ', df['load_weight'].skew())"
   ]
  },
  {
   "attachments": {},
   "cell_type": "markdown",
   "metadata": {},
   "source": [
    "Nilai kemiringan/skewness > 1 yang berarti fitur tersebut sangatlah miring (highly skewed) yang berarti mengisi missing valuesnya dengan nilai median."
   ]
  },
  {
   "cell_type": "code",
   "execution_count": 10,
   "metadata": {},
   "outputs": [],
   "source": [
    "df['load_weight'].fillna(df['load_weight'].median(), inplace=True) # mengisi missing value dengan nilai median kolom/fitur tersebut"
   ]
  },
  {
   "cell_type": "code",
   "execution_count": 11,
   "metadata": {},
   "outputs": [
    {
     "data": {
      "text/plain": [
       "report_date     0\n",
       "load_time       0\n",
       "load_type       0\n",
       "load_weight     0\n",
       "dropoff_site    0\n",
       "dtype: int64"
      ]
     },
     "execution_count": 11,
     "metadata": {},
     "output_type": "execute_result"
    }
   ],
   "source": [
    "df.isnull().sum() # menampilkan jumlah missing value berdasarkan tiap kolomnya"
   ]
  },
  {
   "attachments": {},
   "cell_type": "markdown",
   "metadata": {},
   "source": [
    "Terlihat sudah tidak ada missing values, dan data siap di eksplorasi."
   ]
  },
  {
   "attachments": {},
   "cell_type": "markdown",
   "metadata": {},
   "source": [
    "## Data Exploration"
   ]
  },
  {
   "attachments": {},
   "cell_type": "markdown",
   "metadata": {},
   "source": [
    "Menampilkan semua jenis sampah dari dataset"
   ]
  },
  {
   "cell_type": "code",
   "execution_count": 12,
   "metadata": {},
   "outputs": [
    {
     "data": {
      "text/html": [
       "<div>\n",
       "<style scoped>\n",
       "    .dataframe tbody tr th:only-of-type {\n",
       "        vertical-align: middle;\n",
       "    }\n",
       "\n",
       "    .dataframe tbody tr th {\n",
       "        vertical-align: top;\n",
       "    }\n",
       "\n",
       "    .dataframe thead th {\n",
       "        text-align: right;\n",
       "    }\n",
       "</style>\n",
       "<table border=\"1\" class=\"dataframe\">\n",
       "  <thead>\n",
       "    <tr style=\"text-align: right;\">\n",
       "      <th></th>\n",
       "      <th>0</th>\n",
       "    </tr>\n",
       "  </thead>\n",
       "  <tbody>\n",
       "    <tr>\n",
       "      <th>0</th>\n",
       "      <td>SWEEPING</td>\n",
       "    </tr>\n",
       "    <tr>\n",
       "      <th>1</th>\n",
       "      <td>TIRES</td>\n",
       "    </tr>\n",
       "    <tr>\n",
       "      <th>2</th>\n",
       "      <td>RECYCLING - SINGLE STREAM</td>\n",
       "    </tr>\n",
       "    <tr>\n",
       "      <th>3</th>\n",
       "      <td>YARD TRIMMING</td>\n",
       "    </tr>\n",
       "    <tr>\n",
       "      <th>4</th>\n",
       "      <td>BULK</td>\n",
       "    </tr>\n",
       "    <tr>\n",
       "      <th>5</th>\n",
       "      <td>DEAD ANIMAL</td>\n",
       "    </tr>\n",
       "    <tr>\n",
       "      <th>6</th>\n",
       "      <td>GARBAGE COLLECTIONS</td>\n",
       "    </tr>\n",
       "    <tr>\n",
       "      <th>7</th>\n",
       "      <td>MIXED LITTER</td>\n",
       "    </tr>\n",
       "    <tr>\n",
       "      <th>8</th>\n",
       "      <td>ORGANICS</td>\n",
       "    </tr>\n",
       "    <tr>\n",
       "      <th>9</th>\n",
       "      <td>BRUSH</td>\n",
       "    </tr>\n",
       "    <tr>\n",
       "      <th>10</th>\n",
       "      <td>RECYCLED METAL</td>\n",
       "    </tr>\n",
       "    <tr>\n",
       "      <th>11</th>\n",
       "      <td>LITTER</td>\n",
       "    </tr>\n",
       "    <tr>\n",
       "      <th>12</th>\n",
       "      <td>CONTAMINATED RECYCLING</td>\n",
       "    </tr>\n",
       "    <tr>\n",
       "      <th>13</th>\n",
       "      <td>CONTAMINATED ORGANICS</td>\n",
       "    </tr>\n",
       "  </tbody>\n",
       "</table>\n",
       "</div>"
      ],
      "text/plain": [
       "                            0\n",
       "0                    SWEEPING\n",
       "1                       TIRES\n",
       "2   RECYCLING - SINGLE STREAM\n",
       "3               YARD TRIMMING\n",
       "4                        BULK\n",
       "5                 DEAD ANIMAL\n",
       "6         GARBAGE COLLECTIONS\n",
       "7                MIXED LITTER\n",
       "8                    ORGANICS\n",
       "9                       BRUSH\n",
       "10             RECYCLED METAL\n",
       "11                     LITTER\n",
       "12     CONTAMINATED RECYCLING\n",
       "13      CONTAMINATED ORGANICS"
      ]
     },
     "execution_count": 12,
     "metadata": {},
     "output_type": "execute_result"
    }
   ],
   "source": [
    "pd.DataFrame(df['load_type'].unique())"
   ]
  },
  {
   "attachments": {},
   "cell_type": "markdown",
   "metadata": {},
   "source": [
    "Menampilkan semua lokasi pembuangan sampah"
   ]
  },
  {
   "cell_type": "code",
   "execution_count": 13,
   "metadata": {},
   "outputs": [
    {
     "data": {
      "text/html": [
       "<div>\n",
       "<style scoped>\n",
       "    .dataframe tbody tr th:only-of-type {\n",
       "        vertical-align: middle;\n",
       "    }\n",
       "\n",
       "    .dataframe tbody tr th {\n",
       "        vertical-align: top;\n",
       "    }\n",
       "\n",
       "    .dataframe thead th {\n",
       "        text-align: right;\n",
       "    }\n",
       "</style>\n",
       "<table border=\"1\" class=\"dataframe\">\n",
       "  <thead>\n",
       "    <tr style=\"text-align: right;\">\n",
       "      <th></th>\n",
       "      <th>0</th>\n",
       "    </tr>\n",
       "  </thead>\n",
       "  <tbody>\n",
       "    <tr>\n",
       "      <th>0</th>\n",
       "      <td>ONION CREEK</td>\n",
       "    </tr>\n",
       "    <tr>\n",
       "      <th>1</th>\n",
       "      <td>MRF</td>\n",
       "    </tr>\n",
       "    <tr>\n",
       "      <th>2</th>\n",
       "      <td>TDS - MRF</td>\n",
       "    </tr>\n",
       "    <tr>\n",
       "      <th>3</th>\n",
       "      <td>HORNSBY BEND</td>\n",
       "    </tr>\n",
       "    <tr>\n",
       "      <th>4</th>\n",
       "      <td>TDS LANDFILL</td>\n",
       "    </tr>\n",
       "    <tr>\n",
       "      <th>5</th>\n",
       "      <td>ORGANICS BY GOSH</td>\n",
       "    </tr>\n",
       "    <tr>\n",
       "      <th>6</th>\n",
       "      <td>BALCONES RECYCLING</td>\n",
       "    </tr>\n",
       "    <tr>\n",
       "      <th>7</th>\n",
       "      <td>AUSTIN IRON AND METAL</td>\n",
       "    </tr>\n",
       "    <tr>\n",
       "      <th>8</th>\n",
       "      <td>PARK CENTER</td>\n",
       "    </tr>\n",
       "    <tr>\n",
       "      <th>9</th>\n",
       "      <td>ON ROUTE HIGH DUMP</td>\n",
       "    </tr>\n",
       "    <tr>\n",
       "      <th>10</th>\n",
       "      <td>WILCAB</td>\n",
       "    </tr>\n",
       "    <tr>\n",
       "      <th>11</th>\n",
       "      <td>GREAT NORTHERN</td>\n",
       "    </tr>\n",
       "    <tr>\n",
       "      <th>12</th>\n",
       "      <td>AUSTIN WOOD RECYCLING</td>\n",
       "    </tr>\n",
       "    <tr>\n",
       "      <th>13</th>\n",
       "      <td>PARK BEND</td>\n",
       "    </tr>\n",
       "    <tr>\n",
       "      <th>14</th>\n",
       "      <td>BALCONES WOODS</td>\n",
       "    </tr>\n",
       "    <tr>\n",
       "      <th>15</th>\n",
       "      <td>STEINER LANDFILL</td>\n",
       "    </tr>\n",
       "    <tr>\n",
       "      <th>16</th>\n",
       "      <td>WESTFIELD</td>\n",
       "    </tr>\n",
       "    <tr>\n",
       "      <th>17</th>\n",
       "      <td>ST. EDWARDS</td>\n",
       "    </tr>\n",
       "  </tbody>\n",
       "</table>\n",
       "</div>"
      ],
      "text/plain": [
       "                        0\n",
       "0             ONION CREEK\n",
       "1                     MRF\n",
       "2               TDS - MRF\n",
       "3            HORNSBY BEND\n",
       "4            TDS LANDFILL\n",
       "5        ORGANICS BY GOSH\n",
       "6      BALCONES RECYCLING\n",
       "7   AUSTIN IRON AND METAL\n",
       "8             PARK CENTER\n",
       "9      ON ROUTE HIGH DUMP\n",
       "10                 WILCAB\n",
       "11         GREAT NORTHERN\n",
       "12  AUSTIN WOOD RECYCLING\n",
       "13              PARK BEND\n",
       "14         BALCONES WOODS\n",
       "15       STEINER LANDFILL\n",
       "16              WESTFIELD\n",
       "17            ST. EDWARDS"
      ]
     },
     "execution_count": 13,
     "metadata": {},
     "output_type": "execute_result"
    }
   ],
   "source": [
    "pd.DataFrame(df['dropoff_site'].unique())"
   ]
  },
  {
   "attachments": {},
   "cell_type": "markdown",
   "metadata": {},
   "source": [
    "Menampilkan jenis sampah yang ada pada tiap lokasi pembuangan sampah"
   ]
  },
  {
   "cell_type": "code",
   "execution_count": 14,
   "metadata": {},
   "outputs": [
    {
     "data": {
      "text/html": [
       "<div>\n",
       "<style scoped>\n",
       "    .dataframe tbody tr th:only-of-type {\n",
       "        vertical-align: middle;\n",
       "    }\n",
       "\n",
       "    .dataframe tbody tr th {\n",
       "        vertical-align: top;\n",
       "    }\n",
       "\n",
       "    .dataframe thead th {\n",
       "        text-align: right;\n",
       "    }\n",
       "</style>\n",
       "<table border=\"1\" class=\"dataframe\">\n",
       "  <thead>\n",
       "    <tr style=\"text-align: right;\">\n",
       "      <th></th>\n",
       "      <th></th>\n",
       "    </tr>\n",
       "    <tr>\n",
       "      <th>dropoff_site</th>\n",
       "      <th>load_type</th>\n",
       "    </tr>\n",
       "  </thead>\n",
       "  <tbody>\n",
       "    <tr>\n",
       "      <th>AUSTIN IRON AND METAL</th>\n",
       "      <th>RECYCLED METAL</th>\n",
       "    </tr>\n",
       "    <tr>\n",
       "      <th>AUSTIN WOOD RECYCLING</th>\n",
       "      <th>RECYCLING - SINGLE STREAM</th>\n",
       "    </tr>\n",
       "    <tr>\n",
       "      <th>BALCONES RECYCLING</th>\n",
       "      <th>RECYCLING - SINGLE STREAM</th>\n",
       "    </tr>\n",
       "    <tr>\n",
       "      <th>BALCONES WOODS</th>\n",
       "      <th>RECYCLING - SINGLE STREAM</th>\n",
       "    </tr>\n",
       "    <tr>\n",
       "      <th rowspan=\"2\" valign=\"top\">GREAT NORTHERN</th>\n",
       "      <th>GARBAGE COLLECTIONS</th>\n",
       "    </tr>\n",
       "    <tr>\n",
       "      <th>SWEEPING</th>\n",
       "    </tr>\n",
       "    <tr>\n",
       "      <th rowspan=\"4\" valign=\"top\">HORNSBY BEND</th>\n",
       "      <th>BRUSH</th>\n",
       "    </tr>\n",
       "    <tr>\n",
       "      <th>GARBAGE COLLECTIONS</th>\n",
       "    </tr>\n",
       "    <tr>\n",
       "      <th>ORGANICS</th>\n",
       "    </tr>\n",
       "    <tr>\n",
       "      <th>YARD TRIMMING</th>\n",
       "    </tr>\n",
       "    <tr>\n",
       "      <th rowspan=\"3\" valign=\"top\">MRF</th>\n",
       "      <th>BULK</th>\n",
       "    </tr>\n",
       "    <tr>\n",
       "      <th>RECYCLED METAL</th>\n",
       "    </tr>\n",
       "    <tr>\n",
       "      <th>TIRES</th>\n",
       "    </tr>\n",
       "    <tr>\n",
       "      <th rowspan=\"2\" valign=\"top\">ON ROUTE HIGH DUMP</th>\n",
       "      <th>ORGANICS</th>\n",
       "    </tr>\n",
       "    <tr>\n",
       "      <th>SWEEPING</th>\n",
       "    </tr>\n",
       "    <tr>\n",
       "      <th>ONION CREEK</th>\n",
       "      <th>SWEEPING</th>\n",
       "    </tr>\n",
       "    <tr>\n",
       "      <th rowspan=\"5\" valign=\"top\">ORGANICS BY GOSH</th>\n",
       "      <th>DEAD ANIMAL</th>\n",
       "    </tr>\n",
       "    <tr>\n",
       "      <th>GARBAGE COLLECTIONS</th>\n",
       "    </tr>\n",
       "    <tr>\n",
       "      <th>ORGANICS</th>\n",
       "    </tr>\n",
       "    <tr>\n",
       "      <th>RECYCLED METAL</th>\n",
       "    </tr>\n",
       "    <tr>\n",
       "      <th>SWEEPING</th>\n",
       "    </tr>\n",
       "    <tr>\n",
       "      <th>PARK BEND</th>\n",
       "      <th>ORGANICS</th>\n",
       "    </tr>\n",
       "    <tr>\n",
       "      <th>PARK CENTER</th>\n",
       "      <th>SWEEPING</th>\n",
       "    </tr>\n",
       "    <tr>\n",
       "      <th>ST. EDWARDS</th>\n",
       "      <th>SWEEPING</th>\n",
       "    </tr>\n",
       "    <tr>\n",
       "      <th>STEINER LANDFILL</th>\n",
       "      <th>GARBAGE COLLECTIONS</th>\n",
       "    </tr>\n",
       "    <tr>\n",
       "      <th rowspan=\"4\" valign=\"top\">TDS - MRF</th>\n",
       "      <th>BULK</th>\n",
       "    </tr>\n",
       "    <tr>\n",
       "      <th>GARBAGE COLLECTIONS</th>\n",
       "    </tr>\n",
       "    <tr>\n",
       "      <th>LITTER</th>\n",
       "    </tr>\n",
       "    <tr>\n",
       "      <th>RECYCLING - SINGLE STREAM</th>\n",
       "    </tr>\n",
       "    <tr>\n",
       "      <th rowspan=\"13\" valign=\"top\">TDS LANDFILL</th>\n",
       "      <th>BRUSH</th>\n",
       "    </tr>\n",
       "    <tr>\n",
       "      <th>BULK</th>\n",
       "    </tr>\n",
       "    <tr>\n",
       "      <th>CONTAMINATED ORGANICS</th>\n",
       "    </tr>\n",
       "    <tr>\n",
       "      <th>CONTAMINATED RECYCLING</th>\n",
       "    </tr>\n",
       "    <tr>\n",
       "      <th>DEAD ANIMAL</th>\n",
       "    </tr>\n",
       "    <tr>\n",
       "      <th>GARBAGE COLLECTIONS</th>\n",
       "    </tr>\n",
       "    <tr>\n",
       "      <th>LITTER</th>\n",
       "    </tr>\n",
       "    <tr>\n",
       "      <th>MIXED LITTER</th>\n",
       "    </tr>\n",
       "    <tr>\n",
       "      <th>ORGANICS</th>\n",
       "    </tr>\n",
       "    <tr>\n",
       "      <th>RECYCLED METAL</th>\n",
       "    </tr>\n",
       "    <tr>\n",
       "      <th>RECYCLING - SINGLE STREAM</th>\n",
       "    </tr>\n",
       "    <tr>\n",
       "      <th>SWEEPING</th>\n",
       "    </tr>\n",
       "    <tr>\n",
       "      <th>TIRES</th>\n",
       "    </tr>\n",
       "    <tr>\n",
       "      <th>WESTFIELD</th>\n",
       "      <th>GARBAGE COLLECTIONS</th>\n",
       "    </tr>\n",
       "    <tr>\n",
       "      <th>WILCAB</th>\n",
       "      <th>SWEEPING</th>\n",
       "    </tr>\n",
       "  </tbody>\n",
       "</table>\n",
       "</div>"
      ],
      "text/plain": [
       "Empty DataFrame\n",
       "Columns: []\n",
       "Index: [(AUSTIN IRON AND METAL, RECYCLED METAL), (AUSTIN WOOD RECYCLING, RECYCLING - SINGLE STREAM), (BALCONES RECYCLING, RECYCLING - SINGLE STREAM), (BALCONES WOODS, RECYCLING - SINGLE STREAM), (GREAT NORTHERN, GARBAGE COLLECTIONS), (GREAT NORTHERN, SWEEPING), (HORNSBY BEND, BRUSH), (HORNSBY BEND, GARBAGE COLLECTIONS), (HORNSBY BEND, ORGANICS), (HORNSBY BEND, YARD TRIMMING), (MRF, BULK), (MRF, RECYCLED METAL), (MRF, TIRES), (ON ROUTE HIGH DUMP, ORGANICS), (ON ROUTE HIGH DUMP, SWEEPING), (ONION CREEK, SWEEPING), (ORGANICS BY GOSH, DEAD ANIMAL), (ORGANICS BY GOSH, GARBAGE COLLECTIONS), (ORGANICS BY GOSH, ORGANICS), (ORGANICS BY GOSH, RECYCLED METAL), (ORGANICS BY GOSH, SWEEPING), (PARK BEND, ORGANICS), (PARK CENTER, SWEEPING), (ST. EDWARDS, SWEEPING), (STEINER LANDFILL, GARBAGE COLLECTIONS), (TDS - MRF, BULK), (TDS - MRF, GARBAGE COLLECTIONS), (TDS - MRF, LITTER), (TDS - MRF, RECYCLING - SINGLE STREAM), (TDS LANDFILL, BRUSH), (TDS LANDFILL, BULK), (TDS LANDFILL, CONTAMINATED ORGANICS), (TDS LANDFILL, CONTAMINATED RECYCLING), (TDS LANDFILL, DEAD ANIMAL), (TDS LANDFILL, GARBAGE COLLECTIONS), (TDS LANDFILL, LITTER), (TDS LANDFILL, MIXED LITTER), (TDS LANDFILL, ORGANICS), (TDS LANDFILL, RECYCLED METAL), (TDS LANDFILL, RECYCLING - SINGLE STREAM), (TDS LANDFILL, SWEEPING), (TDS LANDFILL, TIRES), (WESTFIELD, GARBAGE COLLECTIONS), (WILCAB, SWEEPING)]"
      ]
     },
     "execution_count": 14,
     "metadata": {},
     "output_type": "execute_result"
    }
   ],
   "source": [
    "df[['dropoff_site','load_type']].groupby(['dropoff_site','load_type']).sum()"
   ]
  },
  {
   "attachments": {},
   "cell_type": "markdown",
   "metadata": {},
   "source": [
    "Menampilkan akumulasi sampah pada tiap lokasi pada periode (01 Januari - 19 Juli 2021)."
   ]
  },
  {
   "cell_type": "code",
   "execution_count": 15,
   "metadata": {},
   "outputs": [
    {
     "data": {
      "text/html": [
       "<div>\n",
       "<style scoped>\n",
       "    .dataframe tbody tr th:only-of-type {\n",
       "        vertical-align: middle;\n",
       "    }\n",
       "\n",
       "    .dataframe tbody tr th {\n",
       "        vertical-align: top;\n",
       "    }\n",
       "\n",
       "    .dataframe thead th {\n",
       "        text-align: right;\n",
       "    }\n",
       "</style>\n",
       "<table border=\"1\" class=\"dataframe\">\n",
       "  <thead>\n",
       "    <tr style=\"text-align: right;\">\n",
       "      <th></th>\n",
       "      <th>load_weight</th>\n",
       "    </tr>\n",
       "    <tr>\n",
       "      <th>dropoff_site</th>\n",
       "      <th></th>\n",
       "    </tr>\n",
       "  </thead>\n",
       "  <tbody>\n",
       "    <tr>\n",
       "      <th>AUSTIN IRON AND METAL</th>\n",
       "      <td>22,560.00</td>\n",
       "    </tr>\n",
       "    <tr>\n",
       "      <th>AUSTIN WOOD RECYCLING</th>\n",
       "      <td>8,100.00</td>\n",
       "    </tr>\n",
       "    <tr>\n",
       "      <th>BALCONES RECYCLING</th>\n",
       "      <td>36,315,870.00</td>\n",
       "    </tr>\n",
       "    <tr>\n",
       "      <th>BALCONES WOODS</th>\n",
       "      <td>8,460.00</td>\n",
       "    </tr>\n",
       "    <tr>\n",
       "      <th>GREAT NORTHERN</th>\n",
       "      <td>838,120.00</td>\n",
       "    </tr>\n",
       "    <tr>\n",
       "      <th>HORNSBY BEND</th>\n",
       "      <td>10,984,420.00</td>\n",
       "    </tr>\n",
       "    <tr>\n",
       "      <th>MRF</th>\n",
       "      <td>302,397.00</td>\n",
       "    </tr>\n",
       "    <tr>\n",
       "      <th>ON ROUTE HIGH DUMP</th>\n",
       "      <td>923,880.00</td>\n",
       "    </tr>\n",
       "    <tr>\n",
       "      <th>ONION CREEK</th>\n",
       "      <td>9,186,900.00</td>\n",
       "    </tr>\n",
       "    <tr>\n",
       "      <th>ORGANICS BY GOSH</th>\n",
       "      <td>68,008,106.00</td>\n",
       "    </tr>\n",
       "    <tr>\n",
       "      <th>PARK BEND</th>\n",
       "      <td>53,540.00</td>\n",
       "    </tr>\n",
       "    <tr>\n",
       "      <th>PARK CENTER</th>\n",
       "      <td>847,500.00</td>\n",
       "    </tr>\n",
       "    <tr>\n",
       "      <th>ST. EDWARDS</th>\n",
       "      <td>11,300.00</td>\n",
       "    </tr>\n",
       "    <tr>\n",
       "      <th>STEINER LANDFILL</th>\n",
       "      <td>780.00</td>\n",
       "    </tr>\n",
       "    <tr>\n",
       "      <th>TDS - MRF</th>\n",
       "      <td>29,104,280.00</td>\n",
       "    </tr>\n",
       "    <tr>\n",
       "      <th>TDS LANDFILL</th>\n",
       "      <td>162,210,032.54</td>\n",
       "    </tr>\n",
       "    <tr>\n",
       "      <th>WESTFIELD</th>\n",
       "      <td>16,020.00</td>\n",
       "    </tr>\n",
       "    <tr>\n",
       "      <th>WILCAB</th>\n",
       "      <td>11,300.00</td>\n",
       "    </tr>\n",
       "  </tbody>\n",
       "</table>\n",
       "</div>"
      ],
      "text/plain": [
       "                         load_weight\n",
       "dropoff_site                        \n",
       "AUSTIN IRON AND METAL      22,560.00\n",
       "AUSTIN WOOD RECYCLING       8,100.00\n",
       "BALCONES RECYCLING     36,315,870.00\n",
       "BALCONES WOODS              8,460.00\n",
       "GREAT NORTHERN            838,120.00\n",
       "HORNSBY BEND           10,984,420.00\n",
       "MRF                       302,397.00\n",
       "ON ROUTE HIGH DUMP        923,880.00\n",
       "ONION CREEK             9,186,900.00\n",
       "ORGANICS BY GOSH       68,008,106.00\n",
       "PARK BEND                  53,540.00\n",
       "PARK CENTER               847,500.00\n",
       "ST. EDWARDS                11,300.00\n",
       "STEINER LANDFILL              780.00\n",
       "TDS - MRF              29,104,280.00\n",
       "TDS LANDFILL          162,210,032.54\n",
       "WESTFIELD                  16,020.00\n",
       "WILCAB                     11,300.00"
      ]
     },
     "execution_count": 15,
     "metadata": {},
     "output_type": "execute_result"
    }
   ],
   "source": [
    "df[['dropoff_site','load_weight']].groupby('dropoff_site').sum()"
   ]
  },
  {
   "cell_type": "code",
   "execution_count": 16,
   "metadata": {},
   "outputs": [],
   "source": [
    "df['report_date'] = pd.to_datetime(df['report_date']) #convert report_date into pandas datetime"
   ]
  },
  {
   "attachments": {},
   "cell_type": "markdown",
   "metadata": {},
   "source": [
    "Menampilkan akumulasi sampah bulanan pada setiap site."
   ]
  },
  {
   "cell_type": "code",
   "execution_count": 17,
   "metadata": {},
   "outputs": [
    {
     "name": "stderr",
     "output_type": "stream",
     "text": [
      "/var/folders/lv/63lr74g926b4flfb_7npy3m40000gn/T/ipykernel_50417/3124192474.py:1: FutureWarning: The default value of numeric_only in DataFrameGroupBy.sum is deprecated. In a future version, numeric_only will default to False. Either specify numeric_only or select only columns which should be valid for the function.\n",
      "  df_monthly = df.groupby(['dropoff_site',pd.Grouper(key='report_date',freq='1M')]).sum()\n"
     ]
    },
    {
     "data": {
      "text/html": [
       "<div>\n",
       "<style scoped>\n",
       "    .dataframe tbody tr th:only-of-type {\n",
       "        vertical-align: middle;\n",
       "    }\n",
       "\n",
       "    .dataframe tbody tr th {\n",
       "        vertical-align: top;\n",
       "    }\n",
       "\n",
       "    .dataframe thead th {\n",
       "        text-align: right;\n",
       "    }\n",
       "</style>\n",
       "<table border=\"1\" class=\"dataframe\">\n",
       "  <thead>\n",
       "    <tr style=\"text-align: right;\">\n",
       "      <th></th>\n",
       "      <th></th>\n",
       "      <th>load_weight</th>\n",
       "    </tr>\n",
       "    <tr>\n",
       "      <th>dropoff_site</th>\n",
       "      <th>report_date</th>\n",
       "      <th></th>\n",
       "    </tr>\n",
       "  </thead>\n",
       "  <tbody>\n",
       "    <tr>\n",
       "      <th rowspan=\"5\" valign=\"top\">AUSTIN IRON AND METAL</th>\n",
       "      <th>2021-01-31</th>\n",
       "      <td>1,950.00</td>\n",
       "    </tr>\n",
       "    <tr>\n",
       "      <th>2021-02-28</th>\n",
       "      <td>1,890.00</td>\n",
       "    </tr>\n",
       "    <tr>\n",
       "      <th>2021-03-31</th>\n",
       "      <td>3,970.00</td>\n",
       "    </tr>\n",
       "    <tr>\n",
       "      <th>2021-04-30</th>\n",
       "      <td>3,410.00</td>\n",
       "    </tr>\n",
       "    <tr>\n",
       "      <th>2021-05-31</th>\n",
       "      <td>6,230.00</td>\n",
       "    </tr>\n",
       "    <tr>\n",
       "      <th>...</th>\n",
       "      <th>...</th>\n",
       "      <td>...</td>\n",
       "    </tr>\n",
       "    <tr>\n",
       "      <th rowspan=\"3\" valign=\"top\">TDS LANDFILL</th>\n",
       "      <th>2021-05-31</th>\n",
       "      <td>27,147,777.00</td>\n",
       "    </tr>\n",
       "    <tr>\n",
       "      <th>2021-06-30</th>\n",
       "      <td>27,708,990.30</td>\n",
       "    </tr>\n",
       "    <tr>\n",
       "      <th>2021-07-31</th>\n",
       "      <td>6,843,450.00</td>\n",
       "    </tr>\n",
       "    <tr>\n",
       "      <th>WESTFIELD</th>\n",
       "      <th>2021-05-31</th>\n",
       "      <td>16,020.00</td>\n",
       "    </tr>\n",
       "    <tr>\n",
       "      <th>WILCAB</th>\n",
       "      <th>2021-01-31</th>\n",
       "      <td>11,300.00</td>\n",
       "    </tr>\n",
       "  </tbody>\n",
       "</table>\n",
       "<p>84 rows × 1 columns</p>\n",
       "</div>"
      ],
      "text/plain": [
       "                                    load_weight\n",
       "dropoff_site          report_date              \n",
       "AUSTIN IRON AND METAL 2021-01-31       1,950.00\n",
       "                      2021-02-28       1,890.00\n",
       "                      2021-03-31       3,970.00\n",
       "                      2021-04-30       3,410.00\n",
       "                      2021-05-31       6,230.00\n",
       "...                                         ...\n",
       "TDS LANDFILL          2021-05-31  27,147,777.00\n",
       "                      2021-06-30  27,708,990.30\n",
       "                      2021-07-31   6,843,450.00\n",
       "WESTFIELD             2021-05-31      16,020.00\n",
       "WILCAB                2021-01-31      11,300.00\n",
       "\n",
       "[84 rows x 1 columns]"
      ]
     },
     "execution_count": 17,
     "metadata": {},
     "output_type": "execute_result"
    }
   ],
   "source": [
    "df_monthly = df.groupby(['dropoff_site',pd.Grouper(key='report_date',freq='1M')]).sum()\n",
    "df_monthly"
   ]
  },
  {
   "attachments": {},
   "cell_type": "markdown",
   "metadata": {},
   "source": [
    "Menampilkan site dengan sampah bulanan terbesar."
   ]
  },
  {
   "cell_type": "code",
   "execution_count": 18,
   "metadata": {},
   "outputs": [
    {
     "data": {
      "text/html": [
       "<div>\n",
       "<style scoped>\n",
       "    .dataframe tbody tr th:only-of-type {\n",
       "        vertical-align: middle;\n",
       "    }\n",
       "\n",
       "    .dataframe tbody tr th {\n",
       "        vertical-align: top;\n",
       "    }\n",
       "\n",
       "    .dataframe thead th {\n",
       "        text-align: right;\n",
       "    }\n",
       "</style>\n",
       "<table border=\"1\" class=\"dataframe\">\n",
       "  <thead>\n",
       "    <tr style=\"text-align: right;\">\n",
       "      <th></th>\n",
       "      <th></th>\n",
       "      <th>load_weight</th>\n",
       "    </tr>\n",
       "    <tr>\n",
       "      <th>dropoff_site</th>\n",
       "      <th>report_date</th>\n",
       "      <th></th>\n",
       "    </tr>\n",
       "  </thead>\n",
       "  <tbody>\n",
       "    <tr>\n",
       "      <th>TDS LANDFILL</th>\n",
       "      <th>2021-06-30</th>\n",
       "      <td>27,708,990.30</td>\n",
       "    </tr>\n",
       "  </tbody>\n",
       "</table>\n",
       "</div>"
      ],
      "text/plain": [
       "                           load_weight\n",
       "dropoff_site report_date              \n",
       "TDS LANDFILL 2021-06-30  27,708,990.30"
      ]
     },
     "execution_count": 18,
     "metadata": {},
     "output_type": "execute_result"
    }
   ],
   "source": [
    "df_monthly[df_monthly['load_weight'] == df_monthly['load_weight'].max()]"
   ]
  },
  {
   "attachments": {},
   "cell_type": "markdown",
   "metadata": {},
   "source": [
    "Menampilkan site dengan sampah bulanan terkecil."
   ]
  },
  {
   "cell_type": "code",
   "execution_count": 19,
   "metadata": {},
   "outputs": [
    {
     "data": {
      "text/html": [
       "<div>\n",
       "<style scoped>\n",
       "    .dataframe tbody tr th:only-of-type {\n",
       "        vertical-align: middle;\n",
       "    }\n",
       "\n",
       "    .dataframe tbody tr th {\n",
       "        vertical-align: top;\n",
       "    }\n",
       "\n",
       "    .dataframe thead th {\n",
       "        text-align: right;\n",
       "    }\n",
       "</style>\n",
       "<table border=\"1\" class=\"dataframe\">\n",
       "  <thead>\n",
       "    <tr style=\"text-align: right;\">\n",
       "      <th></th>\n",
       "      <th></th>\n",
       "      <th>load_weight</th>\n",
       "    </tr>\n",
       "    <tr>\n",
       "      <th>dropoff_site</th>\n",
       "      <th>report_date</th>\n",
       "      <th></th>\n",
       "    </tr>\n",
       "  </thead>\n",
       "  <tbody>\n",
       "    <tr>\n",
       "      <th>STEINER LANDFILL</th>\n",
       "      <th>2021-04-30</th>\n",
       "      <td>780.00</td>\n",
       "    </tr>\n",
       "  </tbody>\n",
       "</table>\n",
       "</div>"
      ],
      "text/plain": [
       "                              load_weight\n",
       "dropoff_site     report_date             \n",
       "STEINER LANDFILL 2021-04-30        780.00"
      ]
     },
     "execution_count": 19,
     "metadata": {},
     "output_type": "execute_result"
    }
   ],
   "source": [
    "df_monthly[df_monthly['load_weight'] == df_monthly['load_weight'].min()]"
   ]
  },
  {
   "attachments": {},
   "cell_type": "markdown",
   "metadata": {},
   "source": [
    "Menampilkan akumulasi sampah bulanan berdasarkan tipe sampah pada setiap site."
   ]
  },
  {
   "cell_type": "code",
   "execution_count": 20,
   "metadata": {},
   "outputs": [
    {
     "name": "stderr",
     "output_type": "stream",
     "text": [
      "/var/folders/lv/63lr74g926b4flfb_7npy3m40000gn/T/ipykernel_50417/1893836703.py:1: FutureWarning: The default value of numeric_only in DataFrameGroupBy.sum is deprecated. In a future version, numeric_only will default to False. Either specify numeric_only or select only columns which should be valid for the function.\n",
      "  df_monthly_by_type = df.groupby(['dropoff_site',pd.Grouper(key='report_date',freq='1M'),'load_type']).sum()\n"
     ]
    },
    {
     "data": {
      "text/html": [
       "<div>\n",
       "<style scoped>\n",
       "    .dataframe tbody tr th:only-of-type {\n",
       "        vertical-align: middle;\n",
       "    }\n",
       "\n",
       "    .dataframe tbody tr th {\n",
       "        vertical-align: top;\n",
       "    }\n",
       "\n",
       "    .dataframe thead th {\n",
       "        text-align: right;\n",
       "    }\n",
       "</style>\n",
       "<table border=\"1\" class=\"dataframe\">\n",
       "  <thead>\n",
       "    <tr style=\"text-align: right;\">\n",
       "      <th></th>\n",
       "      <th></th>\n",
       "      <th></th>\n",
       "      <th>load_weight</th>\n",
       "    </tr>\n",
       "    <tr>\n",
       "      <th>dropoff_site</th>\n",
       "      <th>report_date</th>\n",
       "      <th>load_type</th>\n",
       "      <th></th>\n",
       "    </tr>\n",
       "  </thead>\n",
       "  <tbody>\n",
       "    <tr>\n",
       "      <th rowspan=\"5\" valign=\"top\">AUSTIN IRON AND METAL</th>\n",
       "      <th>2021-01-31</th>\n",
       "      <th>RECYCLED METAL</th>\n",
       "      <td>1,950.00</td>\n",
       "    </tr>\n",
       "    <tr>\n",
       "      <th>2021-02-28</th>\n",
       "      <th>RECYCLED METAL</th>\n",
       "      <td>1,890.00</td>\n",
       "    </tr>\n",
       "    <tr>\n",
       "      <th>2021-03-31</th>\n",
       "      <th>RECYCLED METAL</th>\n",
       "      <td>3,970.00</td>\n",
       "    </tr>\n",
       "    <tr>\n",
       "      <th>2021-04-30</th>\n",
       "      <th>RECYCLED METAL</th>\n",
       "      <td>3,410.00</td>\n",
       "    </tr>\n",
       "    <tr>\n",
       "      <th>2021-05-31</th>\n",
       "      <th>RECYCLED METAL</th>\n",
       "      <td>6,230.00</td>\n",
       "    </tr>\n",
       "    <tr>\n",
       "      <th>...</th>\n",
       "      <th>...</th>\n",
       "      <th>...</th>\n",
       "      <td>...</td>\n",
       "    </tr>\n",
       "    <tr>\n",
       "      <th rowspan=\"3\" valign=\"top\">TDS LANDFILL</th>\n",
       "      <th rowspan=\"3\" valign=\"top\">2021-07-31</th>\n",
       "      <th>MIXED LITTER</th>\n",
       "      <td>33,220.00</td>\n",
       "    </tr>\n",
       "    <tr>\n",
       "      <th>SWEEPING</th>\n",
       "      <td>151,880.00</td>\n",
       "    </tr>\n",
       "    <tr>\n",
       "      <th>TIRES</th>\n",
       "      <td>5,920.00</td>\n",
       "    </tr>\n",
       "    <tr>\n",
       "      <th>WESTFIELD</th>\n",
       "      <th>2021-05-31</th>\n",
       "      <th>GARBAGE COLLECTIONS</th>\n",
       "      <td>16,020.00</td>\n",
       "    </tr>\n",
       "    <tr>\n",
       "      <th>WILCAB</th>\n",
       "      <th>2021-01-31</th>\n",
       "      <th>SWEEPING</th>\n",
       "      <td>11,300.00</td>\n",
       "    </tr>\n",
       "  </tbody>\n",
       "</table>\n",
       "<p>170 rows × 1 columns</p>\n",
       "</div>"
      ],
      "text/plain": [
       "                                                       load_weight\n",
       "dropoff_site          report_date load_type                       \n",
       "AUSTIN IRON AND METAL 2021-01-31  RECYCLED METAL          1,950.00\n",
       "                      2021-02-28  RECYCLED METAL          1,890.00\n",
       "                      2021-03-31  RECYCLED METAL          3,970.00\n",
       "                      2021-04-30  RECYCLED METAL          3,410.00\n",
       "                      2021-05-31  RECYCLED METAL          6,230.00\n",
       "...                                                            ...\n",
       "TDS LANDFILL          2021-07-31  MIXED LITTER           33,220.00\n",
       "                                  SWEEPING              151,880.00\n",
       "                                  TIRES                   5,920.00\n",
       "WESTFIELD             2021-05-31  GARBAGE COLLECTIONS    16,020.00\n",
       "WILCAB                2021-01-31  SWEEPING               11,300.00\n",
       "\n",
       "[170 rows x 1 columns]"
      ]
     },
     "execution_count": 20,
     "metadata": {},
     "output_type": "execute_result"
    }
   ],
   "source": [
    "df_monthly_by_type = df.groupby(['dropoff_site',pd.Grouper(key='report_date',freq='1M'),'load_type']).sum()\n",
    "df_monthly_by_type"
   ]
  },
  {
   "attachments": {},
   "cell_type": "markdown",
   "metadata": {},
   "source": [
    "Menampilkan site dengan sampah bulanan terbesar berdasarkan tipe sampahnya."
   ]
  },
  {
   "cell_type": "code",
   "execution_count": 21,
   "metadata": {},
   "outputs": [
    {
     "data": {
      "text/html": [
       "<div>\n",
       "<style scoped>\n",
       "    .dataframe tbody tr th:only-of-type {\n",
       "        vertical-align: middle;\n",
       "    }\n",
       "\n",
       "    .dataframe tbody tr th {\n",
       "        vertical-align: top;\n",
       "    }\n",
       "\n",
       "    .dataframe thead th {\n",
       "        text-align: right;\n",
       "    }\n",
       "</style>\n",
       "<table border=\"1\" class=\"dataframe\">\n",
       "  <thead>\n",
       "    <tr style=\"text-align: right;\">\n",
       "      <th></th>\n",
       "      <th></th>\n",
       "      <th></th>\n",
       "      <th>load_weight</th>\n",
       "    </tr>\n",
       "    <tr>\n",
       "      <th>dropoff_site</th>\n",
       "      <th>report_date</th>\n",
       "      <th>load_type</th>\n",
       "      <th></th>\n",
       "    </tr>\n",
       "  </thead>\n",
       "  <tbody>\n",
       "    <tr>\n",
       "      <th>TDS LANDFILL</th>\n",
       "      <th>2021-03-31</th>\n",
       "      <th>GARBAGE COLLECTIONS</th>\n",
       "      <td>25,368,265.24</td>\n",
       "    </tr>\n",
       "  </tbody>\n",
       "</table>\n",
       "</div>"
      ],
      "text/plain": [
       "                                               load_weight\n",
       "dropoff_site report_date load_type                        \n",
       "TDS LANDFILL 2021-03-31  GARBAGE COLLECTIONS 25,368,265.24"
      ]
     },
     "execution_count": 21,
     "metadata": {},
     "output_type": "execute_result"
    }
   ],
   "source": [
    "df_monthly_by_type[df_monthly_by_type['load_weight'] == df_monthly_by_type['load_weight'].max()]"
   ]
  },
  {
   "attachments": {},
   "cell_type": "markdown",
   "metadata": {},
   "source": [
    "Menampilkan site dengan sampah bulanan terkecil berdasarkan tipe sampahnya."
   ]
  },
  {
   "cell_type": "code",
   "execution_count": 22,
   "metadata": {},
   "outputs": [
    {
     "data": {
      "text/html": [
       "<div>\n",
       "<style scoped>\n",
       "    .dataframe tbody tr th:only-of-type {\n",
       "        vertical-align: middle;\n",
       "    }\n",
       "\n",
       "    .dataframe tbody tr th {\n",
       "        vertical-align: top;\n",
       "    }\n",
       "\n",
       "    .dataframe thead th {\n",
       "        text-align: right;\n",
       "    }\n",
       "</style>\n",
       "<table border=\"1\" class=\"dataframe\">\n",
       "  <thead>\n",
       "    <tr style=\"text-align: right;\">\n",
       "      <th></th>\n",
       "      <th></th>\n",
       "      <th></th>\n",
       "      <th>load_weight</th>\n",
       "    </tr>\n",
       "    <tr>\n",
       "      <th>dropoff_site</th>\n",
       "      <th>report_date</th>\n",
       "      <th>load_type</th>\n",
       "      <th></th>\n",
       "    </tr>\n",
       "  </thead>\n",
       "  <tbody>\n",
       "    <tr>\n",
       "      <th>ORGANICS BY GOSH</th>\n",
       "      <th>2021-04-30</th>\n",
       "      <th>DEAD ANIMAL</th>\n",
       "      <td>140.00</td>\n",
       "    </tr>\n",
       "  </tbody>\n",
       "</table>\n",
       "</div>"
      ],
      "text/plain": [
       "                                          load_weight\n",
       "dropoff_site     report_date load_type               \n",
       "ORGANICS BY GOSH 2021-04-30  DEAD ANIMAL       140.00"
      ]
     },
     "execution_count": 22,
     "metadata": {},
     "output_type": "execute_result"
    }
   ],
   "source": [
    "df_monthly_by_type[df_monthly_by_type['load_weight'] == df_monthly_by_type['load_weight'].min()]"
   ]
  },
  {
   "attachments": {},
   "cell_type": "markdown",
   "metadata": {},
   "source": [
    "### Central Tendency"
   ]
  },
  {
   "attachments": {},
   "cell_type": "markdown",
   "metadata": {},
   "source": [
    "### Overall Central Tendency\n",
    "Menampilkan nilai rata-rata, median, dan standar deviasi dari banyaknya sampah (load_weight) pada setiap site tanpa mempertimbangkan jenis sampah."
   ]
  },
  {
   "cell_type": "code",
   "execution_count": 23,
   "metadata": {},
   "outputs": [
    {
     "data": {
      "text/html": [
       "<div>\n",
       "<style scoped>\n",
       "    .dataframe tbody tr th:only-of-type {\n",
       "        vertical-align: middle;\n",
       "    }\n",
       "\n",
       "    .dataframe tbody tr th {\n",
       "        vertical-align: top;\n",
       "    }\n",
       "\n",
       "    .dataframe thead tr th {\n",
       "        text-align: left;\n",
       "    }\n",
       "\n",
       "    .dataframe thead tr:last-of-type th {\n",
       "        text-align: right;\n",
       "    }\n",
       "</style>\n",
       "<table border=\"1\" class=\"dataframe\">\n",
       "  <thead>\n",
       "    <tr>\n",
       "      <th></th>\n",
       "      <th colspan=\"3\" halign=\"left\">load_weight</th>\n",
       "    </tr>\n",
       "    <tr>\n",
       "      <th></th>\n",
       "      <th>mean</th>\n",
       "      <th>median</th>\n",
       "      <th>std</th>\n",
       "    </tr>\n",
       "    <tr>\n",
       "      <th>dropoff_site</th>\n",
       "      <th></th>\n",
       "      <th></th>\n",
       "      <th></th>\n",
       "    </tr>\n",
       "  </thead>\n",
       "  <tbody>\n",
       "    <tr>\n",
       "      <th>WESTFIELD</th>\n",
       "      <td>16,020.00</td>\n",
       "      <td>16,020.00</td>\n",
       "      <td>NaN</td>\n",
       "    </tr>\n",
       "    <tr>\n",
       "      <th>TDS LANDFILL</th>\n",
       "      <td>15,168.32</td>\n",
       "      <td>14,920.00</td>\n",
       "      <td>8,590.07</td>\n",
       "    </tr>\n",
       "    <tr>\n",
       "      <th>PARK BEND</th>\n",
       "      <td>13,385.00</td>\n",
       "      <td>12,330.00</td>\n",
       "      <td>5,721.57</td>\n",
       "    </tr>\n",
       "    <tr>\n",
       "      <th>GREAT NORTHERN</th>\n",
       "      <td>11,973.14</td>\n",
       "      <td>11,300.00</td>\n",
       "      <td>2,691.89</td>\n",
       "    </tr>\n",
       "    <tr>\n",
       "      <th>ORGANICS BY GOSH</th>\n",
       "      <td>11,817.22</td>\n",
       "      <td>11,900.00</td>\n",
       "      <td>5,064.66</td>\n",
       "    </tr>\n",
       "    <tr>\n",
       "      <th>ON ROUTE HIGH DUMP</th>\n",
       "      <td>11,405.93</td>\n",
       "      <td>11,300.00</td>\n",
       "      <td>1,419.74</td>\n",
       "    </tr>\n",
       "    <tr>\n",
       "      <th>ST. EDWARDS</th>\n",
       "      <td>11,300.00</td>\n",
       "      <td>11,300.00</td>\n",
       "      <td>NaN</td>\n",
       "    </tr>\n",
       "    <tr>\n",
       "      <th>PARK CENTER</th>\n",
       "      <td>11,300.00</td>\n",
       "      <td>11,300.00</td>\n",
       "      <td>0.00</td>\n",
       "    </tr>\n",
       "    <tr>\n",
       "      <th>WILCAB</th>\n",
       "      <td>11,300.00</td>\n",
       "      <td>11,300.00</td>\n",
       "      <td>NaN</td>\n",
       "    </tr>\n",
       "    <tr>\n",
       "      <th>ONION CREEK</th>\n",
       "      <td>11,300.00</td>\n",
       "      <td>11,300.00</td>\n",
       "      <td>0.00</td>\n",
       "    </tr>\n",
       "    <tr>\n",
       "      <th>TDS - MRF</th>\n",
       "      <td>9,872.55</td>\n",
       "      <td>10,330.00</td>\n",
       "      <td>4,083.63</td>\n",
       "    </tr>\n",
       "    <tr>\n",
       "      <th>BALCONES RECYCLING</th>\n",
       "      <td>9,464.65</td>\n",
       "      <td>9,840.00</td>\n",
       "      <td>3,862.24</td>\n",
       "    </tr>\n",
       "    <tr>\n",
       "      <th>BALCONES WOODS</th>\n",
       "      <td>8,460.00</td>\n",
       "      <td>8,460.00</td>\n",
       "      <td>NaN</td>\n",
       "    </tr>\n",
       "    <tr>\n",
       "      <th>HORNSBY BEND</th>\n",
       "      <td>6,637.11</td>\n",
       "      <td>6,400.00</td>\n",
       "      <td>3,240.84</td>\n",
       "    </tr>\n",
       "    <tr>\n",
       "      <th>AUSTIN WOOD RECYCLING</th>\n",
       "      <td>4,050.00</td>\n",
       "      <td>4,050.00</td>\n",
       "      <td>2,418.31</td>\n",
       "    </tr>\n",
       "    <tr>\n",
       "      <th>MRF</th>\n",
       "      <td>1,799.98</td>\n",
       "      <td>1,360.00</td>\n",
       "      <td>2,266.19</td>\n",
       "    </tr>\n",
       "    <tr>\n",
       "      <th>STEINER LANDFILL</th>\n",
       "      <td>780.00</td>\n",
       "      <td>780.00</td>\n",
       "      <td>NaN</td>\n",
       "    </tr>\n",
       "    <tr>\n",
       "      <th>AUSTIN IRON AND METAL</th>\n",
       "      <td>451.20</td>\n",
       "      <td>400.00</td>\n",
       "      <td>215.65</td>\n",
       "    </tr>\n",
       "  </tbody>\n",
       "</table>\n",
       "</div>"
      ],
      "text/plain": [
       "                      load_weight                   \n",
       "                             mean    median      std\n",
       "dropoff_site                                        \n",
       "WESTFIELD               16,020.00 16,020.00      NaN\n",
       "TDS LANDFILL            15,168.32 14,920.00 8,590.07\n",
       "PARK BEND               13,385.00 12,330.00 5,721.57\n",
       "GREAT NORTHERN          11,973.14 11,300.00 2,691.89\n",
       "ORGANICS BY GOSH        11,817.22 11,900.00 5,064.66\n",
       "ON ROUTE HIGH DUMP      11,405.93 11,300.00 1,419.74\n",
       "ST. EDWARDS             11,300.00 11,300.00      NaN\n",
       "PARK CENTER             11,300.00 11,300.00     0.00\n",
       "WILCAB                  11,300.00 11,300.00      NaN\n",
       "ONION CREEK             11,300.00 11,300.00     0.00\n",
       "TDS - MRF                9,872.55 10,330.00 4,083.63\n",
       "BALCONES RECYCLING       9,464.65  9,840.00 3,862.24\n",
       "BALCONES WOODS           8,460.00  8,460.00      NaN\n",
       "HORNSBY BEND             6,637.11  6,400.00 3,240.84\n",
       "AUSTIN WOOD RECYCLING    4,050.00  4,050.00 2,418.31\n",
       "MRF                      1,799.98  1,360.00 2,266.19\n",
       "STEINER LANDFILL           780.00    780.00      NaN\n",
       "AUSTIN IRON AND METAL      451.20    400.00   215.65"
      ]
     },
     "execution_count": 23,
     "metadata": {},
     "output_type": "execute_result"
    }
   ],
   "source": [
    "df_centrality = df.groupby(['dropoff_site']).agg({'load_weight':['mean','median','std']}) #overrall period centrality\n",
    "df_centrality.sort_values(by=('load_weight','mean'),ascending=False) # mengurutkan site dari nilai mean tertinggi"
   ]
  },
  {
   "attachments": {},
   "cell_type": "markdown",
   "metadata": {},
   "source": [
    "Menampilkan nilai rata-rata, median, dan standar deviasi banyaknya sampah (load_weight) pada setiap site dengan mempertimbangkan jenis sampah."
   ]
  },
  {
   "cell_type": "code",
   "execution_count": 24,
   "metadata": {},
   "outputs": [
    {
     "data": {
      "text/html": [
       "<div>\n",
       "<style scoped>\n",
       "    .dataframe tbody tr th:only-of-type {\n",
       "        vertical-align: middle;\n",
       "    }\n",
       "\n",
       "    .dataframe tbody tr th {\n",
       "        vertical-align: top;\n",
       "    }\n",
       "\n",
       "    .dataframe thead tr th {\n",
       "        text-align: left;\n",
       "    }\n",
       "\n",
       "    .dataframe thead tr:last-of-type th {\n",
       "        text-align: right;\n",
       "    }\n",
       "</style>\n",
       "<table border=\"1\" class=\"dataframe\">\n",
       "  <thead>\n",
       "    <tr>\n",
       "      <th></th>\n",
       "      <th></th>\n",
       "      <th colspan=\"3\" halign=\"left\">load_weight</th>\n",
       "    </tr>\n",
       "    <tr>\n",
       "      <th></th>\n",
       "      <th></th>\n",
       "      <th>mean</th>\n",
       "      <th>median</th>\n",
       "      <th>std</th>\n",
       "    </tr>\n",
       "    <tr>\n",
       "      <th>dropoff_site</th>\n",
       "      <th>load_type</th>\n",
       "      <th></th>\n",
       "      <th></th>\n",
       "      <th></th>\n",
       "    </tr>\n",
       "  </thead>\n",
       "  <tbody>\n",
       "    <tr>\n",
       "      <th>AUSTIN IRON AND METAL</th>\n",
       "      <th>RECYCLED METAL</th>\n",
       "      <td>451.20</td>\n",
       "      <td>400.00</td>\n",
       "      <td>215.65</td>\n",
       "    </tr>\n",
       "    <tr>\n",
       "      <th>AUSTIN WOOD RECYCLING</th>\n",
       "      <th>RECYCLING - SINGLE STREAM</th>\n",
       "      <td>4,050.00</td>\n",
       "      <td>4,050.00</td>\n",
       "      <td>2,418.31</td>\n",
       "    </tr>\n",
       "    <tr>\n",
       "      <th>BALCONES RECYCLING</th>\n",
       "      <th>RECYCLING - SINGLE STREAM</th>\n",
       "      <td>9,464.65</td>\n",
       "      <td>9,840.00</td>\n",
       "      <td>3,862.24</td>\n",
       "    </tr>\n",
       "    <tr>\n",
       "      <th>BALCONES WOODS</th>\n",
       "      <th>RECYCLING - SINGLE STREAM</th>\n",
       "      <td>8,460.00</td>\n",
       "      <td>8,460.00</td>\n",
       "      <td>NaN</td>\n",
       "    </tr>\n",
       "    <tr>\n",
       "      <th rowspan=\"2\" valign=\"top\">GREAT NORTHERN</th>\n",
       "      <th>GARBAGE COLLECTIONS</th>\n",
       "      <td>19,153.33</td>\n",
       "      <td>21,110.00</td>\n",
       "      <td>5,686.18</td>\n",
       "    </tr>\n",
       "    <tr>\n",
       "      <th>SWEEPING</th>\n",
       "      <td>11,300.00</td>\n",
       "      <td>11,300.00</td>\n",
       "      <td>0.00</td>\n",
       "    </tr>\n",
       "    <tr>\n",
       "      <th rowspan=\"4\" valign=\"top\">HORNSBY BEND</th>\n",
       "      <th>BRUSH</th>\n",
       "      <td>6,241.02</td>\n",
       "      <td>6,180.00</td>\n",
       "      <td>2,788.99</td>\n",
       "    </tr>\n",
       "    <tr>\n",
       "      <th>GARBAGE COLLECTIONS</th>\n",
       "      <td>8,600.00</td>\n",
       "      <td>8,600.00</td>\n",
       "      <td>NaN</td>\n",
       "    </tr>\n",
       "    <tr>\n",
       "      <th>ORGANICS</th>\n",
       "      <td>8,080.00</td>\n",
       "      <td>8,080.00</td>\n",
       "      <td>2,319.31</td>\n",
       "    </tr>\n",
       "    <tr>\n",
       "      <th>YARD TRIMMING</th>\n",
       "      <td>10,981.90</td>\n",
       "      <td>11,060.00</td>\n",
       "      <td>4,503.42</td>\n",
       "    </tr>\n",
       "    <tr>\n",
       "      <th rowspan=\"3\" valign=\"top\">MRF</th>\n",
       "      <th>BULK</th>\n",
       "      <td>13,750.00</td>\n",
       "      <td>13,750.00</td>\n",
       "      <td>1,880.90</td>\n",
       "    </tr>\n",
       "    <tr>\n",
       "      <th>RECYCLED METAL</th>\n",
       "      <td>230.00</td>\n",
       "      <td>230.00</td>\n",
       "      <td>NaN</td>\n",
       "    </tr>\n",
       "    <tr>\n",
       "      <th>TIRES</th>\n",
       "      <td>1,664.65</td>\n",
       "      <td>1,360.00</td>\n",
       "      <td>1,852.85</td>\n",
       "    </tr>\n",
       "    <tr>\n",
       "      <th rowspan=\"2\" valign=\"top\">ON ROUTE HIGH DUMP</th>\n",
       "      <th>ORGANICS</th>\n",
       "      <td>12,525.71</td>\n",
       "      <td>14,940.00</td>\n",
       "      <td>5,027.36</td>\n",
       "    </tr>\n",
       "    <tr>\n",
       "      <th>SWEEPING</th>\n",
       "      <td>11,300.00</td>\n",
       "      <td>11,300.00</td>\n",
       "      <td>0.00</td>\n",
       "    </tr>\n",
       "    <tr>\n",
       "      <th>ONION CREEK</th>\n",
       "      <th>SWEEPING</th>\n",
       "      <td>11,300.00</td>\n",
       "      <td>11,300.00</td>\n",
       "      <td>0.00</td>\n",
       "    </tr>\n",
       "    <tr>\n",
       "      <th rowspan=\"5\" valign=\"top\">ORGANICS BY GOSH</th>\n",
       "      <th>DEAD ANIMAL</th>\n",
       "      <td>230.53</td>\n",
       "      <td>100.00</td>\n",
       "      <td>387.66</td>\n",
       "    </tr>\n",
       "    <tr>\n",
       "      <th>GARBAGE COLLECTIONS</th>\n",
       "      <td>7,500.00</td>\n",
       "      <td>7,500.00</td>\n",
       "      <td>NaN</td>\n",
       "    </tr>\n",
       "    <tr>\n",
       "      <th>ORGANICS</th>\n",
       "      <td>11,854.60</td>\n",
       "      <td>11,920.00</td>\n",
       "      <td>5,028.66</td>\n",
       "    </tr>\n",
       "    <tr>\n",
       "      <th>RECYCLED METAL</th>\n",
       "      <td>12,532.00</td>\n",
       "      <td>11,040.00</td>\n",
       "      <td>6,453.89</td>\n",
       "    </tr>\n",
       "    <tr>\n",
       "      <th>SWEEPING</th>\n",
       "      <td>15,200.00</td>\n",
       "      <td>15,200.00</td>\n",
       "      <td>1,046.52</td>\n",
       "    </tr>\n",
       "    <tr>\n",
       "      <th>PARK BEND</th>\n",
       "      <th>ORGANICS</th>\n",
       "      <td>13,385.00</td>\n",
       "      <td>12,330.00</td>\n",
       "      <td>5,721.57</td>\n",
       "    </tr>\n",
       "    <tr>\n",
       "      <th>PARK CENTER</th>\n",
       "      <th>SWEEPING</th>\n",
       "      <td>11,300.00</td>\n",
       "      <td>11,300.00</td>\n",
       "      <td>0.00</td>\n",
       "    </tr>\n",
       "    <tr>\n",
       "      <th>ST. EDWARDS</th>\n",
       "      <th>SWEEPING</th>\n",
       "      <td>11,300.00</td>\n",
       "      <td>11,300.00</td>\n",
       "      <td>NaN</td>\n",
       "    </tr>\n",
       "    <tr>\n",
       "      <th>STEINER LANDFILL</th>\n",
       "      <th>GARBAGE COLLECTIONS</th>\n",
       "      <td>780.00</td>\n",
       "      <td>780.00</td>\n",
       "      <td>NaN</td>\n",
       "    </tr>\n",
       "    <tr>\n",
       "      <th rowspan=\"4\" valign=\"top\">TDS - MRF</th>\n",
       "      <th>BULK</th>\n",
       "      <td>9,880.00</td>\n",
       "      <td>9,880.00</td>\n",
       "      <td>8,032.73</td>\n",
       "    </tr>\n",
       "    <tr>\n",
       "      <th>GARBAGE COLLECTIONS</th>\n",
       "      <td>16,782.14</td>\n",
       "      <td>17,060.00</td>\n",
       "      <td>7,299.53</td>\n",
       "    </tr>\n",
       "    <tr>\n",
       "      <th>LITTER</th>\n",
       "      <td>360.00</td>\n",
       "      <td>360.00</td>\n",
       "      <td>NaN</td>\n",
       "    </tr>\n",
       "    <tr>\n",
       "      <th>RECYCLING - SINGLE STREAM</th>\n",
       "      <td>9,809.48</td>\n",
       "      <td>10,300.00</td>\n",
       "      <td>3,980.50</td>\n",
       "    </tr>\n",
       "    <tr>\n",
       "      <th rowspan=\"13\" valign=\"top\">TDS LANDFILL</th>\n",
       "      <th>BRUSH</th>\n",
       "      <td>9,220.00</td>\n",
       "      <td>9,220.00</td>\n",
       "      <td>3,733.52</td>\n",
       "    </tr>\n",
       "    <tr>\n",
       "      <th>BULK</th>\n",
       "      <td>8,109.11</td>\n",
       "      <td>8,030.00</td>\n",
       "      <td>3,901.35</td>\n",
       "    </tr>\n",
       "    <tr>\n",
       "      <th>CONTAMINATED ORGANICS</th>\n",
       "      <td>25,380.00</td>\n",
       "      <td>25,380.00</td>\n",
       "      <td>NaN</td>\n",
       "    </tr>\n",
       "    <tr>\n",
       "      <th>CONTAMINATED RECYCLING</th>\n",
       "      <td>5,160.00</td>\n",
       "      <td>5,160.00</td>\n",
       "      <td>NaN</td>\n",
       "    </tr>\n",
       "    <tr>\n",
       "      <th>DEAD ANIMAL</th>\n",
       "      <td>154.73</td>\n",
       "      <td>100.00</td>\n",
       "      <td>156.06</td>\n",
       "    </tr>\n",
       "    <tr>\n",
       "      <th>GARBAGE COLLECTIONS</th>\n",
       "      <td>17,618.41</td>\n",
       "      <td>18,140.00</td>\n",
       "      <td>8,015.73</td>\n",
       "    </tr>\n",
       "    <tr>\n",
       "      <th>LITTER</th>\n",
       "      <td>3,208.00</td>\n",
       "      <td>2,850.00</td>\n",
       "      <td>2,585.52</td>\n",
       "    </tr>\n",
       "    <tr>\n",
       "      <th>MIXED LITTER</th>\n",
       "      <td>3,196.90</td>\n",
       "      <td>2,900.00</td>\n",
       "      <td>1,663.29</td>\n",
       "    </tr>\n",
       "    <tr>\n",
       "      <th>ORGANICS</th>\n",
       "      <td>1,273.64</td>\n",
       "      <td>140.00</td>\n",
       "      <td>3,692.53</td>\n",
       "    </tr>\n",
       "    <tr>\n",
       "      <th>RECYCLED METAL</th>\n",
       "      <td>220.00</td>\n",
       "      <td>220.00</td>\n",
       "      <td>NaN</td>\n",
       "    </tr>\n",
       "    <tr>\n",
       "      <th>RECYCLING - SINGLE STREAM</th>\n",
       "      <td>2,580.00</td>\n",
       "      <td>2,000.00</td>\n",
       "      <td>2,500.96</td>\n",
       "    </tr>\n",
       "    <tr>\n",
       "      <th>SWEEPING</th>\n",
       "      <td>9,596.33</td>\n",
       "      <td>9,310.00</td>\n",
       "      <td>4,538.07</td>\n",
       "    </tr>\n",
       "    <tr>\n",
       "      <th>TIRES</th>\n",
       "      <td>3,512.00</td>\n",
       "      <td>2,170.00</td>\n",
       "      <td>5,455.42</td>\n",
       "    </tr>\n",
       "    <tr>\n",
       "      <th>WESTFIELD</th>\n",
       "      <th>GARBAGE COLLECTIONS</th>\n",
       "      <td>16,020.00</td>\n",
       "      <td>16,020.00</td>\n",
       "      <td>NaN</td>\n",
       "    </tr>\n",
       "    <tr>\n",
       "      <th>WILCAB</th>\n",
       "      <th>SWEEPING</th>\n",
       "      <td>11,300.00</td>\n",
       "      <td>11,300.00</td>\n",
       "      <td>NaN</td>\n",
       "    </tr>\n",
       "  </tbody>\n",
       "</table>\n",
       "</div>"
      ],
      "text/plain": [
       "                                                load_weight                   \n",
       "                                                       mean    median      std\n",
       "dropoff_site          load_type                                               \n",
       "AUSTIN IRON AND METAL RECYCLED METAL                 451.20    400.00   215.65\n",
       "AUSTIN WOOD RECYCLING RECYCLING - SINGLE STREAM    4,050.00  4,050.00 2,418.31\n",
       "BALCONES RECYCLING    RECYCLING - SINGLE STREAM    9,464.65  9,840.00 3,862.24\n",
       "BALCONES WOODS        RECYCLING - SINGLE STREAM    8,460.00  8,460.00      NaN\n",
       "GREAT NORTHERN        GARBAGE COLLECTIONS         19,153.33 21,110.00 5,686.18\n",
       "                      SWEEPING                    11,300.00 11,300.00     0.00\n",
       "HORNSBY BEND          BRUSH                        6,241.02  6,180.00 2,788.99\n",
       "                      GARBAGE COLLECTIONS          8,600.00  8,600.00      NaN\n",
       "                      ORGANICS                     8,080.00  8,080.00 2,319.31\n",
       "                      YARD TRIMMING               10,981.90 11,060.00 4,503.42\n",
       "MRF                   BULK                        13,750.00 13,750.00 1,880.90\n",
       "                      RECYCLED METAL                 230.00    230.00      NaN\n",
       "                      TIRES                        1,664.65  1,360.00 1,852.85\n",
       "ON ROUTE HIGH DUMP    ORGANICS                    12,525.71 14,940.00 5,027.36\n",
       "                      SWEEPING                    11,300.00 11,300.00     0.00\n",
       "ONION CREEK           SWEEPING                    11,300.00 11,300.00     0.00\n",
       "ORGANICS BY GOSH      DEAD ANIMAL                    230.53    100.00   387.66\n",
       "                      GARBAGE COLLECTIONS          7,500.00  7,500.00      NaN\n",
       "                      ORGANICS                    11,854.60 11,920.00 5,028.66\n",
       "                      RECYCLED METAL              12,532.00 11,040.00 6,453.89\n",
       "                      SWEEPING                    15,200.00 15,200.00 1,046.52\n",
       "PARK BEND             ORGANICS                    13,385.00 12,330.00 5,721.57\n",
       "PARK CENTER           SWEEPING                    11,300.00 11,300.00     0.00\n",
       "ST. EDWARDS           SWEEPING                    11,300.00 11,300.00      NaN\n",
       "STEINER LANDFILL      GARBAGE COLLECTIONS            780.00    780.00      NaN\n",
       "TDS - MRF             BULK                         9,880.00  9,880.00 8,032.73\n",
       "                      GARBAGE COLLECTIONS         16,782.14 17,060.00 7,299.53\n",
       "                      LITTER                         360.00    360.00      NaN\n",
       "                      RECYCLING - SINGLE STREAM    9,809.48 10,300.00 3,980.50\n",
       "TDS LANDFILL          BRUSH                        9,220.00  9,220.00 3,733.52\n",
       "                      BULK                         8,109.11  8,030.00 3,901.35\n",
       "                      CONTAMINATED ORGANICS       25,380.00 25,380.00      NaN\n",
       "                      CONTAMINATED RECYCLING       5,160.00  5,160.00      NaN\n",
       "                      DEAD ANIMAL                    154.73    100.00   156.06\n",
       "                      GARBAGE COLLECTIONS         17,618.41 18,140.00 8,015.73\n",
       "                      LITTER                       3,208.00  2,850.00 2,585.52\n",
       "                      MIXED LITTER                 3,196.90  2,900.00 1,663.29\n",
       "                      ORGANICS                     1,273.64    140.00 3,692.53\n",
       "                      RECYCLED METAL                 220.00    220.00      NaN\n",
       "                      RECYCLING - SINGLE STREAM    2,580.00  2,000.00 2,500.96\n",
       "                      SWEEPING                     9,596.33  9,310.00 4,538.07\n",
       "                      TIRES                        3,512.00  2,170.00 5,455.42\n",
       "WESTFIELD             GARBAGE COLLECTIONS         16,020.00 16,020.00      NaN\n",
       "WILCAB                SWEEPING                    11,300.00 11,300.00      NaN"
      ]
     },
     "execution_count": 24,
     "metadata": {},
     "output_type": "execute_result"
    }
   ],
   "source": [
    "df_centrality_by_type = df.groupby(['dropoff_site','load_type']).agg({'load_weight':['mean','median','std']}) #overrall period centrality by garbage type\n",
    "df_centrality_by_type"
   ]
  },
  {
   "attachments": {},
   "cell_type": "markdown",
   "metadata": {},
   "source": [
    "### Monthly Centrality"
   ]
  },
  {
   "attachments": {},
   "cell_type": "markdown",
   "metadata": {},
   "source": [
    "Monthly centrality berdasarkan jenis sampah"
   ]
  },
  {
   "cell_type": "code",
   "execution_count": 25,
   "metadata": {},
   "outputs": [
    {
     "data": {
      "text/html": [
       "<div>\n",
       "<style scoped>\n",
       "    .dataframe tbody tr th:only-of-type {\n",
       "        vertical-align: middle;\n",
       "    }\n",
       "\n",
       "    .dataframe tbody tr th {\n",
       "        vertical-align: top;\n",
       "    }\n",
       "\n",
       "    .dataframe thead tr th {\n",
       "        text-align: left;\n",
       "    }\n",
       "\n",
       "    .dataframe thead tr:last-of-type th {\n",
       "        text-align: right;\n",
       "    }\n",
       "</style>\n",
       "<table border=\"1\" class=\"dataframe\">\n",
       "  <thead>\n",
       "    <tr>\n",
       "      <th></th>\n",
       "      <th></th>\n",
       "      <th colspan=\"3\" halign=\"left\">load_weight</th>\n",
       "    </tr>\n",
       "    <tr>\n",
       "      <th></th>\n",
       "      <th></th>\n",
       "      <th>mean</th>\n",
       "      <th>median</th>\n",
       "      <th>std</th>\n",
       "    </tr>\n",
       "    <tr>\n",
       "      <th>dropoff_site</th>\n",
       "      <th>load_type</th>\n",
       "      <th></th>\n",
       "      <th></th>\n",
       "      <th></th>\n",
       "    </tr>\n",
       "  </thead>\n",
       "  <tbody>\n",
       "    <tr>\n",
       "      <th>AUSTIN IRON AND METAL</th>\n",
       "      <th>RECYCLED METAL</th>\n",
       "      <td>3,222.86</td>\n",
       "      <td>3,410.00</td>\n",
       "      <td>1,765.36</td>\n",
       "    </tr>\n",
       "    <tr>\n",
       "      <th>AUSTIN WOOD RECYCLING</th>\n",
       "      <th>RECYCLING - SINGLE STREAM</th>\n",
       "      <td>4,050.00</td>\n",
       "      <td>4,050.00</td>\n",
       "      <td>2,418.31</td>\n",
       "    </tr>\n",
       "    <tr>\n",
       "      <th>BALCONES RECYCLING</th>\n",
       "      <th>RECYCLING - SINGLE STREAM</th>\n",
       "      <td>5,187,981.43</td>\n",
       "      <td>5,944,230.00</td>\n",
       "      <td>2,117,444.52</td>\n",
       "    </tr>\n",
       "    <tr>\n",
       "      <th>BALCONES WOODS</th>\n",
       "      <th>RECYCLING - SINGLE STREAM</th>\n",
       "      <td>8,460.00</td>\n",
       "      <td>8,460.00</td>\n",
       "      <td>NaN</td>\n",
       "    </tr>\n",
       "    <tr>\n",
       "      <th rowspan=\"2\" valign=\"top\">GREAT NORTHERN</th>\n",
       "      <th>GARBAGE COLLECTIONS</th>\n",
       "      <td>38,306.67</td>\n",
       "      <td>20,900.00</td>\n",
       "      <td>33,440.49</td>\n",
       "    </tr>\n",
       "    <tr>\n",
       "      <th>SWEEPING</th>\n",
       "      <td>180,800.00</td>\n",
       "      <td>169,500.00</td>\n",
       "      <td>172,116.47</td>\n",
       "    </tr>\n",
       "    <tr>\n",
       "      <th rowspan=\"4\" valign=\"top\">HORNSBY BEND</th>\n",
       "      <th>BRUSH</th>\n",
       "      <td>1,350,734.29</td>\n",
       "      <td>1,483,040.00</td>\n",
       "      <td>545,041.09</td>\n",
       "    </tr>\n",
       "    <tr>\n",
       "      <th>GARBAGE COLLECTIONS</th>\n",
       "      <td>8,600.00</td>\n",
       "      <td>8,600.00</td>\n",
       "      <td>NaN</td>\n",
       "    </tr>\n",
       "    <tr>\n",
       "      <th>ORGANICS</th>\n",
       "      <td>8,080.00</td>\n",
       "      <td>8,080.00</td>\n",
       "      <td>2,319.31</td>\n",
       "    </tr>\n",
       "    <tr>\n",
       "      <th>YARD TRIMMING</th>\n",
       "      <td>501,506.67</td>\n",
       "      <td>168,560.00</td>\n",
       "      <td>708,817.51</td>\n",
       "    </tr>\n",
       "    <tr>\n",
       "      <th rowspan=\"3\" valign=\"top\">MRF</th>\n",
       "      <th>BULK</th>\n",
       "      <td>13,750.00</td>\n",
       "      <td>13,750.00</td>\n",
       "      <td>1,880.90</td>\n",
       "    </tr>\n",
       "    <tr>\n",
       "      <th>RECYCLED METAL</th>\n",
       "      <td>230.00</td>\n",
       "      <td>230.00</td>\n",
       "      <td>NaN</td>\n",
       "    </tr>\n",
       "    <tr>\n",
       "      <th>TIRES</th>\n",
       "      <td>39,238.14</td>\n",
       "      <td>34,820.00</td>\n",
       "      <td>21,735.50</td>\n",
       "    </tr>\n",
       "    <tr>\n",
       "      <th rowspan=\"2\" valign=\"top\">ON ROUTE HIGH DUMP</th>\n",
       "      <th>ORGANICS</th>\n",
       "      <td>29,226.67</td>\n",
       "      <td>22,520.00</td>\n",
       "      <td>11,703.00</td>\n",
       "    </tr>\n",
       "    <tr>\n",
       "      <th>SWEEPING</th>\n",
       "      <td>139,366.67</td>\n",
       "      <td>141,250.00</td>\n",
       "      <td>101,490.53</td>\n",
       "    </tr>\n",
       "    <tr>\n",
       "      <th>ONION CREEK</th>\n",
       "      <th>SWEEPING</th>\n",
       "      <td>1,312,414.29</td>\n",
       "      <td>1,344,700.00</td>\n",
       "      <td>523,570.54</td>\n",
       "    </tr>\n",
       "    <tr>\n",
       "      <th rowspan=\"5\" valign=\"top\">ORGANICS BY GOSH</th>\n",
       "      <th>DEAD ANIMAL</th>\n",
       "      <td>625.71</td>\n",
       "      <td>540.00</td>\n",
       "      <td>550.60</td>\n",
       "    </tr>\n",
       "    <tr>\n",
       "      <th>GARBAGE COLLECTIONS</th>\n",
       "      <td>7,500.00</td>\n",
       "      <td>7,500.00</td>\n",
       "      <td>NaN</td>\n",
       "    </tr>\n",
       "    <tr>\n",
       "      <th>ORGANICS</th>\n",
       "      <td>9,700,452.29</td>\n",
       "      <td>8,702,700.00</td>\n",
       "      <td>6,644,910.22</td>\n",
       "    </tr>\n",
       "    <tr>\n",
       "      <th>RECYCLED METAL</th>\n",
       "      <td>20,886.67</td>\n",
       "      <td>13,420.00</td>\n",
       "      <td>15,040.94</td>\n",
       "    </tr>\n",
       "    <tr>\n",
       "      <th>SWEEPING</th>\n",
       "      <td>15,200.00</td>\n",
       "      <td>15,200.00</td>\n",
       "      <td>1,046.52</td>\n",
       "    </tr>\n",
       "    <tr>\n",
       "      <th>PARK BEND</th>\n",
       "      <th>ORGANICS</th>\n",
       "      <td>17,846.67</td>\n",
       "      <td>20,400.00</td>\n",
       "      <td>7,924.75</td>\n",
       "    </tr>\n",
       "    <tr>\n",
       "      <th>PARK CENTER</th>\n",
       "      <th>SWEEPING</th>\n",
       "      <td>141,250.00</td>\n",
       "      <td>113,000.00</td>\n",
       "      <td>112,717.15</td>\n",
       "    </tr>\n",
       "    <tr>\n",
       "      <th>ST. EDWARDS</th>\n",
       "      <th>SWEEPING</th>\n",
       "      <td>11,300.00</td>\n",
       "      <td>11,300.00</td>\n",
       "      <td>NaN</td>\n",
       "    </tr>\n",
       "    <tr>\n",
       "      <th>STEINER LANDFILL</th>\n",
       "      <th>GARBAGE COLLECTIONS</th>\n",
       "      <td>780.00</td>\n",
       "      <td>780.00</td>\n",
       "      <td>NaN</td>\n",
       "    </tr>\n",
       "    <tr>\n",
       "      <th rowspan=\"4\" valign=\"top\">TDS - MRF</th>\n",
       "      <th>BULK</th>\n",
       "      <td>9,880.00</td>\n",
       "      <td>9,880.00</td>\n",
       "      <td>8,032.73</td>\n",
       "    </tr>\n",
       "    <tr>\n",
       "      <th>GARBAGE COLLECTIONS</th>\n",
       "      <td>78,316.67</td>\n",
       "      <td>74,300.00</td>\n",
       "      <td>22,859.75</td>\n",
       "    </tr>\n",
       "    <tr>\n",
       "      <th>LITTER</th>\n",
       "      <td>360.00</td>\n",
       "      <td>360.00</td>\n",
       "      <td>NaN</td>\n",
       "    </tr>\n",
       "    <tr>\n",
       "      <th>RECYCLING - SINGLE STREAM</th>\n",
       "      <td>4,087,751.43</td>\n",
       "      <td>4,655,730.00</td>\n",
       "      <td>1,766,072.36</td>\n",
       "    </tr>\n",
       "    <tr>\n",
       "      <th rowspan=\"13\" valign=\"top\">TDS LANDFILL</th>\n",
       "      <th>BRUSH</th>\n",
       "      <td>18,440.00</td>\n",
       "      <td>18,440.00</td>\n",
       "      <td>NaN</td>\n",
       "    </tr>\n",
       "    <tr>\n",
       "      <th>BULK</th>\n",
       "      <td>1,841,925.71</td>\n",
       "      <td>1,833,200.00</td>\n",
       "      <td>714,647.03</td>\n",
       "    </tr>\n",
       "    <tr>\n",
       "      <th>CONTAMINATED ORGANICS</th>\n",
       "      <td>25,380.00</td>\n",
       "      <td>25,380.00</td>\n",
       "      <td>NaN</td>\n",
       "    </tr>\n",
       "    <tr>\n",
       "      <th>CONTAMINATED RECYCLING</th>\n",
       "      <td>5,160.00</td>\n",
       "      <td>5,160.00</td>\n",
       "      <td>NaN</td>\n",
       "    </tr>\n",
       "    <tr>\n",
       "      <th>DEAD ANIMAL</th>\n",
       "      <td>2,895.71</td>\n",
       "      <td>3,580.00</td>\n",
       "      <td>1,332.76</td>\n",
       "    </tr>\n",
       "    <tr>\n",
       "      <th>GARBAGE COLLECTIONS</th>\n",
       "      <td>20,648,774.65</td>\n",
       "      <td>23,090,600.00</td>\n",
       "      <td>6,848,622.54</td>\n",
       "    </tr>\n",
       "    <tr>\n",
       "      <th>LITTER</th>\n",
       "      <td>18,331.43</td>\n",
       "      <td>16,840.00</td>\n",
       "      <td>10,141.56</td>\n",
       "    </tr>\n",
       "    <tr>\n",
       "      <th>MIXED LITTER</th>\n",
       "      <td>150,254.29</td>\n",
       "      <td>161,620.00</td>\n",
       "      <td>68,542.78</td>\n",
       "    </tr>\n",
       "    <tr>\n",
       "      <th>ORGANICS</th>\n",
       "      <td>5,604.00</td>\n",
       "      <td>1,000.00</td>\n",
       "      <td>10,557.25</td>\n",
       "    </tr>\n",
       "    <tr>\n",
       "      <th>RECYCLED METAL</th>\n",
       "      <td>220.00</td>\n",
       "      <td>220.00</td>\n",
       "      <td>NaN</td>\n",
       "    </tr>\n",
       "    <tr>\n",
       "      <th>RECYCLING - SINGLE STREAM</th>\n",
       "      <td>2,580.00</td>\n",
       "      <td>2,000.00</td>\n",
       "      <td>2,500.96</td>\n",
       "    </tr>\n",
       "    <tr>\n",
       "      <th>SWEEPING</th>\n",
       "      <td>493,525.71</td>\n",
       "      <td>484,940.00</td>\n",
       "      <td>226,841.93</td>\n",
       "    </tr>\n",
       "    <tr>\n",
       "      <th>TIRES</th>\n",
       "      <td>8,780.00</td>\n",
       "      <td>6,260.00</td>\n",
       "      <td>7,999.62</td>\n",
       "    </tr>\n",
       "    <tr>\n",
       "      <th>WESTFIELD</th>\n",
       "      <th>GARBAGE COLLECTIONS</th>\n",
       "      <td>16,020.00</td>\n",
       "      <td>16,020.00</td>\n",
       "      <td>NaN</td>\n",
       "    </tr>\n",
       "    <tr>\n",
       "      <th>WILCAB</th>\n",
       "      <th>SWEEPING</th>\n",
       "      <td>11,300.00</td>\n",
       "      <td>11,300.00</td>\n",
       "      <td>NaN</td>\n",
       "    </tr>\n",
       "  </tbody>\n",
       "</table>\n",
       "</div>"
      ],
      "text/plain": [
       "                                                  load_weight                \\\n",
       "                                                         mean        median   \n",
       "dropoff_site          load_type                                               \n",
       "AUSTIN IRON AND METAL RECYCLED METAL                 3,222.86      3,410.00   \n",
       "AUSTIN WOOD RECYCLING RECYCLING - SINGLE STREAM      4,050.00      4,050.00   \n",
       "BALCONES RECYCLING    RECYCLING - SINGLE STREAM  5,187,981.43  5,944,230.00   \n",
       "BALCONES WOODS        RECYCLING - SINGLE STREAM      8,460.00      8,460.00   \n",
       "GREAT NORTHERN        GARBAGE COLLECTIONS           38,306.67     20,900.00   \n",
       "                      SWEEPING                     180,800.00    169,500.00   \n",
       "HORNSBY BEND          BRUSH                      1,350,734.29  1,483,040.00   \n",
       "                      GARBAGE COLLECTIONS            8,600.00      8,600.00   \n",
       "                      ORGANICS                       8,080.00      8,080.00   \n",
       "                      YARD TRIMMING                501,506.67    168,560.00   \n",
       "MRF                   BULK                          13,750.00     13,750.00   \n",
       "                      RECYCLED METAL                   230.00        230.00   \n",
       "                      TIRES                         39,238.14     34,820.00   \n",
       "ON ROUTE HIGH DUMP    ORGANICS                      29,226.67     22,520.00   \n",
       "                      SWEEPING                     139,366.67    141,250.00   \n",
       "ONION CREEK           SWEEPING                   1,312,414.29  1,344,700.00   \n",
       "ORGANICS BY GOSH      DEAD ANIMAL                      625.71        540.00   \n",
       "                      GARBAGE COLLECTIONS            7,500.00      7,500.00   \n",
       "                      ORGANICS                   9,700,452.29  8,702,700.00   \n",
       "                      RECYCLED METAL                20,886.67     13,420.00   \n",
       "                      SWEEPING                      15,200.00     15,200.00   \n",
       "PARK BEND             ORGANICS                      17,846.67     20,400.00   \n",
       "PARK CENTER           SWEEPING                     141,250.00    113,000.00   \n",
       "ST. EDWARDS           SWEEPING                      11,300.00     11,300.00   \n",
       "STEINER LANDFILL      GARBAGE COLLECTIONS              780.00        780.00   \n",
       "TDS - MRF             BULK                           9,880.00      9,880.00   \n",
       "                      GARBAGE COLLECTIONS           78,316.67     74,300.00   \n",
       "                      LITTER                           360.00        360.00   \n",
       "                      RECYCLING - SINGLE STREAM  4,087,751.43  4,655,730.00   \n",
       "TDS LANDFILL          BRUSH                         18,440.00     18,440.00   \n",
       "                      BULK                       1,841,925.71  1,833,200.00   \n",
       "                      CONTAMINATED ORGANICS         25,380.00     25,380.00   \n",
       "                      CONTAMINATED RECYCLING         5,160.00      5,160.00   \n",
       "                      DEAD ANIMAL                    2,895.71      3,580.00   \n",
       "                      GARBAGE COLLECTIONS       20,648,774.65 23,090,600.00   \n",
       "                      LITTER                        18,331.43     16,840.00   \n",
       "                      MIXED LITTER                 150,254.29    161,620.00   \n",
       "                      ORGANICS                       5,604.00      1,000.00   \n",
       "                      RECYCLED METAL                   220.00        220.00   \n",
       "                      RECYCLING - SINGLE STREAM      2,580.00      2,000.00   \n",
       "                      SWEEPING                     493,525.71    484,940.00   \n",
       "                      TIRES                          8,780.00      6,260.00   \n",
       "WESTFIELD             GARBAGE COLLECTIONS           16,020.00     16,020.00   \n",
       "WILCAB                SWEEPING                      11,300.00     11,300.00   \n",
       "\n",
       "                                                              \n",
       "                                                         std  \n",
       "dropoff_site          load_type                               \n",
       "AUSTIN IRON AND METAL RECYCLED METAL                1,765.36  \n",
       "AUSTIN WOOD RECYCLING RECYCLING - SINGLE STREAM     2,418.31  \n",
       "BALCONES RECYCLING    RECYCLING - SINGLE STREAM 2,117,444.52  \n",
       "BALCONES WOODS        RECYCLING - SINGLE STREAM          NaN  \n",
       "GREAT NORTHERN        GARBAGE COLLECTIONS          33,440.49  \n",
       "                      SWEEPING                    172,116.47  \n",
       "HORNSBY BEND          BRUSH                       545,041.09  \n",
       "                      GARBAGE COLLECTIONS                NaN  \n",
       "                      ORGANICS                      2,319.31  \n",
       "                      YARD TRIMMING               708,817.51  \n",
       "MRF                   BULK                          1,880.90  \n",
       "                      RECYCLED METAL                     NaN  \n",
       "                      TIRES                        21,735.50  \n",
       "ON ROUTE HIGH DUMP    ORGANICS                     11,703.00  \n",
       "                      SWEEPING                    101,490.53  \n",
       "ONION CREEK           SWEEPING                    523,570.54  \n",
       "ORGANICS BY GOSH      DEAD ANIMAL                     550.60  \n",
       "                      GARBAGE COLLECTIONS                NaN  \n",
       "                      ORGANICS                  6,644,910.22  \n",
       "                      RECYCLED METAL               15,040.94  \n",
       "                      SWEEPING                      1,046.52  \n",
       "PARK BEND             ORGANICS                      7,924.75  \n",
       "PARK CENTER           SWEEPING                    112,717.15  \n",
       "ST. EDWARDS           SWEEPING                           NaN  \n",
       "STEINER LANDFILL      GARBAGE COLLECTIONS                NaN  \n",
       "TDS - MRF             BULK                          8,032.73  \n",
       "                      GARBAGE COLLECTIONS          22,859.75  \n",
       "                      LITTER                             NaN  \n",
       "                      RECYCLING - SINGLE STREAM 1,766,072.36  \n",
       "TDS LANDFILL          BRUSH                              NaN  \n",
       "                      BULK                        714,647.03  \n",
       "                      CONTAMINATED ORGANICS              NaN  \n",
       "                      CONTAMINATED RECYCLING             NaN  \n",
       "                      DEAD ANIMAL                   1,332.76  \n",
       "                      GARBAGE COLLECTIONS       6,848,622.54  \n",
       "                      LITTER                       10,141.56  \n",
       "                      MIXED LITTER                 68,542.78  \n",
       "                      ORGANICS                     10,557.25  \n",
       "                      RECYCLED METAL                     NaN  \n",
       "                      RECYCLING - SINGLE STREAM     2,500.96  \n",
       "                      SWEEPING                    226,841.93  \n",
       "                      TIRES                         7,999.62  \n",
       "WESTFIELD             GARBAGE COLLECTIONS                NaN  \n",
       "WILCAB                SWEEPING                           NaN  "
      ]
     },
     "execution_count": 25,
     "metadata": {},
     "output_type": "execute_result"
    }
   ],
   "source": [
    "df_monthly_centrality_by_type = df_monthly_by_type.groupby(['dropoff_site','load_type']).agg({'load_weight':['mean','median','std']}) #monthly centrality berdasarkan jenis sampah\n",
    "df_monthly_centrality_by_type"
   ]
  },
  {
   "cell_type": "code",
   "execution_count": 26,
   "metadata": {},
   "outputs": [
    {
     "data": {
      "text/html": [
       "<div>\n",
       "<style scoped>\n",
       "    .dataframe tbody tr th:only-of-type {\n",
       "        vertical-align: middle;\n",
       "    }\n",
       "\n",
       "    .dataframe tbody tr th {\n",
       "        vertical-align: top;\n",
       "    }\n",
       "\n",
       "    .dataframe thead tr th {\n",
       "        text-align: left;\n",
       "    }\n",
       "\n",
       "    .dataframe thead tr:last-of-type th {\n",
       "        text-align: right;\n",
       "    }\n",
       "</style>\n",
       "<table border=\"1\" class=\"dataframe\">\n",
       "  <thead>\n",
       "    <tr>\n",
       "      <th></th>\n",
       "      <th></th>\n",
       "      <th colspan=\"3\" halign=\"left\">load_weight</th>\n",
       "    </tr>\n",
       "    <tr>\n",
       "      <th></th>\n",
       "      <th></th>\n",
       "      <th>mean</th>\n",
       "      <th>median</th>\n",
       "      <th>std</th>\n",
       "    </tr>\n",
       "    <tr>\n",
       "      <th>dropoff_site</th>\n",
       "      <th>load_type</th>\n",
       "      <th></th>\n",
       "      <th></th>\n",
       "      <th></th>\n",
       "    </tr>\n",
       "  </thead>\n",
       "  <tbody>\n",
       "    <tr>\n",
       "      <th>TDS LANDFILL</th>\n",
       "      <th>GARBAGE COLLECTIONS</th>\n",
       "      <td>20,648,774.65</td>\n",
       "      <td>23,090,600.00</td>\n",
       "      <td>6,848,622.54</td>\n",
       "    </tr>\n",
       "    <tr>\n",
       "      <th>ORGANICS BY GOSH</th>\n",
       "      <th>ORGANICS</th>\n",
       "      <td>9,700,452.29</td>\n",
       "      <td>8,702,700.00</td>\n",
       "      <td>6,644,910.22</td>\n",
       "    </tr>\n",
       "    <tr>\n",
       "      <th>BALCONES RECYCLING</th>\n",
       "      <th>RECYCLING - SINGLE STREAM</th>\n",
       "      <td>5,187,981.43</td>\n",
       "      <td>5,944,230.00</td>\n",
       "      <td>2,117,444.52</td>\n",
       "    </tr>\n",
       "    <tr>\n",
       "      <th>TDS - MRF</th>\n",
       "      <th>RECYCLING - SINGLE STREAM</th>\n",
       "      <td>4,087,751.43</td>\n",
       "      <td>4,655,730.00</td>\n",
       "      <td>1,766,072.36</td>\n",
       "    </tr>\n",
       "    <tr>\n",
       "      <th>TDS LANDFILL</th>\n",
       "      <th>BULK</th>\n",
       "      <td>1,841,925.71</td>\n",
       "      <td>1,833,200.00</td>\n",
       "      <td>714,647.03</td>\n",
       "    </tr>\n",
       "    <tr>\n",
       "      <th>HORNSBY BEND</th>\n",
       "      <th>BRUSH</th>\n",
       "      <td>1,350,734.29</td>\n",
       "      <td>1,483,040.00</td>\n",
       "      <td>545,041.09</td>\n",
       "    </tr>\n",
       "    <tr>\n",
       "      <th>ONION CREEK</th>\n",
       "      <th>SWEEPING</th>\n",
       "      <td>1,312,414.29</td>\n",
       "      <td>1,344,700.00</td>\n",
       "      <td>523,570.54</td>\n",
       "    </tr>\n",
       "    <tr>\n",
       "      <th>HORNSBY BEND</th>\n",
       "      <th>YARD TRIMMING</th>\n",
       "      <td>501,506.67</td>\n",
       "      <td>168,560.00</td>\n",
       "      <td>708,817.51</td>\n",
       "    </tr>\n",
       "    <tr>\n",
       "      <th>TDS LANDFILL</th>\n",
       "      <th>SWEEPING</th>\n",
       "      <td>493,525.71</td>\n",
       "      <td>484,940.00</td>\n",
       "      <td>226,841.93</td>\n",
       "    </tr>\n",
       "    <tr>\n",
       "      <th>GREAT NORTHERN</th>\n",
       "      <th>SWEEPING</th>\n",
       "      <td>180,800.00</td>\n",
       "      <td>169,500.00</td>\n",
       "      <td>172,116.47</td>\n",
       "    </tr>\n",
       "    <tr>\n",
       "      <th>TDS LANDFILL</th>\n",
       "      <th>MIXED LITTER</th>\n",
       "      <td>150,254.29</td>\n",
       "      <td>161,620.00</td>\n",
       "      <td>68,542.78</td>\n",
       "    </tr>\n",
       "    <tr>\n",
       "      <th>PARK CENTER</th>\n",
       "      <th>SWEEPING</th>\n",
       "      <td>141,250.00</td>\n",
       "      <td>113,000.00</td>\n",
       "      <td>112,717.15</td>\n",
       "    </tr>\n",
       "    <tr>\n",
       "      <th>ON ROUTE HIGH DUMP</th>\n",
       "      <th>SWEEPING</th>\n",
       "      <td>139,366.67</td>\n",
       "      <td>141,250.00</td>\n",
       "      <td>101,490.53</td>\n",
       "    </tr>\n",
       "    <tr>\n",
       "      <th>TDS - MRF</th>\n",
       "      <th>GARBAGE COLLECTIONS</th>\n",
       "      <td>78,316.67</td>\n",
       "      <td>74,300.00</td>\n",
       "      <td>22,859.75</td>\n",
       "    </tr>\n",
       "    <tr>\n",
       "      <th>MRF</th>\n",
       "      <th>TIRES</th>\n",
       "      <td>39,238.14</td>\n",
       "      <td>34,820.00</td>\n",
       "      <td>21,735.50</td>\n",
       "    </tr>\n",
       "    <tr>\n",
       "      <th>GREAT NORTHERN</th>\n",
       "      <th>GARBAGE COLLECTIONS</th>\n",
       "      <td>38,306.67</td>\n",
       "      <td>20,900.00</td>\n",
       "      <td>33,440.49</td>\n",
       "    </tr>\n",
       "    <tr>\n",
       "      <th>ON ROUTE HIGH DUMP</th>\n",
       "      <th>ORGANICS</th>\n",
       "      <td>29,226.67</td>\n",
       "      <td>22,520.00</td>\n",
       "      <td>11,703.00</td>\n",
       "    </tr>\n",
       "    <tr>\n",
       "      <th>TDS LANDFILL</th>\n",
       "      <th>CONTAMINATED ORGANICS</th>\n",
       "      <td>25,380.00</td>\n",
       "      <td>25,380.00</td>\n",
       "      <td>NaN</td>\n",
       "    </tr>\n",
       "    <tr>\n",
       "      <th>ORGANICS BY GOSH</th>\n",
       "      <th>RECYCLED METAL</th>\n",
       "      <td>20,886.67</td>\n",
       "      <td>13,420.00</td>\n",
       "      <td>15,040.94</td>\n",
       "    </tr>\n",
       "    <tr>\n",
       "      <th rowspan=\"2\" valign=\"top\">TDS LANDFILL</th>\n",
       "      <th>BRUSH</th>\n",
       "      <td>18,440.00</td>\n",
       "      <td>18,440.00</td>\n",
       "      <td>NaN</td>\n",
       "    </tr>\n",
       "    <tr>\n",
       "      <th>LITTER</th>\n",
       "      <td>18,331.43</td>\n",
       "      <td>16,840.00</td>\n",
       "      <td>10,141.56</td>\n",
       "    </tr>\n",
       "    <tr>\n",
       "      <th>PARK BEND</th>\n",
       "      <th>ORGANICS</th>\n",
       "      <td>17,846.67</td>\n",
       "      <td>20,400.00</td>\n",
       "      <td>7,924.75</td>\n",
       "    </tr>\n",
       "    <tr>\n",
       "      <th>WESTFIELD</th>\n",
       "      <th>GARBAGE COLLECTIONS</th>\n",
       "      <td>16,020.00</td>\n",
       "      <td>16,020.00</td>\n",
       "      <td>NaN</td>\n",
       "    </tr>\n",
       "    <tr>\n",
       "      <th>ORGANICS BY GOSH</th>\n",
       "      <th>SWEEPING</th>\n",
       "      <td>15,200.00</td>\n",
       "      <td>15,200.00</td>\n",
       "      <td>1,046.52</td>\n",
       "    </tr>\n",
       "    <tr>\n",
       "      <th>MRF</th>\n",
       "      <th>BULK</th>\n",
       "      <td>13,750.00</td>\n",
       "      <td>13,750.00</td>\n",
       "      <td>1,880.90</td>\n",
       "    </tr>\n",
       "    <tr>\n",
       "      <th>WILCAB</th>\n",
       "      <th>SWEEPING</th>\n",
       "      <td>11,300.00</td>\n",
       "      <td>11,300.00</td>\n",
       "      <td>NaN</td>\n",
       "    </tr>\n",
       "    <tr>\n",
       "      <th>ST. EDWARDS</th>\n",
       "      <th>SWEEPING</th>\n",
       "      <td>11,300.00</td>\n",
       "      <td>11,300.00</td>\n",
       "      <td>NaN</td>\n",
       "    </tr>\n",
       "    <tr>\n",
       "      <th>TDS - MRF</th>\n",
       "      <th>BULK</th>\n",
       "      <td>9,880.00</td>\n",
       "      <td>9,880.00</td>\n",
       "      <td>8,032.73</td>\n",
       "    </tr>\n",
       "    <tr>\n",
       "      <th>TDS LANDFILL</th>\n",
       "      <th>TIRES</th>\n",
       "      <td>8,780.00</td>\n",
       "      <td>6,260.00</td>\n",
       "      <td>7,999.62</td>\n",
       "    </tr>\n",
       "    <tr>\n",
       "      <th>HORNSBY BEND</th>\n",
       "      <th>GARBAGE COLLECTIONS</th>\n",
       "      <td>8,600.00</td>\n",
       "      <td>8,600.00</td>\n",
       "      <td>NaN</td>\n",
       "    </tr>\n",
       "    <tr>\n",
       "      <th>BALCONES WOODS</th>\n",
       "      <th>RECYCLING - SINGLE STREAM</th>\n",
       "      <td>8,460.00</td>\n",
       "      <td>8,460.00</td>\n",
       "      <td>NaN</td>\n",
       "    </tr>\n",
       "    <tr>\n",
       "      <th>HORNSBY BEND</th>\n",
       "      <th>ORGANICS</th>\n",
       "      <td>8,080.00</td>\n",
       "      <td>8,080.00</td>\n",
       "      <td>2,319.31</td>\n",
       "    </tr>\n",
       "    <tr>\n",
       "      <th>ORGANICS BY GOSH</th>\n",
       "      <th>GARBAGE COLLECTIONS</th>\n",
       "      <td>7,500.00</td>\n",
       "      <td>7,500.00</td>\n",
       "      <td>NaN</td>\n",
       "    </tr>\n",
       "    <tr>\n",
       "      <th rowspan=\"2\" valign=\"top\">TDS LANDFILL</th>\n",
       "      <th>ORGANICS</th>\n",
       "      <td>5,604.00</td>\n",
       "      <td>1,000.00</td>\n",
       "      <td>10,557.25</td>\n",
       "    </tr>\n",
       "    <tr>\n",
       "      <th>CONTAMINATED RECYCLING</th>\n",
       "      <td>5,160.00</td>\n",
       "      <td>5,160.00</td>\n",
       "      <td>NaN</td>\n",
       "    </tr>\n",
       "    <tr>\n",
       "      <th>AUSTIN WOOD RECYCLING</th>\n",
       "      <th>RECYCLING - SINGLE STREAM</th>\n",
       "      <td>4,050.00</td>\n",
       "      <td>4,050.00</td>\n",
       "      <td>2,418.31</td>\n",
       "    </tr>\n",
       "    <tr>\n",
       "      <th>AUSTIN IRON AND METAL</th>\n",
       "      <th>RECYCLED METAL</th>\n",
       "      <td>3,222.86</td>\n",
       "      <td>3,410.00</td>\n",
       "      <td>1,765.36</td>\n",
       "    </tr>\n",
       "    <tr>\n",
       "      <th rowspan=\"2\" valign=\"top\">TDS LANDFILL</th>\n",
       "      <th>DEAD ANIMAL</th>\n",
       "      <td>2,895.71</td>\n",
       "      <td>3,580.00</td>\n",
       "      <td>1,332.76</td>\n",
       "    </tr>\n",
       "    <tr>\n",
       "      <th>RECYCLING - SINGLE STREAM</th>\n",
       "      <td>2,580.00</td>\n",
       "      <td>2,000.00</td>\n",
       "      <td>2,500.96</td>\n",
       "    </tr>\n",
       "    <tr>\n",
       "      <th>STEINER LANDFILL</th>\n",
       "      <th>GARBAGE COLLECTIONS</th>\n",
       "      <td>780.00</td>\n",
       "      <td>780.00</td>\n",
       "      <td>NaN</td>\n",
       "    </tr>\n",
       "    <tr>\n",
       "      <th>ORGANICS BY GOSH</th>\n",
       "      <th>DEAD ANIMAL</th>\n",
       "      <td>625.71</td>\n",
       "      <td>540.00</td>\n",
       "      <td>550.60</td>\n",
       "    </tr>\n",
       "    <tr>\n",
       "      <th>TDS - MRF</th>\n",
       "      <th>LITTER</th>\n",
       "      <td>360.00</td>\n",
       "      <td>360.00</td>\n",
       "      <td>NaN</td>\n",
       "    </tr>\n",
       "    <tr>\n",
       "      <th>MRF</th>\n",
       "      <th>RECYCLED METAL</th>\n",
       "      <td>230.00</td>\n",
       "      <td>230.00</td>\n",
       "      <td>NaN</td>\n",
       "    </tr>\n",
       "    <tr>\n",
       "      <th>TDS LANDFILL</th>\n",
       "      <th>RECYCLED METAL</th>\n",
       "      <td>220.00</td>\n",
       "      <td>220.00</td>\n",
       "      <td>NaN</td>\n",
       "    </tr>\n",
       "  </tbody>\n",
       "</table>\n",
       "</div>"
      ],
      "text/plain": [
       "                                                  load_weight                \\\n",
       "                                                         mean        median   \n",
       "dropoff_site          load_type                                               \n",
       "TDS LANDFILL          GARBAGE COLLECTIONS       20,648,774.65 23,090,600.00   \n",
       "ORGANICS BY GOSH      ORGANICS                   9,700,452.29  8,702,700.00   \n",
       "BALCONES RECYCLING    RECYCLING - SINGLE STREAM  5,187,981.43  5,944,230.00   \n",
       "TDS - MRF             RECYCLING - SINGLE STREAM  4,087,751.43  4,655,730.00   \n",
       "TDS LANDFILL          BULK                       1,841,925.71  1,833,200.00   \n",
       "HORNSBY BEND          BRUSH                      1,350,734.29  1,483,040.00   \n",
       "ONION CREEK           SWEEPING                   1,312,414.29  1,344,700.00   \n",
       "HORNSBY BEND          YARD TRIMMING                501,506.67    168,560.00   \n",
       "TDS LANDFILL          SWEEPING                     493,525.71    484,940.00   \n",
       "GREAT NORTHERN        SWEEPING                     180,800.00    169,500.00   \n",
       "TDS LANDFILL          MIXED LITTER                 150,254.29    161,620.00   \n",
       "PARK CENTER           SWEEPING                     141,250.00    113,000.00   \n",
       "ON ROUTE HIGH DUMP    SWEEPING                     139,366.67    141,250.00   \n",
       "TDS - MRF             GARBAGE COLLECTIONS           78,316.67     74,300.00   \n",
       "MRF                   TIRES                         39,238.14     34,820.00   \n",
       "GREAT NORTHERN        GARBAGE COLLECTIONS           38,306.67     20,900.00   \n",
       "ON ROUTE HIGH DUMP    ORGANICS                      29,226.67     22,520.00   \n",
       "TDS LANDFILL          CONTAMINATED ORGANICS         25,380.00     25,380.00   \n",
       "ORGANICS BY GOSH      RECYCLED METAL                20,886.67     13,420.00   \n",
       "TDS LANDFILL          BRUSH                         18,440.00     18,440.00   \n",
       "                      LITTER                        18,331.43     16,840.00   \n",
       "PARK BEND             ORGANICS                      17,846.67     20,400.00   \n",
       "WESTFIELD             GARBAGE COLLECTIONS           16,020.00     16,020.00   \n",
       "ORGANICS BY GOSH      SWEEPING                      15,200.00     15,200.00   \n",
       "MRF                   BULK                          13,750.00     13,750.00   \n",
       "WILCAB                SWEEPING                      11,300.00     11,300.00   \n",
       "ST. EDWARDS           SWEEPING                      11,300.00     11,300.00   \n",
       "TDS - MRF             BULK                           9,880.00      9,880.00   \n",
       "TDS LANDFILL          TIRES                          8,780.00      6,260.00   \n",
       "HORNSBY BEND          GARBAGE COLLECTIONS            8,600.00      8,600.00   \n",
       "BALCONES WOODS        RECYCLING - SINGLE STREAM      8,460.00      8,460.00   \n",
       "HORNSBY BEND          ORGANICS                       8,080.00      8,080.00   \n",
       "ORGANICS BY GOSH      GARBAGE COLLECTIONS            7,500.00      7,500.00   \n",
       "TDS LANDFILL          ORGANICS                       5,604.00      1,000.00   \n",
       "                      CONTAMINATED RECYCLING         5,160.00      5,160.00   \n",
       "AUSTIN WOOD RECYCLING RECYCLING - SINGLE STREAM      4,050.00      4,050.00   \n",
       "AUSTIN IRON AND METAL RECYCLED METAL                 3,222.86      3,410.00   \n",
       "TDS LANDFILL          DEAD ANIMAL                    2,895.71      3,580.00   \n",
       "                      RECYCLING - SINGLE STREAM      2,580.00      2,000.00   \n",
       "STEINER LANDFILL      GARBAGE COLLECTIONS              780.00        780.00   \n",
       "ORGANICS BY GOSH      DEAD ANIMAL                      625.71        540.00   \n",
       "TDS - MRF             LITTER                           360.00        360.00   \n",
       "MRF                   RECYCLED METAL                   230.00        230.00   \n",
       "TDS LANDFILL          RECYCLED METAL                   220.00        220.00   \n",
       "\n",
       "                                                              \n",
       "                                                         std  \n",
       "dropoff_site          load_type                               \n",
       "TDS LANDFILL          GARBAGE COLLECTIONS       6,848,622.54  \n",
       "ORGANICS BY GOSH      ORGANICS                  6,644,910.22  \n",
       "BALCONES RECYCLING    RECYCLING - SINGLE STREAM 2,117,444.52  \n",
       "TDS - MRF             RECYCLING - SINGLE STREAM 1,766,072.36  \n",
       "TDS LANDFILL          BULK                        714,647.03  \n",
       "HORNSBY BEND          BRUSH                       545,041.09  \n",
       "ONION CREEK           SWEEPING                    523,570.54  \n",
       "HORNSBY BEND          YARD TRIMMING               708,817.51  \n",
       "TDS LANDFILL          SWEEPING                    226,841.93  \n",
       "GREAT NORTHERN        SWEEPING                    172,116.47  \n",
       "TDS LANDFILL          MIXED LITTER                 68,542.78  \n",
       "PARK CENTER           SWEEPING                    112,717.15  \n",
       "ON ROUTE HIGH DUMP    SWEEPING                    101,490.53  \n",
       "TDS - MRF             GARBAGE COLLECTIONS          22,859.75  \n",
       "MRF                   TIRES                        21,735.50  \n",
       "GREAT NORTHERN        GARBAGE COLLECTIONS          33,440.49  \n",
       "ON ROUTE HIGH DUMP    ORGANICS                     11,703.00  \n",
       "TDS LANDFILL          CONTAMINATED ORGANICS              NaN  \n",
       "ORGANICS BY GOSH      RECYCLED METAL               15,040.94  \n",
       "TDS LANDFILL          BRUSH                              NaN  \n",
       "                      LITTER                       10,141.56  \n",
       "PARK BEND             ORGANICS                      7,924.75  \n",
       "WESTFIELD             GARBAGE COLLECTIONS                NaN  \n",
       "ORGANICS BY GOSH      SWEEPING                      1,046.52  \n",
       "MRF                   BULK                          1,880.90  \n",
       "WILCAB                SWEEPING                           NaN  \n",
       "ST. EDWARDS           SWEEPING                           NaN  \n",
       "TDS - MRF             BULK                          8,032.73  \n",
       "TDS LANDFILL          TIRES                         7,999.62  \n",
       "HORNSBY BEND          GARBAGE COLLECTIONS                NaN  \n",
       "BALCONES WOODS        RECYCLING - SINGLE STREAM          NaN  \n",
       "HORNSBY BEND          ORGANICS                      2,319.31  \n",
       "ORGANICS BY GOSH      GARBAGE COLLECTIONS                NaN  \n",
       "TDS LANDFILL          ORGANICS                     10,557.25  \n",
       "                      CONTAMINATED RECYCLING             NaN  \n",
       "AUSTIN WOOD RECYCLING RECYCLING - SINGLE STREAM     2,418.31  \n",
       "AUSTIN IRON AND METAL RECYCLED METAL                1,765.36  \n",
       "TDS LANDFILL          DEAD ANIMAL                   1,332.76  \n",
       "                      RECYCLING - SINGLE STREAM     2,500.96  \n",
       "STEINER LANDFILL      GARBAGE COLLECTIONS                NaN  \n",
       "ORGANICS BY GOSH      DEAD ANIMAL                     550.60  \n",
       "TDS - MRF             LITTER                             NaN  \n",
       "MRF                   RECYCLED METAL                     NaN  \n",
       "TDS LANDFILL          RECYCLED METAL                     NaN  "
      ]
     },
     "execution_count": 26,
     "metadata": {},
     "output_type": "execute_result"
    }
   ],
   "source": [
    "df_monthly_centrality_by_type.sort_values(by=('load_weight','mean'),ascending=False) # mengurutkan site dari nilai mean tertinggi"
   ]
  },
  {
   "attachments": {},
   "cell_type": "markdown",
   "metadata": {},
   "source": [
    "Monthly centrality tanpa melihat jenis sampah"
   ]
  },
  {
   "cell_type": "code",
   "execution_count": 27,
   "metadata": {},
   "outputs": [
    {
     "data": {
      "text/html": [
       "<div>\n",
       "<style scoped>\n",
       "    .dataframe tbody tr th:only-of-type {\n",
       "        vertical-align: middle;\n",
       "    }\n",
       "\n",
       "    .dataframe tbody tr th {\n",
       "        vertical-align: top;\n",
       "    }\n",
       "\n",
       "    .dataframe thead tr th {\n",
       "        text-align: left;\n",
       "    }\n",
       "\n",
       "    .dataframe thead tr:last-of-type th {\n",
       "        text-align: right;\n",
       "    }\n",
       "</style>\n",
       "<table border=\"1\" class=\"dataframe\">\n",
       "  <thead>\n",
       "    <tr>\n",
       "      <th></th>\n",
       "      <th colspan=\"3\" halign=\"left\">load_weight</th>\n",
       "    </tr>\n",
       "    <tr>\n",
       "      <th></th>\n",
       "      <th>mean</th>\n",
       "      <th>median</th>\n",
       "      <th>std</th>\n",
       "    </tr>\n",
       "    <tr>\n",
       "      <th>dropoff_site</th>\n",
       "      <th></th>\n",
       "      <th></th>\n",
       "      <th></th>\n",
       "    </tr>\n",
       "  </thead>\n",
       "  <tbody>\n",
       "    <tr>\n",
       "      <th>TDS LANDFILL</th>\n",
       "      <td>23,172,861.79</td>\n",
       "      <td>25,748,140.00</td>\n",
       "      <td>7,436,916.57</td>\n",
       "    </tr>\n",
       "    <tr>\n",
       "      <th>ORGANICS BY GOSH</th>\n",
       "      <td>9,715,443.71</td>\n",
       "      <td>8,715,460.00</td>\n",
       "      <td>6,659,087.54</td>\n",
       "    </tr>\n",
       "    <tr>\n",
       "      <th>BALCONES RECYCLING</th>\n",
       "      <td>5,187,981.43</td>\n",
       "      <td>5,944,230.00</td>\n",
       "      <td>2,117,444.52</td>\n",
       "    </tr>\n",
       "    <tr>\n",
       "      <th>TDS - MRF</th>\n",
       "      <td>4,157,754.29</td>\n",
       "      <td>4,733,050.00</td>\n",
       "      <td>1,796,368.00</td>\n",
       "    </tr>\n",
       "    <tr>\n",
       "      <th>HORNSBY BEND</th>\n",
       "      <td>1,569,202.86</td>\n",
       "      <td>1,660,200.00</td>\n",
       "      <td>567,745.82</td>\n",
       "    </tr>\n",
       "    <tr>\n",
       "      <th>ONION CREEK</th>\n",
       "      <td>1,312,414.29</td>\n",
       "      <td>1,344,700.00</td>\n",
       "      <td>523,570.54</td>\n",
       "    </tr>\n",
       "    <tr>\n",
       "      <th>GREAT NORTHERN</th>\n",
       "      <td>167,624.00</td>\n",
       "      <td>76,860.00</td>\n",
       "      <td>157,425.62</td>\n",
       "    </tr>\n",
       "    <tr>\n",
       "      <th>PARK CENTER</th>\n",
       "      <td>141,250.00</td>\n",
       "      <td>113,000.00</td>\n",
       "      <td>112,717.15</td>\n",
       "    </tr>\n",
       "    <tr>\n",
       "      <th>ON ROUTE HIGH DUMP</th>\n",
       "      <td>131,982.86</td>\n",
       "      <td>124,300.00</td>\n",
       "      <td>103,686.47</td>\n",
       "    </tr>\n",
       "    <tr>\n",
       "      <th>MRF</th>\n",
       "      <td>43,199.57</td>\n",
       "      <td>49,900.00</td>\n",
       "      <td>20,962.13</td>\n",
       "    </tr>\n",
       "    <tr>\n",
       "      <th>PARK BEND</th>\n",
       "      <td>17,846.67</td>\n",
       "      <td>20,400.00</td>\n",
       "      <td>7,924.75</td>\n",
       "    </tr>\n",
       "    <tr>\n",
       "      <th>WESTFIELD</th>\n",
       "      <td>16,020.00</td>\n",
       "      <td>16,020.00</td>\n",
       "      <td>NaN</td>\n",
       "    </tr>\n",
       "    <tr>\n",
       "      <th>WILCAB</th>\n",
       "      <td>11,300.00</td>\n",
       "      <td>11,300.00</td>\n",
       "      <td>NaN</td>\n",
       "    </tr>\n",
       "    <tr>\n",
       "      <th>ST. EDWARDS</th>\n",
       "      <td>11,300.00</td>\n",
       "      <td>11,300.00</td>\n",
       "      <td>NaN</td>\n",
       "    </tr>\n",
       "    <tr>\n",
       "      <th>BALCONES WOODS</th>\n",
       "      <td>8,460.00</td>\n",
       "      <td>8,460.00</td>\n",
       "      <td>NaN</td>\n",
       "    </tr>\n",
       "    <tr>\n",
       "      <th>AUSTIN WOOD RECYCLING</th>\n",
       "      <td>4,050.00</td>\n",
       "      <td>4,050.00</td>\n",
       "      <td>2,418.31</td>\n",
       "    </tr>\n",
       "    <tr>\n",
       "      <th>AUSTIN IRON AND METAL</th>\n",
       "      <td>3,222.86</td>\n",
       "      <td>3,410.00</td>\n",
       "      <td>1,765.36</td>\n",
       "    </tr>\n",
       "    <tr>\n",
       "      <th>STEINER LANDFILL</th>\n",
       "      <td>780.00</td>\n",
       "      <td>780.00</td>\n",
       "      <td>NaN</td>\n",
       "    </tr>\n",
       "  </tbody>\n",
       "</table>\n",
       "</div>"
      ],
      "text/plain": [
       "                        load_weight                           \n",
       "                               mean        median          std\n",
       "dropoff_site                                                  \n",
       "TDS LANDFILL          23,172,861.79 25,748,140.00 7,436,916.57\n",
       "ORGANICS BY GOSH       9,715,443.71  8,715,460.00 6,659,087.54\n",
       "BALCONES RECYCLING     5,187,981.43  5,944,230.00 2,117,444.52\n",
       "TDS - MRF              4,157,754.29  4,733,050.00 1,796,368.00\n",
       "HORNSBY BEND           1,569,202.86  1,660,200.00   567,745.82\n",
       "ONION CREEK            1,312,414.29  1,344,700.00   523,570.54\n",
       "GREAT NORTHERN           167,624.00     76,860.00   157,425.62\n",
       "PARK CENTER              141,250.00    113,000.00   112,717.15\n",
       "ON ROUTE HIGH DUMP       131,982.86    124,300.00   103,686.47\n",
       "MRF                       43,199.57     49,900.00    20,962.13\n",
       "PARK BEND                 17,846.67     20,400.00     7,924.75\n",
       "WESTFIELD                 16,020.00     16,020.00          NaN\n",
       "WILCAB                    11,300.00     11,300.00          NaN\n",
       "ST. EDWARDS               11,300.00     11,300.00          NaN\n",
       "BALCONES WOODS             8,460.00      8,460.00          NaN\n",
       "AUSTIN WOOD RECYCLING      4,050.00      4,050.00     2,418.31\n",
       "AUSTIN IRON AND METAL      3,222.86      3,410.00     1,765.36\n",
       "STEINER LANDFILL             780.00        780.00          NaN"
      ]
     },
     "execution_count": 27,
     "metadata": {},
     "output_type": "execute_result"
    }
   ],
   "source": [
    "df_monthly_centrality = df_monthly.groupby(['dropoff_site']).agg({'load_weight':['mean','median','std']}) #monthly centrality\n",
    "df_monthly_centrality.sort_values(by=('load_weight','mean'),ascending=False) # mengurutkan site dari nilai mean tertinggi"
   ]
  },
  {
   "attachments": {},
   "cell_type": "markdown",
   "metadata": {},
   "source": [
    "Value NaN pada standar deviasi menunjukkan bahwa entri data pada baris tersebut hanya memiliki 1 buah entri data dan standar deviasi pada sebuah entri data tidak terdefinisi."
   ]
  },
  {
   "attachments": {},
   "cell_type": "markdown",
   "metadata": {},
   "source": [
    "Menampilkan modus dari dataset"
   ]
  },
  {
   "cell_type": "code",
   "execution_count": 28,
   "metadata": {},
   "outputs": [
    {
     "data": {
      "text/html": [
       "<div>\n",
       "<style scoped>\n",
       "    .dataframe tbody tr th:only-of-type {\n",
       "        vertical-align: middle;\n",
       "    }\n",
       "\n",
       "    .dataframe tbody tr th {\n",
       "        vertical-align: top;\n",
       "    }\n",
       "\n",
       "    .dataframe thead th {\n",
       "        text-align: right;\n",
       "    }\n",
       "</style>\n",
       "<table border=\"1\" class=\"dataframe\">\n",
       "  <thead>\n",
       "    <tr style=\"text-align: right;\">\n",
       "      <th></th>\n",
       "      <th>report_date</th>\n",
       "      <th>load_time</th>\n",
       "      <th>load_type</th>\n",
       "      <th>load_weight</th>\n",
       "      <th>dropoff_site</th>\n",
       "    </tr>\n",
       "  </thead>\n",
       "  <tbody>\n",
       "    <tr>\n",
       "      <th>0</th>\n",
       "      <td>2021-02-25</td>\n",
       "      <td>2021-03-05 12:00:00 UTC</td>\n",
       "      <td>GARBAGE COLLECTIONS</td>\n",
       "      <td>11,300.00</td>\n",
       "      <td>TDS LANDFILL</td>\n",
       "    </tr>\n",
       "  </tbody>\n",
       "</table>\n",
       "</div>"
      ],
      "text/plain": [
       "  report_date                load_time            load_type  load_weight  \\\n",
       "0  2021-02-25  2021-03-05 12:00:00 UTC  GARBAGE COLLECTIONS    11,300.00   \n",
       "\n",
       "   dropoff_site  \n",
       "0  TDS LANDFILL  "
      ]
     },
     "execution_count": 28,
     "metadata": {},
     "output_type": "execute_result"
    }
   ],
   "source": [
    "df.mode()"
   ]
  },
  {
   "attachments": {},
   "cell_type": "markdown",
   "metadata": {},
   "source": [
    "## Informasi dan Insight dari Dataset"
   ]
  },
  {
   "attachments": {},
   "cell_type": "markdown",
   "metadata": {
    "tags": []
   },
   "source": [
    "- TDS Landfill menampung paling banyak sampah dan juga jenis sampah.\n",
    "- Tiap bulannya TDS Landfil rata-rata menampung sekitar 23 juta sampah.\n",
    "- Dalam periode Januari-Juli 2021 Park Center dan ST.Edward menampung sampah dengan rata rata yang sama.\n",
    "- Namun dalam rentang periode bulanan, Park Center dan ST.Edwards menampung sampah dengan rata rata yang jauh berbeda (13-14x lipatnya).\n",
    "- Tiap bulannnya site Organic by Gosh rata-rata menampung 9,7 juta sampah organik, site penampung kedua terbanyak setelah TDS Landfill.\n",
    "- Tipe sampah dengan akumulasi terbanyak dalam 1 bulan adalah 'garbage collection'.\n",
    "- Sampah daur ulang metal tidak hanya ditemukan pada site \"Austin Iron and Metal\".\n",
    "- Tanpa memisahkan jenis sampah, nilai tengah akumulasi sampah bulanan pada tiap site relatif selalu mendekati nilai rata-ratanya.\n",
    "- Namun jika mempertimbangkan jenis sampahnya, terlihat beberapa nilai tengah yang timpang dengan nilai reratanya<br>contohnya seperti tipe sampah \"Yard Trimming\" pada site \"Hornsby Bend\".\n",
    "- Jumlah site dengan entri terbanyak adalah TDS Landfill.\n",
    "- Jumlah tipe sampah dengan entri adalah jenis sampah garbage collections. "
   ]
  },
  {
   "attachments": {},
   "cell_type": "markdown",
   "metadata": {},
   "source": [
    "Pilih site yang paling menarik perhatian kamu, dan berikan alasannya.\n",
    ">Menurut saya site yang paling menarik adalah TDS-LANDFILL dengan alasan site tersebut menampung paling banyak jenis sampah."
   ]
  },
  {
   "attachments": {},
   "cell_type": "markdown",
   "metadata": {},
   "source": [
    "## Analisis Site TDS Landfill"
   ]
  },
  {
   "attachments": {},
   "cell_type": "markdown",
   "metadata": {},
   "source": [
    "### Distribusi Jenis Sampah pada Site TDS Landfill"
   ]
  },
  {
   "attachments": {},
   "cell_type": "markdown",
   "metadata": {},
   "source": [
    "Distribusi banyaknya sampah pada TDS Landfill (tanpa memisahkan jenis sampah)"
   ]
  },
  {
   "cell_type": "code",
   "execution_count": 29,
   "metadata": {},
   "outputs": [
    {
     "name": "stdout",
     "output_type": "stream",
     "text": [
      "Skewness value :  3.6954423761109436\n"
     ]
    },
    {
     "data": {
      "image/png": "[encoded data removed]",
      "text/plain": [
       "<Figure size 640x480 with 1 Axes>"
      ]
     },
     "metadata": {},
     "output_type": "display_data"
    }
   ],
   "source": [
    "df.load_weight[df.dropoff_site=='TDS LANDFILL'].plot.hist(bins=100, color='maroon',title=\"Distribusi Semua Sampah pada TDS Landfill\")\n",
    "print('Skewness value : ', df.load_weight[df.dropoff_site=='TDS LANDFILL'].skew())"
   ]
  },
  {
   "attachments": {},
   "cell_type": "markdown",
   "metadata": {},
   "source": [
    "Distribusi banyaknya sampah pada TDS Landfill Januari-Juli 2021 dengan memperhatikan jenis sampah :"
   ]
  },
  {
   "cell_type": "code",
   "execution_count": 30,
   "metadata": {},
   "outputs": [
    {
     "data": {
      "text/plain": [
       "['BRUSH',\n",
       " 'BULK',\n",
       " 'CONTAMINATED ORGANICS',\n",
       " 'CONTAMINATED RECYCLING',\n",
       " 'DEAD ANIMAL',\n",
       " 'GARBAGE COLLECTIONS',\n",
       " 'LITTER',\n",
       " 'MIXED LITTER',\n",
       " 'ORGANICS',\n",
       " 'RECYCLED METAL',\n",
       " 'RECYCLING - SINGLE STREAM',\n",
       " 'SWEEPING',\n",
       " 'TIRES']"
      ]
     },
     "execution_count": 30,
     "metadata": {},
     "output_type": "execute_result"
    }
   ],
   "source": [
    "# simpan titles pada list\n",
    "titles = df[['load_type']][df.dropoff_site=='TDS LANDFILL'].sort_values('load_type').squeeze().unique().tolist()\n",
    "titles"
   ]
  },
  {
   "cell_type": "code",
   "execution_count": 31,
   "metadata": {},
   "outputs": [
    {
     "name": "stdout",
     "output_type": "stream",
     "text": [
      "BRUSH\n",
      "\n",
      "Skew\t: nan\n",
      "Mean\t: 9220.0\n",
      "Median\t: 9220.0\n",
      "Std\t: 3733.523804664971\n",
      "\n",
      "BULK\n",
      "\n",
      "Skew\t: 0.11946100070698812\n",
      "Mean\t: 8109.106918238994\n",
      "Median\t: 8030.0\n",
      "Std\t: 3901.351924900931\n",
      "\n",
      "CONTAMINATED ORGANICS\n",
      "\n",
      "Skew\t: nan\n",
      "Mean\t: 25380.0\n",
      "Median\t: 25380.0\n",
      "Std\t: nan\n",
      "\n",
      "CONTAMINATED RECYCLING\n",
      "\n",
      "Skew\t: nan\n",
      "Mean\t: 5160.0\n",
      "Median\t: 5160.0\n",
      "Std\t: nan\n",
      "\n",
      "DEAD ANIMAL\n",
      "\n",
      "Skew\t: 2.247581936300717\n",
      "Mean\t: 154.73282442748092\n",
      "Median\t: 100.0\n",
      "Std\t: 156.0588066884986\n",
      "\n",
      "GARBAGE COLLECTIONS\n",
      "\n",
      "Skew\t: 5.564146061377644\n",
      "Mean\t: 17618.408403144807\n",
      "Median\t: 18140.0\n",
      "Std\t: 8015.728141768936\n",
      "\n",
      "LITTER\n",
      "\n",
      "Skew\t: 3.7798773165263215\n",
      "Mean\t: 3208.0\n",
      "Median\t: 2850.0\n",
      "Std\t: 2585.5170588372575\n",
      "\n",
      "MIXED LITTER\n",
      "\n",
      "Skew\t: 1.1437323313540388\n",
      "Mean\t: 3196.899696048632\n",
      "Median\t: 2900.0\n",
      "Std\t: 1663.291291321665\n",
      "\n",
      "ORGANICS\n",
      "\n",
      "Skew\t: 3.6900691700421495\n",
      "Mean\t: 1273.6363636363637\n",
      "Median\t: 140.0\n",
      "Std\t: 3692.5272613425045\n",
      "\n",
      "RECYCLED METAL\n",
      "\n",
      "Skew\t: nan\n",
      "Mean\t: 220.0\n",
      "Median\t: 220.0\n",
      "Std\t: nan\n",
      "\n",
      "RECYCLING - SINGLE STREAM\n",
      "\n",
      "Skew\t: 0.9874717501588144\n",
      "Mean\t: 2580.0\n",
      "Median\t: 2000.0\n",
      "Std\t: 2500.959815750745\n",
      "\n",
      "SWEEPING\n",
      "\n",
      "Skew\t: 0.1771721364641603\n",
      "Mean\t: 9596.333333333334\n",
      "Median\t: 9310.0\n",
      "Std\t: 4538.065544457671\n",
      "\n",
      "TIRES\n",
      "\n",
      "Skew\t: 3.0854906033806855\n",
      "Mean\t: 3512.0\n",
      "Median\t: 2170.0\n",
      "Std\t: 5455.4209533067\n",
      "\n"
     ]
    },
    {
     "data": {
      "image/png": "[encoded data removed]",
      "text/plain": [
       "<Figure size 640x480 with 1 Axes>"
      ]
     },
     "metadata": {},
     "output_type": "display_data"
    },
    {
     "data": {
      "image/png": "[encoded data removed]",
      "text/plain": [
       "<Figure size 640x480 with 1 Axes>"
      ]
     },
     "metadata": {},
     "output_type": "display_data"
    },
    {
     "data": {
      "image/png": "[encoded data removed]",
      "text/plain": [
       "<Figure size 640x480 with 1 Axes>"
      ]
     },
     "metadata": {},
     "output_type": "display_data"
    },
    {
     "data": {
      "image/png": "[encoded data removed]",
      "text/plain": [
       "<Figure size 640x480 with 1 Axes>"
      ]
     },
     "metadata": {},
     "output_type": "display_data"
    },
    {
     "data": {
      "image/png": "[encoded data removed]",
      "text/plain": [
       "<Figure size 640x480 with 1 Axes>"
      ]
     },
     "metadata": {},
     "output_type": "display_data"
    },
    {
     "data": {
      "image/png": "[encoded data removed]",
      "text/plain": [
       "<Figure size 640x480 with 1 Axes>"
      ]
     },
     "metadata": {},
     "output_type": "display_data"
    },
    {
     "data": {
      "image/png": "[encoded data removed]",
      "text/plain": [
       "<Figure size 640x480 with 1 Axes>"
      ]
     },
     "metadata": {},
     "output_type": "display_data"
    },
    {
     "data": {
      "image/png": "[encoded data removed]",
      "text/plain": [
       "<Figure size 640x480 with 1 Axes>"
      ]
     },
     "metadata": {},
     "output_type": "display_data"
    },
    {
     "data": {
      "image/png": "[encoded data removed]",
      "text/plain": [
       "<Figure size 640x480 with 1 Axes>"
      ]
     },
     "metadata": {},
     "output_type": "display_data"
    },
    {
     "data": {
      "image/png": "[encoded data removed]",
      "text/plain": [
       "<Figure size 640x480 with 1 Axes>"
      ]
     },
     "metadata": {},
     "output_type": "display_data"
    },
    {
     "data": {
      "image/png": "[encoded data removed]",
      "text/plain": [
       "<Figure size 640x480 with 1 Axes>"
      ]
     },
     "metadata": {},
     "output_type": "display_data"
    },
    {
     "data": {
      "image/png": "[encoded data removed]",
      "text/plain": [
       "<Figure size 640x480 with 1 Axes>"
      ]
     },
     "metadata": {},
     "output_type": "display_data"
    },
    {
     "data": {
      "image/png": "[encoded data removed]",
      "text/plain": [
       "<Figure size 640x480 with 1 Axes>"
      ]
     },
     "metadata": {},
     "output_type": "display_data"
    }
   ],
   "source": [
    "df_landfill = df[['load_type','load_weight']][df.dropoff_site=='TDS LANDFILL'].groupby('load_type')\n",
    "\n",
    "# plot histograms\n",
    "ax = df_landfill.plot.hist(bins=80, color='blue',grid=True,alpha=0.5,linewidth=0.1,edgecolor='black')\n",
    "\n",
    "# menghitung skewness untuk tiap jenis sampah pada site tds landfill\n",
    "df_hist_skew = df_landfill.skew()\n",
    "\n",
    "# menghitung mean untuk tiap jenis sampah pada site tds landfill\n",
    "df_hist_mean = df_landfill.mean()\n",
    "\n",
    "# menghitung median untuk tiap jenis sampah pada site tds landfill\n",
    "df_hist_median = df_landfill.median()\n",
    "\n",
    "# menghitung std untuk tiap jenis sampah pada site tds landfill\n",
    "df_hist_std = df_landfill.std()\n",
    "\n",
    "# set title for each histogram & print each skewness\n",
    "for index, hist in enumerate(ax):\n",
    "    hist.axvline(df_landfill.mean().squeeze()[index], color='magenta', linestyle='dashed', linewidth=2)\n",
    "    hist.axvline(df_landfill.median().squeeze()[index], color='green', linestyle='dashed', linewidth=2)\n",
    "    hist.set_title(titles[index] + ', skew: {}'.format(df_hist_skew.loc[:,'load_weight'][index]))\n",
    "    print(titles[index]+\"\\n\")\n",
    "    print('Skew\\t: {}'.format(df_hist_skew.loc[:,'load_weight'][index]))\n",
    "    print('Mean\\t: {}'.format(df_hist_mean.loc[:,'load_weight'][index]))\n",
    "    print('Median\\t: {}'.format(df_hist_median.loc[:,'load_weight'][index]))\n",
    "    print('Std\\t: {}\\n'.format(df_hist_std.loc[:,'load_weight'][index]))"
   ]
  },
  {
   "attachments": {},
   "cell_type": "markdown",
   "metadata": {},
   "source": [
    "Dari semua jenis sampah pada TDS landfill, terdapat beberapa jenis kemiringan data, diantaranya:<br>\n",
    "\n",
    "Kemiringan yang tinggi/highly skewed (<-1 atau >1):<br>\n",
    "- DEAD ANIMAL (2.24)\n",
    "- GARBAGE COLLECTIONS (5.56)\n",
    "- LITTER (3.77)\n",
    "- MIXED LITTER (1.14)\n",
    "- ORGANICS (3.69)\n",
    "- TIRES (3.08)\n",
    "\n",
    "Cukup miring/Moderately Skewed (-1.0 to -0.5 atau 0.5-1.0):<br>\n",
    "- RECYCLING - SINGLE STREAM (0.98)\n",
    "\n",
    "Cukup Simetris/Fairly Symmetrical (-0.5-0.5)\n",
    "- BULK (0.11)\n",
    "- SWEEPING (0.17)\n",
    "\n",
    "Untuk jenis sampah dengan kemiringan yang tinggi, besar kemungkinan terdapat outlier pada data tersebut."
   ]
  },
  {
   "attachments": {},
   "cell_type": "markdown",
   "metadata": {},
   "source": [
    "### Visualisasi Outlier pada Site TDS Landfill"
   ]
  },
  {
   "cell_type": "code",
   "execution_count": 32,
   "metadata": {},
   "outputs": [
    {
     "data": {
      "image/png": "[encoded data removed]",
      "text/plain": [
       "<Figure size 640x480 with 1 Axes>"
      ]
     },
     "metadata": {},
     "output_type": "display_data"
    },
    {
     "data": {
      "image/png": "[encoded data removed]",
      "text/plain": [
       "<Figure size 640x480 with 1 Axes>"
      ]
     },
     "metadata": {},
     "output_type": "display_data"
    },
    {
     "data": {
      "image/png": "[encoded data removed]",
      "text/plain": [
       "<Figure size 640x480 with 1 Axes>"
      ]
     },
     "metadata": {},
     "output_type": "display_data"
    },
    {
     "data": {
      "image/png": "[encoded data removed]",
      "text/plain": [
       "<Figure size 640x480 with 1 Axes>"
      ]
     },
     "metadata": {},
     "output_type": "display_data"
    },
    {
     "data": {
      "image/png": "[encoded data removed]",
      "text/plain": [
       "<Figure size 640x480 with 1 Axes>"
      ]
     },
     "metadata": {},
     "output_type": "display_data"
    },
    {
     "data": {
      "image/png": "[encoded data removed]",
      "text/plain": [
       "<Figure size 640x480 with 1 Axes>"
      ]
     },
     "metadata": {},
     "output_type": "display_data"
    },
    {
     "data": {
      "image/png": "[encoded data removed]",
      "text/plain": [
       "<Figure size 640x480 with 1 Axes>"
      ]
     },
     "metadata": {},
     "output_type": "display_data"
    },
    {
     "data": {
      "image/png": "[encoded data removed]",
      "text/plain": [
       "<Figure size 640x480 with 1 Axes>"
      ]
     },
     "metadata": {},
     "output_type": "display_data"
    },
    {
     "data": {
      "image/png": "[encoded data removed]",
      "text/plain": [
       "<Figure size 640x480 with 1 Axes>"
      ]
     },
     "metadata": {},
     "output_type": "display_data"
    },
    {
     "data": {
      "image/png": "[encoded data removed]",
      "text/plain": [
       "<Figure size 640x480 with 1 Axes>"
      ]
     },
     "metadata": {},
     "output_type": "display_data"
    },
    {
     "data": {
      "image/png": "[encoded data removed]",
      "text/plain": [
       "<Figure size 640x480 with 1 Axes>"
      ]
     },
     "metadata": {},
     "output_type": "display_data"
    },
    {
     "data": {
      "image/png": "[encoded data removed]",
      "text/plain": [
       "<Figure size 640x480 with 1 Axes>"
      ]
     },
     "metadata": {},
     "output_type": "display_data"
    },
    {
     "data": {
      "image/png": "[encoded data removed]",
      "text/plain": [
       "<Figure size 640x480 with 1 Axes>"
      ]
     },
     "metadata": {},
     "output_type": "display_data"
    }
   ],
   "source": [
    "ax2 = df_landfill.plot(kind='box')\n",
    "for i in range(len(titles)):\n",
    "    ax2[i].set_title(titles[i])\n"
   ]
  },
  {
   "attachments": {},
   "cell_type": "markdown",
   "metadata": {},
   "source": [
    "Dari boxplot diatas, terdapat outlier pada jenis sampah bulk, dead animal, garbage collection, litter, mixed litter, organics, dan tires\n",
    "\n",
    "Dari nilai mean dan mediannya:\n",
    "- Sampah jenis bulk memiliki karakteristik distribusi normal, maka untuk mencari outlier digunakan z-score.\n",
    "\n",
    "- Sampah jenis garbage collection, dead animal, litter, mixed-litter, organics, dan tires memiliki karakteristik distribusi gamma, maka untuk mencari outlier digunakan tukeys rule.\n",
    "\n",
    "- Untuk tipe sampah recycling single stream, penulis masih perlu menganalisa lebih lanjut, dengan pertimbangan: pada boxplot tidak terlihat outlier namun pada distribusi terlihat cukup miring dengan skewness score 0.98, nilai mean dan median yang relatif berjauhan, dan nilai standar deviasi yang tinggi."
   ]
  },
  {
   "attachments": {},
   "cell_type": "markdown",
   "metadata": {},
   "source": [
    "### Handling Outlier pada Site TDS Landfill"
   ]
  },
  {
   "attachments": {},
   "cell_type": "markdown",
   "metadata": {},
   "source": [
    "#### Handling Outlier dengan Distribusi Normal"
   ]
  },
  {
   "attachments": {},
   "cell_type": "markdown",
   "metadata": {},
   "source": [
    "Handling outlier pada jenis sampah BULK"
   ]
  },
  {
   "cell_type": "code",
   "execution_count": 33,
   "metadata": {},
   "outputs": [
    {
     "data": {
      "image/png": "[encoded data removed]",
      "text/plain": [
       "<Figure size 640x480 with 1 Axes>"
      ]
     },
     "metadata": {},
     "output_type": "display_data"
    }
   ],
   "source": [
    "my_data = df_landfill.get_group('BULK').loc[:,'load_weight']\n",
    "sm.qqplot(my_data,line='s')\n",
    "pylab.show()"
   ]
  },
  {
   "cell_type": "code",
   "execution_count": 34,
   "metadata": {},
   "outputs": [],
   "source": [
    "# menyimpan total entri data site TDS LANDFILL\n",
    "total_len_landfill = len(df[df['dropoff_site']=='TDS LANDFILL'].index)"
   ]
  },
  {
   "attachments": {},
   "cell_type": "markdown",
   "metadata": {},
   "source": [
    "Menghitung jumlah outlier untuk jenis sampah dengan distribusi normal"
   ]
  },
  {
   "cell_type": "code",
   "execution_count": 35,
   "metadata": {},
   "outputs": [
    {
     "name": "stdout",
     "output_type": "stream",
     "text": [
      "Persentase outlier site TDS-Landfill dengan jenis sampah bulk: 0.02%\n"
     ]
    }
   ],
   "source": [
    "df_landfill.get_group('BULK').loc[:,'load_weight']\n",
    "\n",
    "# Get Z-Score\n",
    "df['Z-Score'] = stats.zscore(df_landfill.get_group('BULK').loc[:,'load_weight'])\n",
    "outlier_bulk = df['Z-Score'][(df['Z-Score']>3) | (df['Z-Score']<-3)]\n",
    "\n",
    "percentage_out_bulk = outlier_bulk.count()/total_len_landfill * 100\n",
    "print(\"Persentase outlier site TDS-Landfill dengan jenis sampah bulk: {0:.2f}%\".format(percentage_out_bulk))"
   ]
  },
  {
   "attachments": {},
   "cell_type": "markdown",
   "metadata": {},
   "source": [
    "#### Handling Outlier dengan Distribusi Tidak Normal"
   ]
  },
  {
   "attachments": {},
   "cell_type": "markdown",
   "metadata": {},
   "source": [
    "Handling outlier pada jenis sampah GARBAGE COLLECTIONS"
   ]
  },
  {
   "cell_type": "code",
   "execution_count": 36,
   "metadata": {},
   "outputs": [
    {
     "name": "stdout",
     "output_type": "stream",
     "text": [
      "Persentase outlier site TDS-Landfill dengan jenis sampah GARBAGE COLLECTIONS: 0.07%\n"
     ]
    }
   ],
   "source": [
    "df_landfill_gc = df_landfill.get_group('GARBAGE COLLECTIONS').loc[:,'load_weight']\n",
    "Q1,Q2,Q3 = df_landfill_gc.quantile([0.25,0.5,0.75])\n",
    "IQR = Q3 - Q1 # hitung interquartile range\n",
    "\n",
    "# filter outlier dengan tukey's rule\n",
    "upper_limit = Q3 + (1.5*IQR)\n",
    "lower_limit = Q1 - (1.5*IQR)\n",
    "outlier_gc = df_landfill_gc[(df_landfill_gc < lower_limit) | (df_landfill_gc > upper_limit)]\n",
    "\n",
    "percentage_out_gc = outlier_gc.count()/total_len_landfill * 100\n",
    "print(\"Persentase outlier site TDS-Landfill dengan jenis sampah GARBAGE COLLECTIONS: {0:.2f}%\".format(percentage_out_gc))"
   ]
  },
  {
   "attachments": {},
   "cell_type": "markdown",
   "metadata": {},
   "source": [
    "Handling outlier pada jenis sampah DEAD ANIMAL"
   ]
  },
  {
   "cell_type": "code",
   "execution_count": 37,
   "metadata": {},
   "outputs": [
    {
     "name": "stdout",
     "output_type": "stream",
     "text": [
      "Persentase outlier site TDS-Landfill dengan jenis sampah DEAD ANIMAL: 0.09%\n"
     ]
    }
   ],
   "source": [
    "df_landfill_dead_animal = df_landfill.get_group('DEAD ANIMAL').loc[:,'load_weight']\n",
    "Q1,Q2,Q3 = df_landfill_dead_animal.quantile([0.25,0.5,0.75])\n",
    "IQR = Q3 - Q1 # hitung interquartile range\n",
    "\n",
    "# filter outlier dengan tukey's rule\n",
    "upper_limit = Q3 + (1.5*IQR)\n",
    "lower_limit = Q1 - (1.5*IQR)\n",
    "outlier_dead_animal = df_landfill_dead_animal[(df_landfill_dead_animal < lower_limit) | (df_landfill_dead_animal > upper_limit)]\n",
    "\n",
    "percentage_out_dead_animal = outlier_dead_animal.count()/total_len_landfill * 100\n",
    "print(\"Persentase outlier site TDS-Landfill dengan jenis sampah DEAD ANIMAL: {0:.2f}%\".format(percentage_out_dead_animal))"
   ]
  },
  {
   "cell_type": "code",
   "execution_count": 38,
   "metadata": {},
   "outputs": [
    {
     "name": "stdout",
     "output_type": "stream",
     "text": [
      "Persentase outlier site TDS-Landfill dengan jenis sampah LITTER: 0.01%\n"
     ]
    }
   ],
   "source": [
    "df_landfill_litter = df_landfill.get_group('LITTER').loc[:,'load_weight']\n",
    "Q1,Q2,Q3 = df_landfill_litter.quantile([0.25,0.5,0.75])\n",
    "IQR = Q3 - Q1 # hitung interquartile range\n",
    "\n",
    "# filter outlier dengan tukey's rule\n",
    "upper_limit = Q3 + (1.5*IQR)\n",
    "lower_limit = Q1 - (1.5*IQR)\n",
    "outlier_litter = df_landfill_litter[(df_landfill_litter < lower_limit) | (df_landfill_litter > upper_limit)]\n",
    "\n",
    "percentage_out_litter = outlier_litter.count()/total_len_landfill * 100\n",
    "print(\"Persentase outlier site TDS-Landfill dengan jenis sampah LITTER: {0:.2f}%\".format(percentage_out_litter))"
   ]
  },
  {
   "cell_type": "code",
   "execution_count": 39,
   "metadata": {},
   "outputs": [
    {
     "name": "stdout",
     "output_type": "stream",
     "text": [
      "Persentase outlier site TDS-Landfill dengan jenis sampah MIXED LITTER: 0.07%\n"
     ]
    }
   ],
   "source": [
    "df_landfill_mixed_litter = df_landfill.get_group('MIXED LITTER').loc[:,'load_weight']\n",
    "Q1,Q2,Q3 = df_landfill_mixed_litter.quantile([0.25,0.5,0.75])\n",
    "IQR = Q3 - Q1 # hitung interquartile range\n",
    "\n",
    "# filter outlier dengan tukey's rule\n",
    "upper_limit = Q3 + (1.5*IQR)\n",
    "lower_limit = Q1 - (1.5*IQR)\n",
    "outlier_mixed_litter = df_landfill_mixed_litter[(df_landfill_mixed_litter < lower_limit) | (df_landfill_mixed_litter > upper_limit)]\n",
    "\n",
    "percentage_out_mixed_litter = outlier_mixed_litter.count()/total_len_landfill * 100\n",
    "print(\"Persentase outlier site TDS-Landfill dengan jenis sampah MIXED LITTER: {0:.2f}%\".format(percentage_out_mixed_litter))"
   ]
  },
  {
   "cell_type": "code",
   "execution_count": 40,
   "metadata": {},
   "outputs": [
    {
     "name": "stdout",
     "output_type": "stream",
     "text": [
      "Persentase outlier site TDS-Landfill dengan jenis sampah ORGANICS: 0.04%\n"
     ]
    }
   ],
   "source": [
    "df_landfill_organics = df_landfill.get_group('ORGANICS').loc[:,'load_weight']\n",
    "Q1,Q2,Q3 = df_landfill_organics.quantile([0.25,0.5,0.75])\n",
    "IQR = Q3 - Q1 # hitung interquartile range\n",
    "\n",
    "# filter outlier dengan tukey's rule\n",
    "upper_limit = Q3 + (1.5*IQR)\n",
    "lower_limit = Q1 - (1.5*IQR)\n",
    "outlier_organics = df_landfill_organics[(df_landfill_organics < lower_limit) | (df_landfill_organics > upper_limit)]\n",
    "\n",
    "percentage_out_organics = outlier_organics.count()/total_len_landfill * 100\n",
    "print(\"Persentase outlier site TDS-Landfill dengan jenis sampah ORGANICS: {0:.2f}%\".format(percentage_out_organics))"
   ]
  },
  {
   "cell_type": "code",
   "execution_count": 41,
   "metadata": {},
   "outputs": [
    {
     "name": "stdout",
     "output_type": "stream",
     "text": [
      "Persentase outlier site TDS-Landfill dengan jenis sampah TIRES: 0.02%\n"
     ]
    }
   ],
   "source": [
    "df_landfill_tires = df_landfill.get_group('TIRES').loc[:,'load_weight']\n",
    "Q1,Q2,Q3 = df_landfill_tires.quantile([0.25,0.5,0.75])\n",
    "IQR = Q3 - Q1 # hitung interquartile range\n",
    "\n",
    "# filter outlier dengan tukey's rule\n",
    "upper_limit = Q3 + (1.5*IQR)\n",
    "lower_limit = Q1 - (1.5*IQR)\n",
    "outlier_tires = df_landfill_tires[(df_landfill_tires < lower_limit) | (df_landfill_tires > upper_limit)]\n",
    "\n",
    "percentage_out_tires = outlier_tires.count()/total_len_landfill * 100\n",
    "print(\"Persentase outlier site TDS-Landfill dengan jenis sampah TIRES: {0:.2f}%\".format(percentage_out_tires))"
   ]
  },
  {
   "cell_type": "code",
   "execution_count": 42,
   "metadata": {},
   "outputs": [
    {
     "name": "stdout",
     "output_type": "stream",
     "text": [
      "Jumlah outlier: 34 data\n"
     ]
    }
   ],
   "source": [
    "# menggabungkan semua index outlier pada dataset dalam satu list\n",
    "outlier_row_list = outlier_bulk.index.to_list() + outlier_gc.index.to_list() + outlier_dead_animal.index.to_list() + outlier_litter.index.to_list()\\\n",
    "     + outlier_mixed_litter.index.to_list() + outlier_organics.index.to_list() + outlier_tires.index.to_list()\n",
    "total_outlier = len(outlier_row_list) # menghitung jumlah outlier\n",
    "print(\"Jumlah outlier: {} data\".format(total_outlier))"
   ]
  },
  {
   "cell_type": "code",
   "execution_count": 43,
   "metadata": {},
   "outputs": [
    {
     "name": "stdout",
     "output_type": "stream",
     "text": [
      "Jumlah data sebelum trimming outlier: 26157\n"
     ]
    }
   ],
   "source": [
    "print(\"Jumlah data sebelum trimming outlier:\", len(df.index))#cek jumlah data sebelum drop outlier"
   ]
  },
  {
   "attachments": {},
   "cell_type": "markdown",
   "metadata": {},
   "source": [
    "#### Membuang Data Outlier"
   ]
  },
  {
   "cell_type": "code",
   "execution_count": 44,
   "metadata": {},
   "outputs": [
    {
     "name": "stdout",
     "output_type": "stream",
     "text": [
      "Jumlah data sebelum trimming outlier: 26123\n"
     ]
    }
   ],
   "source": [
    "df_clean = df.drop(columns='Z-Score',inplace=True) #drop outlier column wise (kolom z-score sudah tidak lagi diperlukan)\n",
    "df_clean = df.drop(outlier_row_list) #drop outlier row wise\n",
    "print(\"Jumlah data sebelum trimming outlier:\", len(df_clean.index))#cek jumlah data setelah drop outlier"
   ]
  },
  {
   "cell_type": "code",
   "execution_count": 45,
   "metadata": {},
   "outputs": [
    {
     "data": {
      "text/html": [
       "<div>\n",
       "<style scoped>\n",
       "    .dataframe tbody tr th:only-of-type {\n",
       "        vertical-align: middle;\n",
       "    }\n",
       "\n",
       "    .dataframe tbody tr th {\n",
       "        vertical-align: top;\n",
       "    }\n",
       "\n",
       "    .dataframe thead th {\n",
       "        text-align: right;\n",
       "    }\n",
       "</style>\n",
       "<table border=\"1\" class=\"dataframe\">\n",
       "  <thead>\n",
       "    <tr style=\"text-align: right;\">\n",
       "      <th></th>\n",
       "      <th>report_date</th>\n",
       "      <th>load_time</th>\n",
       "      <th>load_type</th>\n",
       "      <th>load_weight</th>\n",
       "      <th>dropoff_site</th>\n",
       "    </tr>\n",
       "  </thead>\n",
       "  <tbody>\n",
       "    <tr>\n",
       "      <th>0</th>\n",
       "      <td>2021-01-01</td>\n",
       "      <td>2021-01-01 12:00:00 UTC</td>\n",
       "      <td>SWEEPING</td>\n",
       "      <td>11,300.00</td>\n",
       "      <td>ONION CREEK</td>\n",
       "    </tr>\n",
       "    <tr>\n",
       "      <th>1</th>\n",
       "      <td>2021-01-01</td>\n",
       "      <td>2021-01-01 12:00:00 UTC</td>\n",
       "      <td>SWEEPING</td>\n",
       "      <td>11,300.00</td>\n",
       "      <td>ONION CREEK</td>\n",
       "    </tr>\n",
       "    <tr>\n",
       "      <th>2</th>\n",
       "      <td>2021-01-01</td>\n",
       "      <td>2021-01-01 12:00:00 UTC</td>\n",
       "      <td>SWEEPING</td>\n",
       "      <td>11,300.00</td>\n",
       "      <td>ONION CREEK</td>\n",
       "    </tr>\n",
       "    <tr>\n",
       "      <th>3</th>\n",
       "      <td>2021-01-01</td>\n",
       "      <td>2021-01-01 12:00:00 UTC</td>\n",
       "      <td>SWEEPING</td>\n",
       "      <td>11,300.00</td>\n",
       "      <td>ONION CREEK</td>\n",
       "    </tr>\n",
       "    <tr>\n",
       "      <th>4</th>\n",
       "      <td>2021-01-02</td>\n",
       "      <td>2021-01-02 09:24:00 UTC</td>\n",
       "      <td>TIRES</td>\n",
       "      <td>1,640.00</td>\n",
       "      <td>MRF</td>\n",
       "    </tr>\n",
       "    <tr>\n",
       "      <th>...</th>\n",
       "      <td>...</td>\n",
       "      <td>...</td>\n",
       "      <td>...</td>\n",
       "      <td>...</td>\n",
       "      <td>...</td>\n",
       "    </tr>\n",
       "    <tr>\n",
       "      <th>26152</th>\n",
       "      <td>2021-07-09</td>\n",
       "      <td>2021-07-09 09:48:00 UTC</td>\n",
       "      <td>BRUSH</td>\n",
       "      <td>8,240.00</td>\n",
       "      <td>HORNSBY BEND</td>\n",
       "    </tr>\n",
       "    <tr>\n",
       "      <th>26153</th>\n",
       "      <td>2021-07-09</td>\n",
       "      <td>2021-07-09 12:02:00 UTC</td>\n",
       "      <td>BRUSH</td>\n",
       "      <td>4,160.00</td>\n",
       "      <td>HORNSBY BEND</td>\n",
       "    </tr>\n",
       "    <tr>\n",
       "      <th>26154</th>\n",
       "      <td>2021-07-09</td>\n",
       "      <td>2021-07-09 11:55:00 UTC</td>\n",
       "      <td>BRUSH</td>\n",
       "      <td>4,340.00</td>\n",
       "      <td>HORNSBY BEND</td>\n",
       "    </tr>\n",
       "    <tr>\n",
       "      <th>26155</th>\n",
       "      <td>2021-07-09</td>\n",
       "      <td>2021-07-09 12:00:00 UTC</td>\n",
       "      <td>LITTER</td>\n",
       "      <td>1,900.00</td>\n",
       "      <td>TDS LANDFILL</td>\n",
       "    </tr>\n",
       "    <tr>\n",
       "      <th>26156</th>\n",
       "      <td>2021-07-09</td>\n",
       "      <td>2021-07-09 12:00:00 UTC</td>\n",
       "      <td>LITTER</td>\n",
       "      <td>3,040.00</td>\n",
       "      <td>TDS LANDFILL</td>\n",
       "    </tr>\n",
       "  </tbody>\n",
       "</table>\n",
       "<p>26123 rows × 5 columns</p>\n",
       "</div>"
      ],
      "text/plain": [
       "      report_date                load_time load_type  load_weight  \\\n",
       "0      2021-01-01  2021-01-01 12:00:00 UTC  SWEEPING    11,300.00   \n",
       "1      2021-01-01  2021-01-01 12:00:00 UTC  SWEEPING    11,300.00   \n",
       "2      2021-01-01  2021-01-01 12:00:00 UTC  SWEEPING    11,300.00   \n",
       "3      2021-01-01  2021-01-01 12:00:00 UTC  SWEEPING    11,300.00   \n",
       "4      2021-01-02  2021-01-02 09:24:00 UTC     TIRES     1,640.00   \n",
       "...           ...                      ...       ...          ...   \n",
       "26152  2021-07-09  2021-07-09 09:48:00 UTC     BRUSH     8,240.00   \n",
       "26153  2021-07-09  2021-07-09 12:02:00 UTC     BRUSH     4,160.00   \n",
       "26154  2021-07-09  2021-07-09 11:55:00 UTC     BRUSH     4,340.00   \n",
       "26155  2021-07-09  2021-07-09 12:00:00 UTC    LITTER     1,900.00   \n",
       "26156  2021-07-09  2021-07-09 12:00:00 UTC    LITTER     3,040.00   \n",
       "\n",
       "       dropoff_site  \n",
       "0       ONION CREEK  \n",
       "1       ONION CREEK  \n",
       "2       ONION CREEK  \n",
       "3       ONION CREEK  \n",
       "4               MRF  \n",
       "...             ...  \n",
       "26152  HORNSBY BEND  \n",
       "26153  HORNSBY BEND  \n",
       "26154  HORNSBY BEND  \n",
       "26155  TDS LANDFILL  \n",
       "26156  TDS LANDFILL  \n",
       "\n",
       "[26123 rows x 5 columns]"
      ]
     },
     "execution_count": 45,
     "metadata": {},
     "output_type": "execute_result"
    }
   ],
   "source": [
    "df_clean"
   ]
  },
  {
   "attachments": {},
   "cell_type": "markdown",
   "metadata": {},
   "source": [
    "### Total Persentase Outlier di site TDS Landfill"
   ]
  },
  {
   "cell_type": "code",
   "execution_count": 46,
   "metadata": {},
   "outputs": [
    {
     "name": "stdout",
     "output_type": "stream",
     "text": [
      "Total outlier 34 data\n",
      "Total outlier terhadap site TDS LANDFILL 0.32%\n",
      "Total outlier terhadap dataset 0.0013%\n"
     ]
    }
   ],
   "source": [
    "total_percentage_outlier = percentage_out_bulk + percentage_out_gc + percentage_out_dead_animal + percentage_out_litter\\\n",
    "    + percentage_out_mixed_litter + percentage_out_organics + percentage_out_tires\n",
    "\n",
    "outlier_dataset = outlier_bulk.count() + outlier_gc.count() + outlier_dead_animal.count() + outlier_litter.count()\\\n",
    "    + outlier_mixed_litter.count() + outlier_organics.count() + outlier_tires.count()\n",
    "total_data = len(df.index)\n",
    "print(\"Total outlier {} data\".format(total_outlier))\n",
    "print(\"Total outlier terhadap site TDS LANDFILL {:.2f}%\".format(total_percentage_outlier))\n",
    "print(\"Total outlier terhadap dataset {:.4f}%\".format(outlier_dataset/total_data))"
   ]
  },
  {
   "attachments": {},
   "cell_type": "markdown",
   "metadata": {},
   "source": [
    "### Perbandingan Central Tendency Sebelum dan Sesudah Handling Outlier"
   ]
  },
  {
   "cell_type": "code",
   "execution_count": 47,
   "metadata": {},
   "outputs": [
    {
     "data": {
      "text/html": [
       "<div>\n",
       "<style scoped>\n",
       "    .dataframe tbody tr th:only-of-type {\n",
       "        vertical-align: middle;\n",
       "    }\n",
       "\n",
       "    .dataframe tbody tr th {\n",
       "        vertical-align: top;\n",
       "    }\n",
       "\n",
       "    .dataframe thead tr th {\n",
       "        text-align: left;\n",
       "    }\n",
       "\n",
       "    .dataframe thead tr:last-of-type th {\n",
       "        text-align: right;\n",
       "    }\n",
       "</style>\n",
       "<table border=\"1\" class=\"dataframe\">\n",
       "  <thead>\n",
       "    <tr>\n",
       "      <th></th>\n",
       "      <th></th>\n",
       "      <th colspan=\"3\" halign=\"left\">load_weight</th>\n",
       "    </tr>\n",
       "    <tr>\n",
       "      <th></th>\n",
       "      <th></th>\n",
       "      <th>mean</th>\n",
       "      <th>median</th>\n",
       "      <th>std</th>\n",
       "    </tr>\n",
       "    <tr>\n",
       "      <th>dropoff_site</th>\n",
       "      <th>load_type</th>\n",
       "      <th></th>\n",
       "      <th></th>\n",
       "      <th></th>\n",
       "    </tr>\n",
       "  </thead>\n",
       "  <tbody>\n",
       "    <tr>\n",
       "      <th rowspan=\"13\" valign=\"top\">TDS LANDFILL</th>\n",
       "      <th>BRUSH</th>\n",
       "      <td>9,220.00</td>\n",
       "      <td>9,220.00</td>\n",
       "      <td>3,733.52</td>\n",
       "    </tr>\n",
       "    <tr>\n",
       "      <th>BULK</th>\n",
       "      <td>8,109.11</td>\n",
       "      <td>8,030.00</td>\n",
       "      <td>3,901.35</td>\n",
       "    </tr>\n",
       "    <tr>\n",
       "      <th>CONTAMINATED ORGANICS</th>\n",
       "      <td>25,380.00</td>\n",
       "      <td>25,380.00</td>\n",
       "      <td>NaN</td>\n",
       "    </tr>\n",
       "    <tr>\n",
       "      <th>CONTAMINATED RECYCLING</th>\n",
       "      <td>5,160.00</td>\n",
       "      <td>5,160.00</td>\n",
       "      <td>NaN</td>\n",
       "    </tr>\n",
       "    <tr>\n",
       "      <th>DEAD ANIMAL</th>\n",
       "      <td>154.73</td>\n",
       "      <td>100.00</td>\n",
       "      <td>156.06</td>\n",
       "    </tr>\n",
       "    <tr>\n",
       "      <th>GARBAGE COLLECTIONS</th>\n",
       "      <td>17,618.41</td>\n",
       "      <td>18,140.00</td>\n",
       "      <td>8,015.73</td>\n",
       "    </tr>\n",
       "    <tr>\n",
       "      <th>LITTER</th>\n",
       "      <td>3,208.00</td>\n",
       "      <td>2,850.00</td>\n",
       "      <td>2,585.52</td>\n",
       "    </tr>\n",
       "    <tr>\n",
       "      <th>MIXED LITTER</th>\n",
       "      <td>3,196.90</td>\n",
       "      <td>2,900.00</td>\n",
       "      <td>1,663.29</td>\n",
       "    </tr>\n",
       "    <tr>\n",
       "      <th>ORGANICS</th>\n",
       "      <td>1,273.64</td>\n",
       "      <td>140.00</td>\n",
       "      <td>3,692.53</td>\n",
       "    </tr>\n",
       "    <tr>\n",
       "      <th>RECYCLED METAL</th>\n",
       "      <td>220.00</td>\n",
       "      <td>220.00</td>\n",
       "      <td>NaN</td>\n",
       "    </tr>\n",
       "    <tr>\n",
       "      <th>RECYCLING - SINGLE STREAM</th>\n",
       "      <td>2,580.00</td>\n",
       "      <td>2,000.00</td>\n",
       "      <td>2,500.96</td>\n",
       "    </tr>\n",
       "    <tr>\n",
       "      <th>SWEEPING</th>\n",
       "      <td>9,596.33</td>\n",
       "      <td>9,310.00</td>\n",
       "      <td>4,538.07</td>\n",
       "    </tr>\n",
       "    <tr>\n",
       "      <th>TIRES</th>\n",
       "      <td>3,512.00</td>\n",
       "      <td>2,170.00</td>\n",
       "      <td>5,455.42</td>\n",
       "    </tr>\n",
       "  </tbody>\n",
       "</table>\n",
       "</div>"
      ],
      "text/plain": [
       "                                       load_weight                   \n",
       "                                              mean    median      std\n",
       "dropoff_site load_type                                               \n",
       "TDS LANDFILL BRUSH                        9,220.00  9,220.00 3,733.52\n",
       "             BULK                         8,109.11  8,030.00 3,901.35\n",
       "             CONTAMINATED ORGANICS       25,380.00 25,380.00      NaN\n",
       "             CONTAMINATED RECYCLING       5,160.00  5,160.00      NaN\n",
       "             DEAD ANIMAL                    154.73    100.00   156.06\n",
       "             GARBAGE COLLECTIONS         17,618.41 18,140.00 8,015.73\n",
       "             LITTER                       3,208.00  2,850.00 2,585.52\n",
       "             MIXED LITTER                 3,196.90  2,900.00 1,663.29\n",
       "             ORGANICS                     1,273.64    140.00 3,692.53\n",
       "             RECYCLED METAL                 220.00    220.00      NaN\n",
       "             RECYCLING - SINGLE STREAM    2,580.00  2,000.00 2,500.96\n",
       "             SWEEPING                     9,596.33  9,310.00 4,538.07\n",
       "             TIRES                        3,512.00  2,170.00 5,455.42"
      ]
     },
     "execution_count": 47,
     "metadata": {},
     "output_type": "execute_result"
    }
   ],
   "source": [
    "# previous tds landfill site centrality\n",
    "df_landfill_prev_central_by_type = df[df['dropoff_site']=='TDS LANDFILL'].groupby(['dropoff_site','load_type']).agg({'load_weight':['mean','median','std']}) #overrall period centrality\n",
    "df_landfill_prev_central_by_type"
   ]
  },
  {
   "cell_type": "code",
   "execution_count": 48,
   "metadata": {},
   "outputs": [
    {
     "data": {
      "text/html": [
       "<div>\n",
       "<style scoped>\n",
       "    .dataframe tbody tr th:only-of-type {\n",
       "        vertical-align: middle;\n",
       "    }\n",
       "\n",
       "    .dataframe tbody tr th {\n",
       "        vertical-align: top;\n",
       "    }\n",
       "\n",
       "    .dataframe thead tr th {\n",
       "        text-align: left;\n",
       "    }\n",
       "\n",
       "    .dataframe thead tr:last-of-type th {\n",
       "        text-align: right;\n",
       "    }\n",
       "</style>\n",
       "<table border=\"1\" class=\"dataframe\">\n",
       "  <thead>\n",
       "    <tr>\n",
       "      <th></th>\n",
       "      <th></th>\n",
       "      <th colspan=\"3\" halign=\"left\">load_weight</th>\n",
       "    </tr>\n",
       "    <tr>\n",
       "      <th></th>\n",
       "      <th></th>\n",
       "      <th>mean</th>\n",
       "      <th>median</th>\n",
       "      <th>std</th>\n",
       "    </tr>\n",
       "    <tr>\n",
       "      <th>dropoff_site</th>\n",
       "      <th>load_type</th>\n",
       "      <th></th>\n",
       "      <th></th>\n",
       "      <th></th>\n",
       "    </tr>\n",
       "  </thead>\n",
       "  <tbody>\n",
       "    <tr>\n",
       "      <th rowspan=\"13\" valign=\"top\">TDS LANDFILL</th>\n",
       "      <th>BRUSH</th>\n",
       "      <td>9,220.00</td>\n",
       "      <td>9,220.00</td>\n",
       "      <td>3,733.52</td>\n",
       "    </tr>\n",
       "    <tr>\n",
       "      <th>BULK</th>\n",
       "      <td>8,088.92</td>\n",
       "      <td>8,020.00</td>\n",
       "      <td>3,859.62</td>\n",
       "    </tr>\n",
       "    <tr>\n",
       "      <th>CONTAMINATED ORGANICS</th>\n",
       "      <td>25,380.00</td>\n",
       "      <td>25,380.00</td>\n",
       "      <td>NaN</td>\n",
       "    </tr>\n",
       "    <tr>\n",
       "      <th>CONTAMINATED RECYCLING</th>\n",
       "      <td>5,160.00</td>\n",
       "      <td>5,160.00</td>\n",
       "      <td>NaN</td>\n",
       "    </tr>\n",
       "    <tr>\n",
       "      <th>DEAD ANIMAL</th>\n",
       "      <td>119.34</td>\n",
       "      <td>100.00</td>\n",
       "      <td>88.84</td>\n",
       "    </tr>\n",
       "    <tr>\n",
       "      <th>GARBAGE COLLECTIONS</th>\n",
       "      <td>17,522.99</td>\n",
       "      <td>18,120.00</td>\n",
       "      <td>6,994.37</td>\n",
       "    </tr>\n",
       "    <tr>\n",
       "      <th>LITTER</th>\n",
       "      <td>2,862.05</td>\n",
       "      <td>2,780.00</td>\n",
       "      <td>1,395.57</td>\n",
       "    </tr>\n",
       "    <tr>\n",
       "      <th>MIXED LITTER</th>\n",
       "      <td>3,065.17</td>\n",
       "      <td>2,860.00</td>\n",
       "      <td>1,442.92</td>\n",
       "    </tr>\n",
       "    <tr>\n",
       "      <th>ORGANICS</th>\n",
       "      <td>110.00</td>\n",
       "      <td>90.00</td>\n",
       "      <td>74.60</td>\n",
       "    </tr>\n",
       "    <tr>\n",
       "      <th>RECYCLED METAL</th>\n",
       "      <td>220.00</td>\n",
       "      <td>220.00</td>\n",
       "      <td>NaN</td>\n",
       "    </tr>\n",
       "    <tr>\n",
       "      <th>RECYCLING - SINGLE STREAM</th>\n",
       "      <td>2,580.00</td>\n",
       "      <td>2,000.00</td>\n",
       "      <td>2,500.96</td>\n",
       "    </tr>\n",
       "    <tr>\n",
       "      <th>SWEEPING</th>\n",
       "      <td>9,596.33</td>\n",
       "      <td>9,310.00</td>\n",
       "      <td>4,538.07</td>\n",
       "    </tr>\n",
       "    <tr>\n",
       "      <th>TIRES</th>\n",
       "      <td>1,975.00</td>\n",
       "      <td>2,170.00</td>\n",
       "      <td>400.54</td>\n",
       "    </tr>\n",
       "  </tbody>\n",
       "</table>\n",
       "</div>"
      ],
      "text/plain": [
       "                                       load_weight                   \n",
       "                                              mean    median      std\n",
       "dropoff_site load_type                                               \n",
       "TDS LANDFILL BRUSH                        9,220.00  9,220.00 3,733.52\n",
       "             BULK                         8,088.92  8,020.00 3,859.62\n",
       "             CONTAMINATED ORGANICS       25,380.00 25,380.00      NaN\n",
       "             CONTAMINATED RECYCLING       5,160.00  5,160.00      NaN\n",
       "             DEAD ANIMAL                    119.34    100.00    88.84\n",
       "             GARBAGE COLLECTIONS         17,522.99 18,120.00 6,994.37\n",
       "             LITTER                       2,862.05  2,780.00 1,395.57\n",
       "             MIXED LITTER                 3,065.17  2,860.00 1,442.92\n",
       "             ORGANICS                       110.00     90.00    74.60\n",
       "             RECYCLED METAL                 220.00    220.00      NaN\n",
       "             RECYCLING - SINGLE STREAM    2,580.00  2,000.00 2,500.96\n",
       "             SWEEPING                     9,596.33  9,310.00 4,538.07\n",
       "             TIRES                        1,975.00  2,170.00   400.54"
      ]
     },
     "execution_count": 48,
     "metadata": {},
     "output_type": "execute_result"
    }
   ],
   "source": [
    "# outlier free tds landfill site centrality\n",
    "df_landfill_outlier_free_central_by_type = df_clean[df_clean['dropoff_site']=='TDS LANDFILL'].groupby(['dropoff_site','load_type']).agg({'load_weight':['mean','median','std']}) #overrall period centrality\n",
    "df_landfill_outlier_free_central_by_type"
   ]
  },
  {
   "attachments": {},
   "cell_type": "markdown",
   "metadata": {},
   "source": [
    "Central tendency dari data tanpa outlier terlihat lebih seragam, dapat dilihat dari kedekatan nilai mean dan mediannya, dan secara umum standar deviasinya mengecil."
   ]
  },
  {
   "attachments": {},
   "cell_type": "markdown",
   "metadata": {},
   "source": [
    "### Menghitung Range, Variance, dan Standar Deviasi load_weight pada site TDS Landfill"
   ]
  },
  {
   "cell_type": "code",
   "execution_count": 49,
   "metadata": {},
   "outputs": [
    {
     "name": "stdout",
     "output_type": "stream",
     "text": [
      "Clean TDS Landfill Data\n",
      "Range\t\t: 35900.0\n",
      "Variance\t: 61518198.81786223\n",
      "Standar Deviasi\t: 7843.353799100371\n",
      "\n"
     ]
    }
   ],
   "source": [
    "# range\n",
    "df_clean_range = df_clean['load_weight'][df_clean['dropoff_site']==\"TDS LANDFILL\"].max()-df_clean['load_weight'][df_clean['dropoff_site']==\"TDS LANDFILL\"].min()\n",
    "# variance\n",
    "df_clean_var = df_clean['load_weight'][df_clean['dropoff_site']==\"TDS LANDFILL\"].var()\n",
    "# standar deviasi\n",
    "df_clean_std = df_clean['load_weight'][df_clean['dropoff_site']==\"TDS LANDFILL\"].std()\n",
    "\n",
    "print(\"Clean TDS Landfill Data\\nRange\\t\\t: {}\\nVariance\\t: {}\\nStandar Deviasi\\t: {}\\n\".format(df_clean_range,df_clean_var,df_clean_std))"
   ]
  },
  {
   "cell_type": "code",
   "execution_count": 50,
   "metadata": {},
   "outputs": [
    {
     "name": "stdout",
     "output_type": "stream",
     "text": [
      "Previous TDS Landfill Data\n",
      "Range\t\t: 245540.0\n",
      "Variance\t: 73789276.79490957\n",
      "Standar Deviasi\t: 8590.068497684379\n",
      "\n"
     ]
    }
   ],
   "source": [
    "# range\n",
    "range_old = df['load_weight'][df['dropoff_site']==\"TDS LANDFILL\"].max()-df['load_weight'][df['dropoff_site']==\"TDS LANDFILL\"].min()\n",
    "# variance\n",
    "var_old = df['load_weight'][df['dropoff_site']==\"TDS LANDFILL\"].var()\n",
    "# standar deviasi\n",
    "std_old = df['load_weight'][df['dropoff_site']==\"TDS LANDFILL\"].std()\n",
    "\n",
    "print(\"Previous TDS Landfill Data\\nRange\\t\\t: {}\\nVariance\\t: {}\\nStandar Deviasi\\t: {}\\n\".format(range_old,var_old,std_old))"
   ]
  },
  {
   "attachments": {},
   "cell_type": "markdown",
   "metadata": {},
   "source": [
    "Insight kepada pemerintah kota Austin:\n",
    "- Range, variance, dan standar deviasi pada data yang sudah dibersihkan terlihat mengecil, hal ini menunjukkan distribusi data yang lebih seragam sehingga pengambilan keputusan yang menggunakan data site TDS Landfill sebagai acuan akan lebih akurat/representatif."
   ]
  },
  {
   "attachments": {},
   "cell_type": "markdown",
   "metadata": {},
   "source": [
    "## Analisis Kapasitas Penampungan Site Baru dengan Confidence Interval"
   ]
  },
  {
   "cell_type": "code",
   "execution_count": 51,
   "metadata": {},
   "outputs": [
    {
     "name": "stderr",
     "output_type": "stream",
     "text": [
      "/var/folders/lv/63lr74g926b4flfb_7npy3m40000gn/T/ipykernel_50417/1268266306.py:1: FutureWarning: The default value of numeric_only in DataFrameGroupBy.sum is deprecated. In a future version, numeric_only will default to False. Either specify numeric_only or select only columns which should be valid for the function.\n",
      "  df_monthly_clean = df_clean.groupby(['dropoff_site',pd.Grouper(key='report_date',freq='1M')]).sum()\n"
     ]
    },
    {
     "data": {
      "text/html": [
       "<div>\n",
       "<style scoped>\n",
       "    .dataframe tbody tr th:only-of-type {\n",
       "        vertical-align: middle;\n",
       "    }\n",
       "\n",
       "    .dataframe tbody tr th {\n",
       "        vertical-align: top;\n",
       "    }\n",
       "\n",
       "    .dataframe thead th {\n",
       "        text-align: right;\n",
       "    }\n",
       "</style>\n",
       "<table border=\"1\" class=\"dataframe\">\n",
       "  <thead>\n",
       "    <tr style=\"text-align: right;\">\n",
       "      <th></th>\n",
       "      <th></th>\n",
       "      <th>load_weight</th>\n",
       "    </tr>\n",
       "    <tr>\n",
       "      <th>dropoff_site</th>\n",
       "      <th>report_date</th>\n",
       "      <th></th>\n",
       "    </tr>\n",
       "  </thead>\n",
       "  <tbody>\n",
       "    <tr>\n",
       "      <th rowspan=\"5\" valign=\"top\">AUSTIN IRON AND METAL</th>\n",
       "      <th>2021-01-31</th>\n",
       "      <td>1,950.00</td>\n",
       "    </tr>\n",
       "    <tr>\n",
       "      <th>2021-02-28</th>\n",
       "      <td>1,890.00</td>\n",
       "    </tr>\n",
       "    <tr>\n",
       "      <th>2021-03-31</th>\n",
       "      <td>3,970.00</td>\n",
       "    </tr>\n",
       "    <tr>\n",
       "      <th>2021-04-30</th>\n",
       "      <td>3,410.00</td>\n",
       "    </tr>\n",
       "    <tr>\n",
       "      <th>2021-05-31</th>\n",
       "      <td>6,230.00</td>\n",
       "    </tr>\n",
       "    <tr>\n",
       "      <th>...</th>\n",
       "      <th>...</th>\n",
       "      <td>...</td>\n",
       "    </tr>\n",
       "    <tr>\n",
       "      <th rowspan=\"3\" valign=\"top\">TDS LANDFILL</th>\n",
       "      <th>2021-05-31</th>\n",
       "      <td>26,811,500.00</td>\n",
       "    </tr>\n",
       "    <tr>\n",
       "      <th>2021-06-30</th>\n",
       "      <td>27,422,630.30</td>\n",
       "    </tr>\n",
       "    <tr>\n",
       "      <th>2021-07-31</th>\n",
       "      <td>6,791,250.00</td>\n",
       "    </tr>\n",
       "    <tr>\n",
       "      <th>WESTFIELD</th>\n",
       "      <th>2021-05-31</th>\n",
       "      <td>16,020.00</td>\n",
       "    </tr>\n",
       "    <tr>\n",
       "      <th>WILCAB</th>\n",
       "      <th>2021-01-31</th>\n",
       "      <td>11,300.00</td>\n",
       "    </tr>\n",
       "  </tbody>\n",
       "</table>\n",
       "<p>84 rows × 1 columns</p>\n",
       "</div>"
      ],
      "text/plain": [
       "                                    load_weight\n",
       "dropoff_site          report_date              \n",
       "AUSTIN IRON AND METAL 2021-01-31       1,950.00\n",
       "                      2021-02-28       1,890.00\n",
       "                      2021-03-31       3,970.00\n",
       "                      2021-04-30       3,410.00\n",
       "                      2021-05-31       6,230.00\n",
       "...                                         ...\n",
       "TDS LANDFILL          2021-05-31  26,811,500.00\n",
       "                      2021-06-30  27,422,630.30\n",
       "                      2021-07-31   6,791,250.00\n",
       "WESTFIELD             2021-05-31      16,020.00\n",
       "WILCAB                2021-01-31      11,300.00\n",
       "\n",
       "[84 rows x 1 columns]"
      ]
     },
     "execution_count": 51,
     "metadata": {},
     "output_type": "execute_result"
    }
   ],
   "source": [
    "df_monthly_clean = df_clean.groupby(['dropoff_site',pd.Grouper(key='report_date',freq='1M')]).sum()\n",
    "df_monthly_clean_len = len(df_monthly_clean.loc['TDS LANDFILL'].index)\n",
    "df_monthly_clean"
   ]
  },
  {
   "cell_type": "code",
   "execution_count": 52,
   "metadata": {},
   "outputs": [
    {
     "data": {
      "text/html": [
       "<div>\n",
       "<style scoped>\n",
       "    .dataframe tbody tr th:only-of-type {\n",
       "        vertical-align: middle;\n",
       "    }\n",
       "\n",
       "    .dataframe tbody tr th {\n",
       "        vertical-align: top;\n",
       "    }\n",
       "\n",
       "    .dataframe thead tr th {\n",
       "        text-align: left;\n",
       "    }\n",
       "\n",
       "    .dataframe thead tr:last-of-type th {\n",
       "        text-align: right;\n",
       "    }\n",
       "</style>\n",
       "<table border=\"1\" class=\"dataframe\">\n",
       "  <thead>\n",
       "    <tr>\n",
       "      <th></th>\n",
       "      <th colspan=\"3\" halign=\"left\">load_weight</th>\n",
       "    </tr>\n",
       "    <tr>\n",
       "      <th></th>\n",
       "      <th>mean</th>\n",
       "      <th>median</th>\n",
       "      <th>std</th>\n",
       "    </tr>\n",
       "    <tr>\n",
       "      <th>dropoff_site</th>\n",
       "      <th></th>\n",
       "      <th></th>\n",
       "      <th></th>\n",
       "    </tr>\n",
       "  </thead>\n",
       "  <tbody>\n",
       "    <tr>\n",
       "      <th>TDS LANDFILL</th>\n",
       "      <td>23,017,223.65</td>\n",
       "      <td>25,683,700.00</td>\n",
       "      <td>7,376,741.18</td>\n",
       "    </tr>\n",
       "    <tr>\n",
       "      <th>ORGANICS BY GOSH</th>\n",
       "      <td>9,715,443.71</td>\n",
       "      <td>8,715,460.00</td>\n",
       "      <td>6,659,087.54</td>\n",
       "    </tr>\n",
       "    <tr>\n",
       "      <th>BALCONES RECYCLING</th>\n",
       "      <td>5,187,981.43</td>\n",
       "      <td>5,944,230.00</td>\n",
       "      <td>2,117,444.52</td>\n",
       "    </tr>\n",
       "    <tr>\n",
       "      <th>TDS - MRF</th>\n",
       "      <td>4,157,754.29</td>\n",
       "      <td>4,733,050.00</td>\n",
       "      <td>1,796,368.00</td>\n",
       "    </tr>\n",
       "    <tr>\n",
       "      <th>HORNSBY BEND</th>\n",
       "      <td>1,569,202.86</td>\n",
       "      <td>1,660,200.00</td>\n",
       "      <td>567,745.82</td>\n",
       "    </tr>\n",
       "    <tr>\n",
       "      <th>ONION CREEK</th>\n",
       "      <td>1,312,414.29</td>\n",
       "      <td>1,344,700.00</td>\n",
       "      <td>523,570.54</td>\n",
       "    </tr>\n",
       "    <tr>\n",
       "      <th>GREAT NORTHERN</th>\n",
       "      <td>167,624.00</td>\n",
       "      <td>76,860.00</td>\n",
       "      <td>157,425.62</td>\n",
       "    </tr>\n",
       "    <tr>\n",
       "      <th>PARK CENTER</th>\n",
       "      <td>141,250.00</td>\n",
       "      <td>113,000.00</td>\n",
       "      <td>112,717.15</td>\n",
       "    </tr>\n",
       "    <tr>\n",
       "      <th>ON ROUTE HIGH DUMP</th>\n",
       "      <td>131,982.86</td>\n",
       "      <td>124,300.00</td>\n",
       "      <td>103,686.47</td>\n",
       "    </tr>\n",
       "    <tr>\n",
       "      <th>MRF</th>\n",
       "      <td>43,199.57</td>\n",
       "      <td>49,900.00</td>\n",
       "      <td>20,962.13</td>\n",
       "    </tr>\n",
       "    <tr>\n",
       "      <th>PARK BEND</th>\n",
       "      <td>17,846.67</td>\n",
       "      <td>20,400.00</td>\n",
       "      <td>7,924.75</td>\n",
       "    </tr>\n",
       "    <tr>\n",
       "      <th>WESTFIELD</th>\n",
       "      <td>16,020.00</td>\n",
       "      <td>16,020.00</td>\n",
       "      <td>NaN</td>\n",
       "    </tr>\n",
       "    <tr>\n",
       "      <th>WILCAB</th>\n",
       "      <td>11,300.00</td>\n",
       "      <td>11,300.00</td>\n",
       "      <td>NaN</td>\n",
       "    </tr>\n",
       "    <tr>\n",
       "      <th>ST. EDWARDS</th>\n",
       "      <td>11,300.00</td>\n",
       "      <td>11,300.00</td>\n",
       "      <td>NaN</td>\n",
       "    </tr>\n",
       "    <tr>\n",
       "      <th>BALCONES WOODS</th>\n",
       "      <td>8,460.00</td>\n",
       "      <td>8,460.00</td>\n",
       "      <td>NaN</td>\n",
       "    </tr>\n",
       "    <tr>\n",
       "      <th>AUSTIN WOOD RECYCLING</th>\n",
       "      <td>4,050.00</td>\n",
       "      <td>4,050.00</td>\n",
       "      <td>2,418.31</td>\n",
       "    </tr>\n",
       "    <tr>\n",
       "      <th>AUSTIN IRON AND METAL</th>\n",
       "      <td>3,222.86</td>\n",
       "      <td>3,410.00</td>\n",
       "      <td>1,765.36</td>\n",
       "    </tr>\n",
       "    <tr>\n",
       "      <th>STEINER LANDFILL</th>\n",
       "      <td>780.00</td>\n",
       "      <td>780.00</td>\n",
       "      <td>NaN</td>\n",
       "    </tr>\n",
       "  </tbody>\n",
       "</table>\n",
       "</div>"
      ],
      "text/plain": [
       "                        load_weight                           \n",
       "                               mean        median          std\n",
       "dropoff_site                                                  \n",
       "TDS LANDFILL          23,017,223.65 25,683,700.00 7,376,741.18\n",
       "ORGANICS BY GOSH       9,715,443.71  8,715,460.00 6,659,087.54\n",
       "BALCONES RECYCLING     5,187,981.43  5,944,230.00 2,117,444.52\n",
       "TDS - MRF              4,157,754.29  4,733,050.00 1,796,368.00\n",
       "HORNSBY BEND           1,569,202.86  1,660,200.00   567,745.82\n",
       "ONION CREEK            1,312,414.29  1,344,700.00   523,570.54\n",
       "GREAT NORTHERN           167,624.00     76,860.00   157,425.62\n",
       "PARK CENTER              141,250.00    113,000.00   112,717.15\n",
       "ON ROUTE HIGH DUMP       131,982.86    124,300.00   103,686.47\n",
       "MRF                       43,199.57     49,900.00    20,962.13\n",
       "PARK BEND                 17,846.67     20,400.00     7,924.75\n",
       "WESTFIELD                 16,020.00     16,020.00          NaN\n",
       "WILCAB                    11,300.00     11,300.00          NaN\n",
       "ST. EDWARDS               11,300.00     11,300.00          NaN\n",
       "BALCONES WOODS             8,460.00      8,460.00          NaN\n",
       "AUSTIN WOOD RECYCLING      4,050.00      4,050.00     2,418.31\n",
       "AUSTIN IRON AND METAL      3,222.86      3,410.00     1,765.36\n",
       "STEINER LANDFILL             780.00        780.00          NaN"
      ]
     },
     "execution_count": 52,
     "metadata": {},
     "output_type": "execute_result"
    }
   ],
   "source": [
    "df_monthly_centrality_clean = df_monthly_clean.groupby(['dropoff_site']).agg({'load_weight':['mean','median','std']}) #monthly centrality\n",
    "df_monthly_centrality_clean.sort_values(by=('load_weight','mean'),ascending=False) # mengurutkan site dari nilai mean tertinggi"
   ]
  },
  {
   "cell_type": "code",
   "execution_count": 53,
   "metadata": {},
   "outputs": [
    {
     "data": {
      "text/plain": [
       "mean     23,017,223.65\n",
       "median   25,683,700.00\n",
       "std       7,376,741.18\n",
       "Name: TDS LANDFILL, dtype: float64"
      ]
     },
     "execution_count": 53,
     "metadata": {},
     "output_type": "execute_result"
    }
   ],
   "source": [
    "df_tds_monthly_clean = df_monthly_centrality_clean.loc[\"TDS LANDFILL\"]['load_weight']\n",
    "df_tds_monthly_clean"
   ]
  },
  {
   "attachments": {},
   "cell_type": "markdown",
   "metadata": {},
   "source": [
    "Menghitung kapasitas penampungan sampah yang dibutuhkan site baru"
   ]
  },
  {
   "cell_type": "code",
   "execution_count": 54,
   "metadata": {},
   "outputs": [
    {
     "name": "stdout",
     "output_type": "stream",
     "text": [
      "the expected value of the population lies between 17552557.720819265 and 28481889.57615217\n"
     ]
    }
   ],
   "source": [
    "# menghitung expected value given confidence interval (95%)\n",
    "ci = stats.norm.interval(0.95, df_tds_monthly_clean['mean'], df_tds_monthly_clean['std']/np.sqrt(df_monthly_clean_len)) # two tail\n",
    "print(f'the expected value of the population lies between {ci[0]} and {ci[1]}')"
   ]
  },
  {
   "attachments": {},
   "cell_type": "markdown",
   "metadata": {},
   "source": [
    "- Penulis menggunakan data rata-rata akumulasi sampah bulanan (tak peduli jenis sampahnya) pada satu site saja yaitu TDS Landfill dengan alasan rata-rata akumulasi sampah bulanan terbesar ada pada site tersebut, selain itu penulis juga sudah membersihkan outliernya sehingga olahan data yang mengacu pada site tersebut diharapkan lebih akurat guna menghasilkan keputusan yang tepat. \n",
    "- Dengan tingkat kepercayaan 95%, rata-rata penduduk kota Austin menghasilkan sampah bulanan sebesar diantara 17,6 juta dan 28,5 juta kilogram sampah.\n",
    "- Kapasitas site yang akan dibangun hendaknya disesuaikan dengan data ini."
   ]
  },
  {
   "attachments": {},
   "cell_type": "markdown",
   "metadata": {},
   "source": [
    "## Analisis Uji Hipotesis"
   ]
  },
  {
   "attachments": {},
   "cell_type": "markdown",
   "metadata": {},
   "source": [
    "Penulis melihat site Hornsby Bend dan Onion Creek memiliki kemiripan data akumulasi sampah bulanan, namun penulis ingin mengetahui apakah rata rata sampah harian mereka juga demikian, jika demikian apakah perbedaannya tersebut signifikan/tidak.\n",
    "\n",
    "- H0 = Rata-rata akumulasi sampah harian site HORNSBY BEND sama dengan site ONION CREEK.\n",
    "- H1 = Rata-rata akumulasi sampah harian site HORNSBY BEND tidak sama dengan site ONION CREEK.\n",
    "- Confidence threshold yang akan digunakan sebesar 95%"
   ]
  },
  {
   "cell_type": "code",
   "execution_count": 55,
   "metadata": {},
   "outputs": [
    {
     "name": "stderr",
     "output_type": "stream",
     "text": [
      "/var/folders/lv/63lr74g926b4flfb_7npy3m40000gn/T/ipykernel_50417/3719375900.py:1: FutureWarning: The default value of numeric_only in DataFrameGroupBy.sum is deprecated. In a future version, numeric_only will default to False. Either specify numeric_only or select only columns which should be valid for the function.\n",
      "  df_daily_clean = df_clean.groupby(['dropoff_site',pd.Grouper(key='report_date',freq='1D')]).sum()\n"
     ]
    }
   ],
   "source": [
    "df_daily_clean = df_clean.groupby(['dropoff_site',pd.Grouper(key='report_date',freq='1D')]).sum()"
   ]
  },
  {
   "cell_type": "code",
   "execution_count": 56,
   "metadata": {},
   "outputs": [
    {
     "data": {
      "text/html": [
       "<div>\n",
       "<style scoped>\n",
       "    .dataframe tbody tr th:only-of-type {\n",
       "        vertical-align: middle;\n",
       "    }\n",
       "\n",
       "    .dataframe tbody tr th {\n",
       "        vertical-align: top;\n",
       "    }\n",
       "\n",
       "    .dataframe thead th {\n",
       "        text-align: right;\n",
       "    }\n",
       "</style>\n",
       "<table border=\"1\" class=\"dataframe\">\n",
       "  <thead>\n",
       "    <tr style=\"text-align: right;\">\n",
       "      <th></th>\n",
       "      <th>load_weight</th>\n",
       "    </tr>\n",
       "    <tr>\n",
       "      <th>report_date</th>\n",
       "      <th></th>\n",
       "    </tr>\n",
       "  </thead>\n",
       "  <tbody>\n",
       "    <tr>\n",
       "      <th>2021-01-02</th>\n",
       "      <td>78,820.00</td>\n",
       "    </tr>\n",
       "    <tr>\n",
       "      <th>2021-01-04</th>\n",
       "      <td>180,920.00</td>\n",
       "    </tr>\n",
       "    <tr>\n",
       "      <th>2021-01-05</th>\n",
       "      <td>95,880.00</td>\n",
       "    </tr>\n",
       "    <tr>\n",
       "      <th>2021-01-06</th>\n",
       "      <td>156,400.00</td>\n",
       "    </tr>\n",
       "    <tr>\n",
       "      <th>2021-01-07</th>\n",
       "      <td>107,600.00</td>\n",
       "    </tr>\n",
       "    <tr>\n",
       "      <th>...</th>\n",
       "      <td>...</td>\n",
       "    </tr>\n",
       "    <tr>\n",
       "      <th>2021-07-05</th>\n",
       "      <td>26,520.00</td>\n",
       "    </tr>\n",
       "    <tr>\n",
       "      <th>2021-07-06</th>\n",
       "      <td>76,220.00</td>\n",
       "    </tr>\n",
       "    <tr>\n",
       "      <th>2021-07-07</th>\n",
       "      <td>53,220.00</td>\n",
       "    </tr>\n",
       "    <tr>\n",
       "      <th>2021-07-08</th>\n",
       "      <td>81,280.00</td>\n",
       "    </tr>\n",
       "    <tr>\n",
       "      <th>2021-07-09</th>\n",
       "      <td>115,400.00</td>\n",
       "    </tr>\n",
       "  </tbody>\n",
       "</table>\n",
       "<p>144 rows × 1 columns</p>\n",
       "</div>"
      ],
      "text/plain": [
       "             load_weight\n",
       "report_date             \n",
       "2021-01-02     78,820.00\n",
       "2021-01-04    180,920.00\n",
       "2021-01-05     95,880.00\n",
       "2021-01-06    156,400.00\n",
       "2021-01-07    107,600.00\n",
       "...                  ...\n",
       "2021-07-05     26,520.00\n",
       "2021-07-06     76,220.00\n",
       "2021-07-07     53,220.00\n",
       "2021-07-08     81,280.00\n",
       "2021-07-09    115,400.00\n",
       "\n",
       "[144 rows x 1 columns]"
      ]
     },
     "execution_count": 56,
     "metadata": {},
     "output_type": "execute_result"
    }
   ],
   "source": [
    "df_daily_hornsby_clean = df_daily_clean.loc['HORNSBY BEND']\n",
    "df_daily_hornsby_clean"
   ]
  },
  {
   "cell_type": "code",
   "execution_count": 57,
   "metadata": {},
   "outputs": [
    {
     "data": {
      "text/html": [
       "<div>\n",
       "<style scoped>\n",
       "    .dataframe tbody tr th:only-of-type {\n",
       "        vertical-align: middle;\n",
       "    }\n",
       "\n",
       "    .dataframe tbody tr th {\n",
       "        vertical-align: top;\n",
       "    }\n",
       "\n",
       "    .dataframe thead th {\n",
       "        text-align: right;\n",
       "    }\n",
       "</style>\n",
       "<table border=\"1\" class=\"dataframe\">\n",
       "  <thead>\n",
       "    <tr style=\"text-align: right;\">\n",
       "      <th></th>\n",
       "      <th>load_weight</th>\n",
       "    </tr>\n",
       "    <tr>\n",
       "      <th>report_date</th>\n",
       "      <th></th>\n",
       "    </tr>\n",
       "  </thead>\n",
       "  <tbody>\n",
       "    <tr>\n",
       "      <th>2021-01-01</th>\n",
       "      <td>45,200.00</td>\n",
       "    </tr>\n",
       "    <tr>\n",
       "      <th>2021-01-02</th>\n",
       "      <td>33,900.00</td>\n",
       "    </tr>\n",
       "    <tr>\n",
       "      <th>2021-01-05</th>\n",
       "      <td>11,300.00</td>\n",
       "    </tr>\n",
       "    <tr>\n",
       "      <th>2021-01-06</th>\n",
       "      <td>56,500.00</td>\n",
       "    </tr>\n",
       "    <tr>\n",
       "      <th>2021-01-07</th>\n",
       "      <td>79,100.00</td>\n",
       "    </tr>\n",
       "    <tr>\n",
       "      <th>...</th>\n",
       "      <td>...</td>\n",
       "    </tr>\n",
       "    <tr>\n",
       "      <th>2021-07-03</th>\n",
       "      <td>56,500.00</td>\n",
       "    </tr>\n",
       "    <tr>\n",
       "      <th>2021-07-06</th>\n",
       "      <td>67,800.00</td>\n",
       "    </tr>\n",
       "    <tr>\n",
       "      <th>2021-07-07</th>\n",
       "      <td>101,700.00</td>\n",
       "    </tr>\n",
       "    <tr>\n",
       "      <th>2021-07-08</th>\n",
       "      <td>124,300.00</td>\n",
       "    </tr>\n",
       "    <tr>\n",
       "      <th>2021-07-09</th>\n",
       "      <td>56,500.00</td>\n",
       "    </tr>\n",
       "  </tbody>\n",
       "</table>\n",
       "<p>140 rows × 1 columns</p>\n",
       "</div>"
      ],
      "text/plain": [
       "             load_weight\n",
       "report_date             \n",
       "2021-01-01     45,200.00\n",
       "2021-01-02     33,900.00\n",
       "2021-01-05     11,300.00\n",
       "2021-01-06     56,500.00\n",
       "2021-01-07     79,100.00\n",
       "...                  ...\n",
       "2021-07-03     56,500.00\n",
       "2021-07-06     67,800.00\n",
       "2021-07-07    101,700.00\n",
       "2021-07-08    124,300.00\n",
       "2021-07-09     56,500.00\n",
       "\n",
       "[140 rows x 1 columns]"
      ]
     },
     "execution_count": 57,
     "metadata": {},
     "output_type": "execute_result"
    }
   ],
   "source": [
    "df_daily_onion_clean = df_daily_clean.loc['ONION CREEK']\n",
    "df_daily_onion_clean"
   ]
  },
  {
   "cell_type": "code",
   "execution_count": 58,
   "metadata": {},
   "outputs": [
    {
     "data": {
      "text/plain": [
       "load_weight   76,280.69\n",
       "dtype: float64"
      ]
     },
     "execution_count": 58,
     "metadata": {},
     "output_type": "execute_result"
    }
   ],
   "source": [
    "df_daily_hornsby_clean.mean() #rata2 sampah harian hornsby bend"
   ]
  },
  {
   "cell_type": "code",
   "execution_count": 59,
   "metadata": {},
   "outputs": [
    {
     "data": {
      "text/plain": [
       "load_weight   65,620.71\n",
       "dtype: float64"
      ]
     },
     "execution_count": 59,
     "metadata": {},
     "output_type": "execute_result"
    }
   ],
   "source": [
    "df_daily_onion_clean.mean() #rata2 sampah harian onion creek"
   ]
  },
  {
   "cell_type": "code",
   "execution_count": 60,
   "metadata": {},
   "outputs": [
    {
     "name": "stdout",
     "output_type": "stream",
     "text": [
      "P-value: 0.02031767830921908\n",
      "t-statistics: 2.3336339594867987\n"
     ]
    }
   ],
   "source": [
    "t_stat, p_val = stats.ttest_ind(df_daily_hornsby_clean,df_daily_onion_clean)\n",
    "print('P-value:',p_val[0]) #the p-value isn't divided by 2 since the output is two-sided p-value\n",
    "print('t-statistics:',t_stat[0])"
   ]
  },
  {
   "attachments": {},
   "cell_type": "markdown",
   "metadata": {},
   "source": [
    "Terlihat diatas P-value < P-value threshold (0.05) maka reject H0"
   ]
  },
  {
   "cell_type": "code",
   "execution_count": 61,
   "metadata": {},
   "outputs": [
    {
     "name": "stderr",
     "output_type": "stream",
     "text": [
      "/var/folders/lv/63lr74g926b4flfb_7npy3m40000gn/T/ipykernel_50417/2988145986.py:3: UserWarning: \n",
      "\n",
      "`distplot` is a deprecated function and will be removed in seaborn v0.14.0.\n",
      "\n",
      "Please adapt your code to use either `displot` (a figure-level function with\n",
      "similar flexibility) or `histplot` (an axes-level function for histograms).\n",
      "\n",
      "For a guide to updating your code to use the new functions, please see\n",
      "https://gist.github.com/mwaskom/de44147ed2974457ad6372750bbe5751\n",
      "\n",
      "  sns.distplot(df_daily_hornsby_clean, label=\"Hornsby Bend's Average Trash Load a Day *Pop\",color='blue')\n",
      "/var/folders/lv/63lr74g926b4flfb_7npy3m40000gn/T/ipykernel_50417/2988145986.py:4: UserWarning: \n",
      "\n",
      "`distplot` is a deprecated function and will be removed in seaborn v0.14.0.\n",
      "\n",
      "Please adapt your code to use either `displot` (a figure-level function with\n",
      "similar flexibility) or `histplot` (an axes-level function for histograms).\n",
      "\n",
      "For a guide to updating your code to use the new functions, please see\n",
      "https://gist.github.com/mwaskom/de44147ed2974457ad6372750bbe5751\n",
      "\n",
      "  sns.distplot(df_daily_onion_clean, label=\"Onion Creek's Average Trash Load a Day *Pop\",color='red')\n"
     ]
    },
    {
     "data": {
      "text/plain": [
       "<matplotlib.legend.Legend at 0x289db6230>"
      ]
     },
     "execution_count": 61,
     "metadata": {},
     "output_type": "execute_result"
    },
    {
     "data": {
      "image/png": "[encoded data removed]",
      "text/plain": [
       "<Figure size 1000x500 with 1 Axes>"
      ]
     },
     "metadata": {},
     "output_type": "display_data"
    }
   ],
   "source": [
    "ci = stats.norm.interval(0.95, df_daily_hornsby_clean.mean(), df_daily_hornsby_clean.std())\n",
    "plt.figure(figsize=(10,5))\n",
    "sns.distplot(df_daily_hornsby_clean, label=\"Hornsby Bend's Average Trash Load a Day *Pop\",color='blue')\n",
    "sns.distplot(df_daily_onion_clean, label=\"Onion Creek's Average Trash Load a Day *Pop\",color='red')\n",
    "\n",
    "plt.axvline(df_daily_hornsby_clean.mean()[0], color='blue', linewidth=2, label='Hornsby Bend mean')\n",
    "plt.axvline(df_daily_onion_clean.mean()[0], color='red',  linewidth=2, label='Onion Creek mean')\n",
    "\n",
    "plt.axvline(ci[1], color='green', linestyle='dashed', linewidth=2, label='confidence threshold of 95%')\n",
    "plt.axvline(ci[0], color='green', linestyle='dashed', linewidth=2)\n",
    "\n",
    "plt.axvline(df_daily_hornsby_clean.mean()[0]+t_stat[0]*df_daily_hornsby_clean.std()[0], color='black', linestyle='dashed', linewidth=2, label = 'Alternative Hypothesis')\n",
    "plt.axvline(df_daily_hornsby_clean.mean()[0]-t_stat[0]*df_daily_hornsby_clean.std()[0], color='black', linestyle='dashed', linewidth=2)\n",
    "\n",
    "plt.legend()"
   ]
  },
  {
   "attachments": {},
   "cell_type": "markdown",
   "metadata": {},
   "source": [
    "Dari data dan grafik diatas penulis berkesimpulan dengan tingkat keyakinan 95% bahwa: rata-rata akumulasi sampah harian pada kedua site berbeda secara signifikan."
   ]
  },
  {
   "attachments": {},
   "cell_type": "markdown",
   "metadata": {},
   "source": [
    "## Tanya Jawab Terkait Analisis"
   ]
  },
  {
   "attachments": {},
   "cell_type": "markdown",
   "metadata": {},
   "source": [
    "Teknik apa yang kamu pilih untuk handling outlier? jelaskan alasannya!\n",
    ">Teknik yang dipilih adalah Trimming dengan bantuan Z-Score untuk data dengan distribusi normal dan Tukey's Rule untuk data dengan distribusi tidak normal. Trimming dilakukan dengan alasan total persentase outlier yang didapatkan terhadap keseluruhan dataset relatif sangat kecil yakni 0.0013% dan terhadap data site khusus TDS Landfill sebesar 0.32%. Dengan outlier sekecil ini, masih ada data asli yang masih utuh sebanyak lebih dari 99%, sehingga penulis meyakini data yang telah terpangkas tetaplah representatif dari kondisi situasi aslinya."
   ]
  },
  {
   "attachments": {},
   "cell_type": "markdown",
   "metadata": {},
   "source": [
    "Apa konsep dibalik confidence interval sehingga kita dapat menggunakannya untuk menyelesaikan langkah pada nomor 7?\n",
    ">Confidence interval menunjukkan probabilitas suatu nilai akan jatuh diantara 2 nilai, konsep ini dapat digunakan untuk mengestimasi kapasitas minimum dan maksimum pembangunan site baru."
   ]
  },
  {
   "attachments": {},
   "cell_type": "markdown",
   "metadata": {},
   "source": [
    "Jelaskan jenis uji hipotesis apa yang kamu terapkan dan mengapa?\n",
    ">Uji hipotesis yang diterapkan menggunakan *Two Samples Independent Two Tailed Hypothesis Testing*, karena penulis mengunakan data dari 2 site yang berbeda dan uji hipotesis ini dapat menunjukkan seberapa signifikan perbedaan kedua buah data."
   ]
  },
  {
   "attachments": {},
   "cell_type": "markdown",
   "metadata": {},
   "source": [
    "# Problem 2 (Math/Calculus)"
   ]
  },
  {
   "attachments": {},
   "cell_type": "markdown",
   "metadata": {},
   "source": [
    "## Description\n",
    "\n",
    "### Objective\n",
    "- Memprediksi muatan sampah dalam kg di kota Austin pada tanggal 10 Juli 2021\n",
    "\n",
    "\n",
    "### Problem Statement\n",
    "\n",
    "- Mencari jumlah muatan sampah pada hari sebelumnya\n",
    "- Mengolah data muatan sampah pada hari sebelumnya untuk memprediksi jumlah muatan sampah di masa depan"
   ]
  },
  {
   "attachments": {},
   "cell_type": "markdown",
   "metadata": {},
   "source": [
    "### Prediksi Muatan Sampah 10 Juli 2021"
   ]
  },
  {
   "cell_type": "code",
   "execution_count": 62,
   "metadata": {},
   "outputs": [
    {
     "name": "stderr",
     "output_type": "stream",
     "text": [
      "/var/folders/lv/63lr74g926b4flfb_7npy3m40000gn/T/ipykernel_50417/1076130265.py:1: FutureWarning: The default value of numeric_only in DataFrameGroupBy.sum is deprecated. In a future version, numeric_only will default to False. Either specify numeric_only or select only columns which should be valid for the function.\n",
      "  df_gb_date = df_clean.groupby('report_date').sum()['load_weight']\n"
     ]
    }
   ],
   "source": [
    "df_gb_date = df_clean.groupby('report_date').sum()['load_weight']"
   ]
  },
  {
   "cell_type": "code",
   "execution_count": 63,
   "metadata": {},
   "outputs": [],
   "source": [
    "V = np.gradient(df_gb_date,range(len(df_gb_date)))"
   ]
  },
  {
   "cell_type": "code",
   "execution_count": 64,
   "metadata": {},
   "outputs": [],
   "source": [
    "v = np.abs(V[-1]) #ambil gradien terakhir"
   ]
  },
  {
   "cell_type": "code",
   "execution_count": 65,
   "metadata": {},
   "outputs": [
    {
     "name": "stdout",
     "output_type": "stream",
     "text": [
      "Total muatan sampah 9 Juli 2021 sebesar 176,840.0 kg\n"
     ]
    }
   ],
   "source": [
    "# jumlah muatan sampah pada 9 Juli 2021\n",
    "load_today = df_gb_date[-1]\n",
    "print(f'Total muatan sampah 9 Juli 2021 sebesar {load_today:,} kg')"
   ]
  },
  {
   "cell_type": "code",
   "execution_count": 66,
   "metadata": {},
   "outputs": [
    {
     "name": "stdout",
     "output_type": "stream",
     "text": [
      "Prediksi total muatan sampah pada 10 Juli 2021 sebesar 1,513,950.0 kg\n"
     ]
    }
   ],
   "source": [
    "# prediksi jumlah muatan sampah pada hari esok (10 Juli 2021)\n",
    "load_tomorrow = load_today + v*1\n",
    "\n",
    "# jumlah muatan sampah pada 10 Juli 2021\n",
    "print(f'Prediksi total muatan sampah pada 10 Juli 2021 sebesar {load_tomorrow:,} kg')"
   ]
  },
  {
   "attachments": {},
   "cell_type": "markdown",
   "metadata": {},
   "source": [
    "Untuk menghitung turunan pertama dapat digunakan metode simbolik dan numerik, untuk kasus ini, teknik apa yang kamu gunakan? \n",
    ">Penulis menggunakan teknik numerik.\n"
   ]
  },
  {
   "attachments": {},
   "cell_type": "markdown",
   "metadata": {},
   "source": [
    "Apakah kamu membutuhkan fungsi matematis untuk menghitung turunannya? (ya/tidak) berikan alasanmu!\n",
    ">Ya, penulis membutuhkan fungsi matematis np.gradient() untuk menghitung turunannya."
   ]
  },
  {
   "attachments": {},
   "cell_type": "markdown",
   "metadata": {},
   "source": [
    "Berapa load weight yang kamu perkirakan di hari esok (10 Juli 2021)?\n",
    ">Penulis memperkirakan total muatan sampah pada hari esok sebesar 1,513,950.0 kg"
   ]
  },
  {
   "attachments": {},
   "cell_type": "markdown",
   "metadata": {},
   "source": [
    "### Kesimpulan, Hasil, dan Analisis Keseluruhan\n",
    "- Untuk mendapatkan insight dari suatu data, penting untuk memastikan bahwa data tersebut bersih dari noise (missing value & outlier).\n",
    "- Central tendency menunjukkan karakteristik distribusi suatu data dan distribusi data dapat dijadikan acuan untuk mengetahui bagaimana data tersebut dapat diolah.\n",
    "- Secara sekilas site Hornsby Bend dan Onion Creek memiliki rata-rata muatan sampah bulanan yang terlihat tidak berbeda jauh, namun uji hipotesis menunjukkan untuk rata-rata muatan hariannya berbeda secara signifikan.\n",
    "- Prediksi total muatan sampah pada 10 Juli 2021 sebesar 1,513,950.0 kg.\n",
    "- Penerapan ilmu statistika dan matematika pada data dapat memberikan insight dan perspekstif baru terhadap situasi yang sudah terjadi dan bahkan yang mungkin akan terjadi.\n",
    "\n",
    "### Kesimpulan dan Saran Untuk Pemerintah Kota\n",
    "- Berdasarkan hasil olah data muatan sampah bulanan, penduduk kota Austin rata-rata menghasilkan sampah bulanan sebesar 17,6 juta hingga 28,5 juta kg sampah. Oleh karena itu, penulis menyarankan pemerintah untuk membangun site baru dengan kapasitas minimal yang dapat menampung 17,6 juta kg sampah tiap bulannya."
   ]
  }
 ],
 "metadata": {
  "kernelspec": {
   "display_name": "tensorflow",
   "language": "python",
   "name": "python3"
  },
  "language_info": {
   "codemirror_mode": {
    "name": "ipython",
    "version": 3
   },
   "file_extension": ".py",
   "mimetype": "text/x-python",
   "name": "python",
   "nbconvert_exporter": "python",
   "pygments_lexer": "ipython3",
   "version": "3.10.9"
  },
  "orig_nbformat": 4,
  "vscode": {
   "interpreter": {
    "hash": "6c689652473bf5d24b7e8082146cd0e239d6c11b655d160204aff73691e33248"
   }
  }
 },
 "nbformat": 4,
 "nbformat_minor": 2
}
