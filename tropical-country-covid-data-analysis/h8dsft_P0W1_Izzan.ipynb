{
 "cells": [
  {
   "cell_type": "markdown",
   "metadata": {},
   "source": [
    "# Graded Challenge 1\n",
    "`Izzan Dienurrahman`\n",
    "`HCK-003`"
   ]
  },
  {
   "cell_type": "markdown",
   "metadata": {},
   "source": [
    "## Description\n",
    "\n",
    "### Background\n",
    "- Wabah COVID-19 melanda berbagai negara di seluruh dunia termasuk Indonesia. Penulis ingin membandingkan perkembangan kasus COVID-19 antar negara khususnya negara tropis di berbagai benua guna mencari negara percontohan terbaik dalam penanganan kasus wabah COVID-19.\n",
    "\n",
    "### Objective\n",
    "- Membandingkan Perkembangan Kasus COVID19 di Beberapa Negara Tropis Pada Benua Asia(Indonesia & Cambodia), Afrika(Ethiopia) dan Amerika(Colombia) pada Periode 2020-2021.\n",
    "\n",
    "### Problem Statement\n",
    "- Membandingkan kasus yang terkonfirmasi antar negara pada tiap kuartal\n",
    "- Membandingkan kasus kematian antar negara pada tiap kuartal\n",
    "- Membandingkan kasus pemulihan antar negara pada tiap kuartal"
   ]
  },
  {
   "cell_type": "markdown",
   "metadata": {},
   "source": [
    "## Query SQL Dataset\n",
    "SELECT \n",
    "country_region,\n",
    "province_state,\n",
    "date,\n",
    "confirmed,\n",
    "deaths,\n",
    "recovered,\n",
    "admin2\n",
    "FROM `bigquery-public-data.covid19_jhu_csse.summary`\n",
    "WHERE  country_region IN (\"Indonesia\", \"Malaysia\", \"Colombia\", \"Ethiopia\")\n",
    "AND (date >= '2020-01-01') AND (date < '2021-01-01')\n",
    "ORDER BY date"
   ]
  },
  {
   "cell_type": "markdown",
   "metadata": {},
   "source": [
    "Melakukan import library pandas"
   ]
  },
  {
   "cell_type": "code",
   "execution_count": 100,
   "metadata": {},
   "outputs": [],
   "source": [
    "import pandas as pd"
   ]
  },
  {
   "cell_type": "markdown",
   "metadata": {},
   "source": [
    "Mendefinisikan filter non-standard missing values untuk ditambahkan pada default missing values"
   ]
  },
  {
   "cell_type": "code",
   "execution_count": 101,
   "metadata": {},
   "outputs": [],
   "source": [
    "pd.options.display.float_format = \"{:,}\".format"
   ]
  },
  {
   "cell_type": "markdown",
   "metadata": {},
   "source": [
    "Menampilkan data dengan format *thousand separator*"
   ]
  },
  {
   "cell_type": "code",
   "execution_count": 102,
   "metadata": {},
   "outputs": [],
   "source": [
    "missing_values = [\"n/a\", \"na\", \"--\"]"
   ]
  },
  {
   "cell_type": "markdown",
   "metadata": {},
   "source": [
    "Membaca dataset dengan format csv ke dalam variable df"
   ]
  },
  {
   "cell_type": "code",
   "execution_count": 103,
   "metadata": {},
   "outputs": [],
   "source": [
    "df = pd.read_csv('h8dsft_P0GC1_Izzan.csv', na_values=missing_values)"
   ]
  },
  {
   "cell_type": "markdown",
   "metadata": {},
   "source": [
    "Menampilkan informasi umum pada dataset."
   ]
  },
  {
   "cell_type": "code",
   "execution_count": 104,
   "metadata": {},
   "outputs": [
    {
     "name": "stdout",
     "output_type": "stream",
     "text": [
      "<class 'pandas.core.frame.DataFrame'>\n",
      "RangeIndex: 8379 entries, 0 to 8378\n",
      "Data columns (total 7 columns):\n",
      " #   Column          Non-Null Count  Dtype  \n",
      "---  ------          --------------  -----  \n",
      " 0   country_region  8379 non-null   object \n",
      " 1   province_state  7353 non-null   object \n",
      " 2   date            8379 non-null   object \n",
      " 3   confirmed       8377 non-null   float64\n",
      " 4   deaths          8369 non-null   float64\n",
      " 5   recovered       8370 non-null   float64\n",
      " 6   admin2          0 non-null      float64\n",
      "dtypes: float64(4), object(3)\n",
      "memory usage: 458.4+ KB\n"
     ]
    }
   ],
   "source": [
    "df.info()"
   ]
  },
  {
   "cell_type": "markdown",
   "metadata": {},
   "source": [
    "Menampilkan info 5 entri data teratas"
   ]
  },
  {
   "cell_type": "code",
   "execution_count": 105,
   "metadata": {},
   "outputs": [
    {
     "data": {
      "text/html": [
       "<div>\n",
       "<style scoped>\n",
       "    .dataframe tbody tr th:only-of-type {\n",
       "        vertical-align: middle;\n",
       "    }\n",
       "\n",
       "    .dataframe tbody tr th {\n",
       "        vertical-align: top;\n",
       "    }\n",
       "\n",
       "    .dataframe thead th {\n",
       "        text-align: right;\n",
       "    }\n",
       "</style>\n",
       "<table border=\"1\" class=\"dataframe\">\n",
       "  <thead>\n",
       "    <tr style=\"text-align: right;\">\n",
       "      <th></th>\n",
       "      <th>country_region</th>\n",
       "      <th>province_state</th>\n",
       "      <th>date</th>\n",
       "      <th>confirmed</th>\n",
       "      <th>deaths</th>\n",
       "      <th>recovered</th>\n",
       "      <th>admin2</th>\n",
       "    </tr>\n",
       "  </thead>\n",
       "  <tbody>\n",
       "    <tr>\n",
       "      <th>0</th>\n",
       "      <td>Malaysia</td>\n",
       "      <td>NaN</td>\n",
       "      <td>2020-01-23</td>\n",
       "      <td>NaN</td>\n",
       "      <td>NaN</td>\n",
       "      <td>NaN</td>\n",
       "      <td>NaN</td>\n",
       "    </tr>\n",
       "    <tr>\n",
       "      <th>1</th>\n",
       "      <td>Colombia</td>\n",
       "      <td>NaN</td>\n",
       "      <td>2020-01-23</td>\n",
       "      <td>NaN</td>\n",
       "      <td>NaN</td>\n",
       "      <td>NaN</td>\n",
       "      <td>NaN</td>\n",
       "    </tr>\n",
       "    <tr>\n",
       "      <th>2</th>\n",
       "      <td>Malaysia</td>\n",
       "      <td>NaN</td>\n",
       "      <td>2020-01-25</td>\n",
       "      <td>3.0</td>\n",
       "      <td>NaN</td>\n",
       "      <td>NaN</td>\n",
       "      <td>NaN</td>\n",
       "    </tr>\n",
       "    <tr>\n",
       "      <th>3</th>\n",
       "      <td>Malaysia</td>\n",
       "      <td>NaN</td>\n",
       "      <td>2020-01-26</td>\n",
       "      <td>4.0</td>\n",
       "      <td>NaN</td>\n",
       "      <td>NaN</td>\n",
       "      <td>NaN</td>\n",
       "    </tr>\n",
       "    <tr>\n",
       "      <th>4</th>\n",
       "      <td>Malaysia</td>\n",
       "      <td>NaN</td>\n",
       "      <td>2020-01-27</td>\n",
       "      <td>4.0</td>\n",
       "      <td>NaN</td>\n",
       "      <td>NaN</td>\n",
       "      <td>NaN</td>\n",
       "    </tr>\n",
       "  </tbody>\n",
       "</table>\n",
       "</div>"
      ],
      "text/plain": [
       "  country_region province_state        date  confirmed  deaths  recovered  \\\n",
       "0       Malaysia            NaN  2020-01-23        NaN     NaN        NaN   \n",
       "1       Colombia            NaN  2020-01-23        NaN     NaN        NaN   \n",
       "2       Malaysia            NaN  2020-01-25        3.0     NaN        NaN   \n",
       "3       Malaysia            NaN  2020-01-26        4.0     NaN        NaN   \n",
       "4       Malaysia            NaN  2020-01-27        4.0     NaN        NaN   \n",
       "\n",
       "   admin2  \n",
       "0     NaN  \n",
       "1     NaN  \n",
       "2     NaN  \n",
       "3     NaN  \n",
       "4     NaN  "
      ]
     },
     "execution_count": 105,
     "metadata": {},
     "output_type": "execute_result"
    }
   ],
   "source": [
    "df.head()"
   ]
  },
  {
   "cell_type": "markdown",
   "metadata": {},
   "source": [
    "Menampilkan info 5 entri data terbawah"
   ]
  },
  {
   "cell_type": "code",
   "execution_count": 106,
   "metadata": {},
   "outputs": [
    {
     "data": {
      "text/html": [
       "<div>\n",
       "<style scoped>\n",
       "    .dataframe tbody tr th:only-of-type {\n",
       "        vertical-align: middle;\n",
       "    }\n",
       "\n",
       "    .dataframe tbody tr th {\n",
       "        vertical-align: top;\n",
       "    }\n",
       "\n",
       "    .dataframe thead th {\n",
       "        text-align: right;\n",
       "    }\n",
       "</style>\n",
       "<table border=\"1\" class=\"dataframe\">\n",
       "  <thead>\n",
       "    <tr style=\"text-align: right;\">\n",
       "      <th></th>\n",
       "      <th>country_region</th>\n",
       "      <th>province_state</th>\n",
       "      <th>date</th>\n",
       "      <th>confirmed</th>\n",
       "      <th>deaths</th>\n",
       "      <th>recovered</th>\n",
       "      <th>admin2</th>\n",
       "    </tr>\n",
       "  </thead>\n",
       "  <tbody>\n",
       "    <tr>\n",
       "      <th>8374</th>\n",
       "      <td>Colombia</td>\n",
       "      <td>Vaupes</td>\n",
       "      <td>2020-12-31</td>\n",
       "      <td>1,139.0</td>\n",
       "      <td>12.0</td>\n",
       "      <td>1,120.0</td>\n",
       "      <td>NaN</td>\n",
       "    </tr>\n",
       "    <tr>\n",
       "      <th>8375</th>\n",
       "      <td>Colombia</td>\n",
       "      <td>Vichada</td>\n",
       "      <td>2020-12-31</td>\n",
       "      <td>1,150.0</td>\n",
       "      <td>14.0</td>\n",
       "      <td>1,125.0</td>\n",
       "      <td>NaN</td>\n",
       "    </tr>\n",
       "    <tr>\n",
       "      <th>8376</th>\n",
       "      <td>Ethiopia</td>\n",
       "      <td>NaN</td>\n",
       "      <td>2020-12-31</td>\n",
       "      <td>124,264.0</td>\n",
       "      <td>1,923.0</td>\n",
       "      <td>112,096.0</td>\n",
       "      <td>NaN</td>\n",
       "    </tr>\n",
       "    <tr>\n",
       "      <th>8377</th>\n",
       "      <td>Indonesia</td>\n",
       "      <td>NaN</td>\n",
       "      <td>2020-12-31</td>\n",
       "      <td>743,198.0</td>\n",
       "      <td>22,138.0</td>\n",
       "      <td>611,097.0</td>\n",
       "      <td>NaN</td>\n",
       "    </tr>\n",
       "    <tr>\n",
       "      <th>8378</th>\n",
       "      <td>Malaysia</td>\n",
       "      <td>NaN</td>\n",
       "      <td>2020-12-31</td>\n",
       "      <td>113,010.0</td>\n",
       "      <td>471.0</td>\n",
       "      <td>88,941.0</td>\n",
       "      <td>NaN</td>\n",
       "    </tr>\n",
       "  </tbody>\n",
       "</table>\n",
       "</div>"
      ],
      "text/plain": [
       "     country_region province_state        date  confirmed   deaths  recovered  \\\n",
       "8374       Colombia         Vaupes  2020-12-31    1,139.0     12.0    1,120.0   \n",
       "8375       Colombia        Vichada  2020-12-31    1,150.0     14.0    1,125.0   \n",
       "8376       Ethiopia            NaN  2020-12-31  124,264.0  1,923.0  112,096.0   \n",
       "8377      Indonesia            NaN  2020-12-31  743,198.0 22,138.0  611,097.0   \n",
       "8378       Malaysia            NaN  2020-12-31  113,010.0    471.0   88,941.0   \n",
       "\n",
       "      admin2  \n",
       "8374     NaN  \n",
       "8375     NaN  \n",
       "8376     NaN  \n",
       "8377     NaN  \n",
       "8378     NaN  "
      ]
     },
     "execution_count": 106,
     "metadata": {},
     "output_type": "execute_result"
    }
   ],
   "source": [
    "df.tail()"
   ]
  },
  {
   "cell_type": "markdown",
   "metadata": {},
   "source": [
    "## Data Cleaning"
   ]
  },
  {
   "cell_type": "markdown",
   "metadata": {},
   "source": [
    "### Renaming Dataset Column\n",
    "Beberapa kolom pada dataset akan di rename untuk memudahkan proses eksplorasi"
   ]
  },
  {
   "cell_type": "code",
   "execution_count": 107,
   "metadata": {},
   "outputs": [
    {
     "data": {
      "text/html": [
       "<div>\n",
       "<style scoped>\n",
       "    .dataframe tbody tr th:only-of-type {\n",
       "        vertical-align: middle;\n",
       "    }\n",
       "\n",
       "    .dataframe tbody tr th {\n",
       "        vertical-align: top;\n",
       "    }\n",
       "\n",
       "    .dataframe thead th {\n",
       "        text-align: right;\n",
       "    }\n",
       "</style>\n",
       "<table border=\"1\" class=\"dataframe\">\n",
       "  <thead>\n",
       "    <tr style=\"text-align: right;\">\n",
       "      <th></th>\n",
       "      <th>country_region</th>\n",
       "      <th>province_state</th>\n",
       "      <th>date</th>\n",
       "      <th>confirmed</th>\n",
       "      <th>deaths</th>\n",
       "      <th>recovered</th>\n",
       "      <th>admin2</th>\n",
       "    </tr>\n",
       "  </thead>\n",
       "  <tbody>\n",
       "    <tr>\n",
       "      <th>0</th>\n",
       "      <td>Malaysia</td>\n",
       "      <td>NaN</td>\n",
       "      <td>2020-01-23</td>\n",
       "      <td>NaN</td>\n",
       "      <td>NaN</td>\n",
       "      <td>NaN</td>\n",
       "      <td>NaN</td>\n",
       "    </tr>\n",
       "    <tr>\n",
       "      <th>1</th>\n",
       "      <td>Colombia</td>\n",
       "      <td>NaN</td>\n",
       "      <td>2020-01-23</td>\n",
       "      <td>NaN</td>\n",
       "      <td>NaN</td>\n",
       "      <td>NaN</td>\n",
       "      <td>NaN</td>\n",
       "    </tr>\n",
       "    <tr>\n",
       "      <th>2</th>\n",
       "      <td>Malaysia</td>\n",
       "      <td>NaN</td>\n",
       "      <td>2020-01-25</td>\n",
       "      <td>3.0</td>\n",
       "      <td>NaN</td>\n",
       "      <td>NaN</td>\n",
       "      <td>NaN</td>\n",
       "    </tr>\n",
       "    <tr>\n",
       "      <th>3</th>\n",
       "      <td>Malaysia</td>\n",
       "      <td>NaN</td>\n",
       "      <td>2020-01-26</td>\n",
       "      <td>4.0</td>\n",
       "      <td>NaN</td>\n",
       "      <td>NaN</td>\n",
       "      <td>NaN</td>\n",
       "    </tr>\n",
       "    <tr>\n",
       "      <th>4</th>\n",
       "      <td>Malaysia</td>\n",
       "      <td>NaN</td>\n",
       "      <td>2020-01-27</td>\n",
       "      <td>4.0</td>\n",
       "      <td>NaN</td>\n",
       "      <td>NaN</td>\n",
       "      <td>NaN</td>\n",
       "    </tr>\n",
       "  </tbody>\n",
       "</table>\n",
       "</div>"
      ],
      "text/plain": [
       "  country_region province_state        date  confirmed  deaths  recovered  \\\n",
       "0       Malaysia            NaN  2020-01-23        NaN     NaN        NaN   \n",
       "1       Colombia            NaN  2020-01-23        NaN     NaN        NaN   \n",
       "2       Malaysia            NaN  2020-01-25        3.0     NaN        NaN   \n",
       "3       Malaysia            NaN  2020-01-26        4.0     NaN        NaN   \n",
       "4       Malaysia            NaN  2020-01-27        4.0     NaN        NaN   \n",
       "\n",
       "   admin2  \n",
       "0     NaN  \n",
       "1     NaN  \n",
       "2     NaN  \n",
       "3     NaN  \n",
       "4     NaN  "
      ]
     },
     "execution_count": 107,
     "metadata": {},
     "output_type": "execute_result"
    }
   ],
   "source": [
    "df.head()"
   ]
  },
  {
   "cell_type": "code",
   "execution_count": 108,
   "metadata": {},
   "outputs": [],
   "source": [
    "df.rename(columns={'country_region':'country','province_state':'province','admin2':'admin'}, inplace=True)"
   ]
  },
  {
   "cell_type": "markdown",
   "metadata": {},
   "source": [
    "### Missing Value / NA Value Checking\n",
    "Melakukan pengecekan kolom-kolom yang memiliki entri value null/na."
   ]
  },
  {
   "cell_type": "code",
   "execution_count": 109,
   "metadata": {},
   "outputs": [
    {
     "name": "stdout",
     "output_type": "stream",
     "text": [
      "<class 'pandas.core.frame.DataFrame'>\n",
      "RangeIndex: 8379 entries, 0 to 8378\n",
      "Data columns (total 7 columns):\n",
      " #   Column     Non-Null Count  Dtype  \n",
      "---  ------     --------------  -----  \n",
      " 0   country    8379 non-null   object \n",
      " 1   province   7353 non-null   object \n",
      " 2   date       8379 non-null   object \n",
      " 3   confirmed  8377 non-null   float64\n",
      " 4   deaths     8369 non-null   float64\n",
      " 5   recovered  8370 non-null   float64\n",
      " 6   admin      0 non-null      float64\n",
      "dtypes: float64(4), object(3)\n",
      "memory usage: 458.4+ KB\n"
     ]
    }
   ],
   "source": [
    "df.info()"
   ]
  },
  {
   "cell_type": "code",
   "execution_count": 110,
   "metadata": {},
   "outputs": [
    {
     "data": {
      "text/plain": [
       "country         0\n",
       "province     1026\n",
       "date            0\n",
       "confirmed       2\n",
       "deaths         10\n",
       "recovered       9\n",
       "admin        8379\n",
       "dtype: int64"
      ]
     },
     "execution_count": 110,
     "metadata": {},
     "output_type": "execute_result"
    }
   ],
   "source": [
    "df.isna().sum()"
   ]
  },
  {
   "cell_type": "code",
   "execution_count": 111,
   "metadata": {},
   "outputs": [
    {
     "data": {
      "text/plain": [
       "country         0\n",
       "province     1026\n",
       "date            0\n",
       "confirmed       2\n",
       "deaths         10\n",
       "recovered       9\n",
       "admin        8379\n",
       "dtype: int64"
      ]
     },
     "execution_count": 111,
     "metadata": {},
     "output_type": "execute_result"
    }
   ],
   "source": [
    "df.isnull().sum()"
   ]
  },
  {
   "cell_type": "markdown",
   "metadata": {},
   "source": [
    "Terlihat beberapa kolom yang perlu dibersihkan seperti 'province', 'confirmed', 'deaths', dan 'admin'."
   ]
  },
  {
   "cell_type": "markdown",
   "metadata": {},
   "source": [
    "### Handling Column 'admin'\n",
    "Terlihat sebelumnya bahwa semua entri pada kolom admin memiliki missing/na value."
   ]
  },
  {
   "cell_type": "markdown",
   "metadata": {},
   "source": [
    "Melakukan drop kolom pada admin dengan alasan kolom admin tidak memberikan insight terhadap fokus permasalahan."
   ]
  },
  {
   "cell_type": "code",
   "execution_count": 112,
   "metadata": {},
   "outputs": [],
   "source": [
    "df.drop('admin', axis = 1, inplace = True)"
   ]
  },
  {
   "cell_type": "code",
   "execution_count": 113,
   "metadata": {},
   "outputs": [
    {
     "data": {
      "text/html": [
       "<div>\n",
       "<style scoped>\n",
       "    .dataframe tbody tr th:only-of-type {\n",
       "        vertical-align: middle;\n",
       "    }\n",
       "\n",
       "    .dataframe tbody tr th {\n",
       "        vertical-align: top;\n",
       "    }\n",
       "\n",
       "    .dataframe thead th {\n",
       "        text-align: right;\n",
       "    }\n",
       "</style>\n",
       "<table border=\"1\" class=\"dataframe\">\n",
       "  <thead>\n",
       "    <tr style=\"text-align: right;\">\n",
       "      <th></th>\n",
       "      <th>country</th>\n",
       "      <th>province</th>\n",
       "      <th>date</th>\n",
       "      <th>confirmed</th>\n",
       "      <th>deaths</th>\n",
       "      <th>recovered</th>\n",
       "    </tr>\n",
       "  </thead>\n",
       "  <tbody>\n",
       "    <tr>\n",
       "      <th>0</th>\n",
       "      <td>Malaysia</td>\n",
       "      <td>NaN</td>\n",
       "      <td>2020-01-23</td>\n",
       "      <td>NaN</td>\n",
       "      <td>NaN</td>\n",
       "      <td>NaN</td>\n",
       "    </tr>\n",
       "    <tr>\n",
       "      <th>1</th>\n",
       "      <td>Colombia</td>\n",
       "      <td>NaN</td>\n",
       "      <td>2020-01-23</td>\n",
       "      <td>NaN</td>\n",
       "      <td>NaN</td>\n",
       "      <td>NaN</td>\n",
       "    </tr>\n",
       "    <tr>\n",
       "      <th>2</th>\n",
       "      <td>Malaysia</td>\n",
       "      <td>NaN</td>\n",
       "      <td>2020-01-25</td>\n",
       "      <td>3.0</td>\n",
       "      <td>NaN</td>\n",
       "      <td>NaN</td>\n",
       "    </tr>\n",
       "    <tr>\n",
       "      <th>3</th>\n",
       "      <td>Malaysia</td>\n",
       "      <td>NaN</td>\n",
       "      <td>2020-01-26</td>\n",
       "      <td>4.0</td>\n",
       "      <td>NaN</td>\n",
       "      <td>NaN</td>\n",
       "    </tr>\n",
       "    <tr>\n",
       "      <th>4</th>\n",
       "      <td>Malaysia</td>\n",
       "      <td>NaN</td>\n",
       "      <td>2020-01-27</td>\n",
       "      <td>4.0</td>\n",
       "      <td>NaN</td>\n",
       "      <td>NaN</td>\n",
       "    </tr>\n",
       "    <tr>\n",
       "      <th>...</th>\n",
       "      <td>...</td>\n",
       "      <td>...</td>\n",
       "      <td>...</td>\n",
       "      <td>...</td>\n",
       "      <td>...</td>\n",
       "      <td>...</td>\n",
       "    </tr>\n",
       "    <tr>\n",
       "      <th>8374</th>\n",
       "      <td>Colombia</td>\n",
       "      <td>Vaupes</td>\n",
       "      <td>2020-12-31</td>\n",
       "      <td>1,139.0</td>\n",
       "      <td>12.0</td>\n",
       "      <td>1,120.0</td>\n",
       "    </tr>\n",
       "    <tr>\n",
       "      <th>8375</th>\n",
       "      <td>Colombia</td>\n",
       "      <td>Vichada</td>\n",
       "      <td>2020-12-31</td>\n",
       "      <td>1,150.0</td>\n",
       "      <td>14.0</td>\n",
       "      <td>1,125.0</td>\n",
       "    </tr>\n",
       "    <tr>\n",
       "      <th>8376</th>\n",
       "      <td>Ethiopia</td>\n",
       "      <td>NaN</td>\n",
       "      <td>2020-12-31</td>\n",
       "      <td>124,264.0</td>\n",
       "      <td>1,923.0</td>\n",
       "      <td>112,096.0</td>\n",
       "    </tr>\n",
       "    <tr>\n",
       "      <th>8377</th>\n",
       "      <td>Indonesia</td>\n",
       "      <td>NaN</td>\n",
       "      <td>2020-12-31</td>\n",
       "      <td>743,198.0</td>\n",
       "      <td>22,138.0</td>\n",
       "      <td>611,097.0</td>\n",
       "    </tr>\n",
       "    <tr>\n",
       "      <th>8378</th>\n",
       "      <td>Malaysia</td>\n",
       "      <td>NaN</td>\n",
       "      <td>2020-12-31</td>\n",
       "      <td>113,010.0</td>\n",
       "      <td>471.0</td>\n",
       "      <td>88,941.0</td>\n",
       "    </tr>\n",
       "  </tbody>\n",
       "</table>\n",
       "<p>8379 rows × 6 columns</p>\n",
       "</div>"
      ],
      "text/plain": [
       "        country province        date  confirmed   deaths  recovered\n",
       "0      Malaysia      NaN  2020-01-23        NaN      NaN        NaN\n",
       "1      Colombia      NaN  2020-01-23        NaN      NaN        NaN\n",
       "2      Malaysia      NaN  2020-01-25        3.0      NaN        NaN\n",
       "3      Malaysia      NaN  2020-01-26        4.0      NaN        NaN\n",
       "4      Malaysia      NaN  2020-01-27        4.0      NaN        NaN\n",
       "...         ...      ...         ...        ...      ...        ...\n",
       "8374   Colombia   Vaupes  2020-12-31    1,139.0     12.0    1,120.0\n",
       "8375   Colombia  Vichada  2020-12-31    1,150.0     14.0    1,125.0\n",
       "8376   Ethiopia      NaN  2020-12-31  124,264.0  1,923.0  112,096.0\n",
       "8377  Indonesia      NaN  2020-12-31  743,198.0 22,138.0  611,097.0\n",
       "8378   Malaysia      NaN  2020-12-31  113,010.0    471.0   88,941.0\n",
       "\n",
       "[8379 rows x 6 columns]"
      ]
     },
     "execution_count": 113,
     "metadata": {},
     "output_type": "execute_result"
    }
   ],
   "source": [
    "df"
   ]
  },
  {
   "cell_type": "markdown",
   "metadata": {},
   "source": [
    "### Handling Column 'province', 'confirmed', 'deaths', and 'recovered'"
   ]
  },
  {
   "cell_type": "markdown",
   "metadata": {},
   "source": [
    "Pada kolom province_state masih terdapat null/na value, hal ini tidak masalah karena cakupan permasalahan adalah data suatu negara keseluruhan. Oleh karena itu, province_state yang memiliki value null/na akan direplace dengan string \"Unknown\" agar seragam seperti province_state \"Unknown\" lainnya. Sedangkan untuk kolom lainnya terlihat bahwa entri yang memiliki value null/na tidaklah begitu banyak maka untuk saat ini saya akan isi dengan nilai 0."
   ]
  },
  {
   "cell_type": "code",
   "execution_count": 114,
   "metadata": {},
   "outputs": [],
   "source": [
    "df.fillna({'province':'Unknown','confirmed':0,'deaths':0,'recovered':0}, inplace=True)"
   ]
  },
  {
   "cell_type": "code",
   "execution_count": 115,
   "metadata": {},
   "outputs": [
    {
     "data": {
      "text/html": [
       "<div>\n",
       "<style scoped>\n",
       "    .dataframe tbody tr th:only-of-type {\n",
       "        vertical-align: middle;\n",
       "    }\n",
       "\n",
       "    .dataframe tbody tr th {\n",
       "        vertical-align: top;\n",
       "    }\n",
       "\n",
       "    .dataframe thead tr th {\n",
       "        text-align: left;\n",
       "    }\n",
       "\n",
       "    .dataframe thead tr:last-of-type th {\n",
       "        text-align: right;\n",
       "    }\n",
       "</style>\n",
       "<table border=\"1\" class=\"dataframe\">\n",
       "  <thead>\n",
       "    <tr>\n",
       "      <th></th>\n",
       "      <th colspan=\"4\" halign=\"left\">province</th>\n",
       "    </tr>\n",
       "    <tr>\n",
       "      <th></th>\n",
       "      <th>count</th>\n",
       "      <th>unique</th>\n",
       "      <th>top</th>\n",
       "      <th>freq</th>\n",
       "    </tr>\n",
       "    <tr>\n",
       "      <th>country</th>\n",
       "      <th></th>\n",
       "      <th></th>\n",
       "      <th></th>\n",
       "      <th></th>\n",
       "    </tr>\n",
       "  </thead>\n",
       "  <tbody>\n",
       "    <tr>\n",
       "      <th>Colombia</th>\n",
       "      <td>7437</td>\n",
       "      <td>34</td>\n",
       "      <td>Unknown</td>\n",
       "      <td>257</td>\n",
       "    </tr>\n",
       "    <tr>\n",
       "      <th>Ethiopia</th>\n",
       "      <td>294</td>\n",
       "      <td>1</td>\n",
       "      <td>Unknown</td>\n",
       "      <td>294</td>\n",
       "    </tr>\n",
       "    <tr>\n",
       "      <th>Indonesia</th>\n",
       "      <td>305</td>\n",
       "      <td>1</td>\n",
       "      <td>Unknown</td>\n",
       "      <td>305</td>\n",
       "    </tr>\n",
       "    <tr>\n",
       "      <th>Malaysia</th>\n",
       "      <td>343</td>\n",
       "      <td>1</td>\n",
       "      <td>Unknown</td>\n",
       "      <td>343</td>\n",
       "    </tr>\n",
       "  </tbody>\n",
       "</table>\n",
       "</div>"
      ],
      "text/plain": [
       "          province                     \n",
       "             count unique      top freq\n",
       "country                                \n",
       "Colombia      7437     34  Unknown  257\n",
       "Ethiopia       294      1  Unknown  294\n",
       "Indonesia      305      1  Unknown  305\n",
       "Malaysia       343      1  Unknown  343"
      ]
     },
     "execution_count": 115,
     "metadata": {},
     "output_type": "execute_result"
    }
   ],
   "source": [
    "df[[\"country\",\"province\"]].groupby(by='country').describe()"
   ]
  },
  {
   "cell_type": "code",
   "execution_count": 116,
   "metadata": {},
   "outputs": [
    {
     "data": {
      "text/plain": [
       "country    province                \n",
       "Malaysia   Unknown                     343\n",
       "Indonesia  Unknown                     305\n",
       "Ethiopia   Unknown                     294\n",
       "Colombia   Unknown                     257\n",
       "           Risaralda                   218\n",
       "           Meta                        218\n",
       "           Narino                      218\n",
       "           Norte de Santander          218\n",
       "           Putumayo                    218\n",
       "           Quindio                     218\n",
       "           Santander                   218\n",
       "           San Andres y Providencia    218\n",
       "           Antioquia                   218\n",
       "           Sucre                       218\n",
       "           Tolima                      218\n",
       "           Valle del Cauca             218\n",
       "           Vaupes                      218\n",
       "           Magdalena                   218\n",
       "           Amazonas                    218\n",
       "           Huila                       218\n",
       "           Casanare                    218\n",
       "           Arauca                      218\n",
       "           Atlantico                   218\n",
       "           Bolivar                     218\n",
       "           Boyaca                      218\n",
       "           Caldas                      218\n",
       "           Capital District            218\n",
       "           Caqueta                     218\n",
       "           Cauca                       218\n",
       "           Cesar                       218\n",
       "           Choco                       218\n",
       "           Cordoba                     218\n",
       "           Cundinamarca                218\n",
       "           La Guajira                  218\n",
       "           Guainia                     217\n",
       "           Vichada                     216\n",
       "           Guaviare                    207\n",
       "dtype: int64"
      ]
     },
     "execution_count": 116,
     "metadata": {},
     "output_type": "execute_result"
    }
   ],
   "source": [
    "df[['country','province']].value_counts()"
   ]
  },
  {
   "cell_type": "markdown",
   "metadata": {},
   "source": [
    "Ternyata setelah diselidiki lebih lanjut, negara Indonesia, Malaysia, dan Ethiopia tidak memiliki informasi provinsi kecuali negara yang berada di benua Amerika yakni negara Colombia. Dalam hal ini saya putuskan untuk drop kolom province dari dataframe dengan pertimbangan tidak mengganggu fokus permasalahan."
   ]
  },
  {
   "cell_type": "code",
   "execution_count": 117,
   "metadata": {},
   "outputs": [],
   "source": [
    "df.drop('province', axis = 1, inplace = True)"
   ]
  },
  {
   "cell_type": "code",
   "execution_count": 118,
   "metadata": {},
   "outputs": [
    {
     "data": {
      "text/plain": [
       "country      0\n",
       "date         0\n",
       "confirmed    0\n",
       "deaths       0\n",
       "recovered    0\n",
       "dtype: int64"
      ]
     },
     "execution_count": 118,
     "metadata": {},
     "output_type": "execute_result"
    }
   ],
   "source": [
    "df.isnull().sum()"
   ]
  },
  {
   "cell_type": "code",
   "execution_count": 119,
   "metadata": {},
   "outputs": [
    {
     "data": {
      "text/plain": [
       "country      0\n",
       "date         0\n",
       "confirmed    0\n",
       "deaths       0\n",
       "recovered    0\n",
       "dtype: int64"
      ]
     },
     "execution_count": 119,
     "metadata": {},
     "output_type": "execute_result"
    }
   ],
   "source": [
    "df.isna().sum()"
   ]
  },
  {
   "cell_type": "code",
   "execution_count": 120,
   "metadata": {},
   "outputs": [
    {
     "name": "stdout",
     "output_type": "stream",
     "text": [
      "<class 'pandas.core.frame.DataFrame'>\n",
      "RangeIndex: 8379 entries, 0 to 8378\n",
      "Data columns (total 5 columns):\n",
      " #   Column     Non-Null Count  Dtype  \n",
      "---  ------     --------------  -----  \n",
      " 0   country    8379 non-null   object \n",
      " 1   date       8379 non-null   object \n",
      " 2   confirmed  8379 non-null   float64\n",
      " 3   deaths     8379 non-null   float64\n",
      " 4   recovered  8379 non-null   float64\n",
      "dtypes: float64(3), object(2)\n",
      "memory usage: 327.4+ KB\n"
     ]
    }
   ],
   "source": [
    "df.info()"
   ]
  },
  {
   "cell_type": "markdown",
   "metadata": {},
   "source": [
    "Data sudah bersih dan siap di explore."
   ]
  },
  {
   "cell_type": "markdown",
   "metadata": {},
   "source": [
    "## Data Exploration"
   ]
  },
  {
   "cell_type": "code",
   "execution_count": 121,
   "metadata": {},
   "outputs": [
    {
     "data": {
      "text/html": [
       "<div>\n",
       "<style scoped>\n",
       "    .dataframe tbody tr th:only-of-type {\n",
       "        vertical-align: middle;\n",
       "    }\n",
       "\n",
       "    .dataframe tbody tr th {\n",
       "        vertical-align: top;\n",
       "    }\n",
       "\n",
       "    .dataframe thead th {\n",
       "        text-align: right;\n",
       "    }\n",
       "</style>\n",
       "<table border=\"1\" class=\"dataframe\">\n",
       "  <thead>\n",
       "    <tr style=\"text-align: right;\">\n",
       "      <th></th>\n",
       "      <th>country</th>\n",
       "      <th>date</th>\n",
       "      <th>confirmed</th>\n",
       "      <th>deaths</th>\n",
       "      <th>recovered</th>\n",
       "    </tr>\n",
       "  </thead>\n",
       "  <tbody>\n",
       "    <tr>\n",
       "      <th>0</th>\n",
       "      <td>Malaysia</td>\n",
       "      <td>2020-01-23</td>\n",
       "      <td>0.0</td>\n",
       "      <td>0.0</td>\n",
       "      <td>0.0</td>\n",
       "    </tr>\n",
       "    <tr>\n",
       "      <th>1</th>\n",
       "      <td>Colombia</td>\n",
       "      <td>2020-01-23</td>\n",
       "      <td>0.0</td>\n",
       "      <td>0.0</td>\n",
       "      <td>0.0</td>\n",
       "    </tr>\n",
       "    <tr>\n",
       "      <th>2</th>\n",
       "      <td>Malaysia</td>\n",
       "      <td>2020-01-25</td>\n",
       "      <td>3.0</td>\n",
       "      <td>0.0</td>\n",
       "      <td>0.0</td>\n",
       "    </tr>\n",
       "    <tr>\n",
       "      <th>3</th>\n",
       "      <td>Malaysia</td>\n",
       "      <td>2020-01-26</td>\n",
       "      <td>4.0</td>\n",
       "      <td>0.0</td>\n",
       "      <td>0.0</td>\n",
       "    </tr>\n",
       "    <tr>\n",
       "      <th>4</th>\n",
       "      <td>Malaysia</td>\n",
       "      <td>2020-01-27</td>\n",
       "      <td>4.0</td>\n",
       "      <td>0.0</td>\n",
       "      <td>0.0</td>\n",
       "    </tr>\n",
       "    <tr>\n",
       "      <th>...</th>\n",
       "      <td>...</td>\n",
       "      <td>...</td>\n",
       "      <td>...</td>\n",
       "      <td>...</td>\n",
       "      <td>...</td>\n",
       "    </tr>\n",
       "    <tr>\n",
       "      <th>8374</th>\n",
       "      <td>Colombia</td>\n",
       "      <td>2020-12-31</td>\n",
       "      <td>1,139.0</td>\n",
       "      <td>12.0</td>\n",
       "      <td>1,120.0</td>\n",
       "    </tr>\n",
       "    <tr>\n",
       "      <th>8375</th>\n",
       "      <td>Colombia</td>\n",
       "      <td>2020-12-31</td>\n",
       "      <td>1,150.0</td>\n",
       "      <td>14.0</td>\n",
       "      <td>1,125.0</td>\n",
       "    </tr>\n",
       "    <tr>\n",
       "      <th>8376</th>\n",
       "      <td>Ethiopia</td>\n",
       "      <td>2020-12-31</td>\n",
       "      <td>124,264.0</td>\n",
       "      <td>1,923.0</td>\n",
       "      <td>112,096.0</td>\n",
       "    </tr>\n",
       "    <tr>\n",
       "      <th>8377</th>\n",
       "      <td>Indonesia</td>\n",
       "      <td>2020-12-31</td>\n",
       "      <td>743,198.0</td>\n",
       "      <td>22,138.0</td>\n",
       "      <td>611,097.0</td>\n",
       "    </tr>\n",
       "    <tr>\n",
       "      <th>8378</th>\n",
       "      <td>Malaysia</td>\n",
       "      <td>2020-12-31</td>\n",
       "      <td>113,010.0</td>\n",
       "      <td>471.0</td>\n",
       "      <td>88,941.0</td>\n",
       "    </tr>\n",
       "  </tbody>\n",
       "</table>\n",
       "<p>8379 rows × 5 columns</p>\n",
       "</div>"
      ],
      "text/plain": [
       "        country        date  confirmed   deaths  recovered\n",
       "0      Malaysia  2020-01-23        0.0      0.0        0.0\n",
       "1      Colombia  2020-01-23        0.0      0.0        0.0\n",
       "2      Malaysia  2020-01-25        3.0      0.0        0.0\n",
       "3      Malaysia  2020-01-26        4.0      0.0        0.0\n",
       "4      Malaysia  2020-01-27        4.0      0.0        0.0\n",
       "...         ...         ...        ...      ...        ...\n",
       "8374   Colombia  2020-12-31    1,139.0     12.0    1,120.0\n",
       "8375   Colombia  2020-12-31    1,150.0     14.0    1,125.0\n",
       "8376   Ethiopia  2020-12-31  124,264.0  1,923.0  112,096.0\n",
       "8377  Indonesia  2020-12-31  743,198.0 22,138.0  611,097.0\n",
       "8378   Malaysia  2020-12-31  113,010.0    471.0   88,941.0\n",
       "\n",
       "[8379 rows x 5 columns]"
      ]
     },
     "execution_count": 121,
     "metadata": {},
     "output_type": "execute_result"
    }
   ],
   "source": [
    "df"
   ]
  },
  {
   "cell_type": "markdown",
   "metadata": {},
   "source": [
    "### Perkembangan COVID19 Antar Negara Tropis di Tahun 2020"
   ]
  },
  {
   "cell_type": "markdown",
   "metadata": {},
   "source": [
    "#### Tabel Perbandingan Perkembangan Kasus COVID-19 per Kuartal di Tahun 2020"
   ]
  },
  {
   "cell_type": "code",
   "execution_count": 122,
   "metadata": {},
   "outputs": [],
   "source": [
    "# konversi tipe data date dari object ke pandas datetime agar bisa di group by\n",
    "df['date'] = pd.to_datetime(df['date'])"
   ]
  },
  {
   "cell_type": "code",
   "execution_count": 123,
   "metadata": {},
   "outputs": [
    {
     "data": {
      "text/html": [
       "<div>\n",
       "<style scoped>\n",
       "    .dataframe tbody tr th:only-of-type {\n",
       "        vertical-align: middle;\n",
       "    }\n",
       "\n",
       "    .dataframe tbody tr th {\n",
       "        vertical-align: top;\n",
       "    }\n",
       "\n",
       "    .dataframe thead th {\n",
       "        text-align: right;\n",
       "    }\n",
       "</style>\n",
       "<table border=\"1\" class=\"dataframe\">\n",
       "  <thead>\n",
       "    <tr style=\"text-align: right;\">\n",
       "      <th></th>\n",
       "      <th></th>\n",
       "      <th>confirmed</th>\n",
       "      <th>deaths</th>\n",
       "      <th>recovered</th>\n",
       "    </tr>\n",
       "    <tr>\n",
       "      <th>country</th>\n",
       "      <th>date</th>\n",
       "      <th></th>\n",
       "      <th></th>\n",
       "      <th></th>\n",
       "    </tr>\n",
       "  </thead>\n",
       "  <tbody>\n",
       "    <tr>\n",
       "      <th rowspan=\"4\" valign=\"top\">Colombia</th>\n",
       "      <th>2020-03-31</th>\n",
       "      <td>6,132.0</td>\n",
       "      <td>68.0</td>\n",
       "      <td>109.0</td>\n",
       "    </tr>\n",
       "    <tr>\n",
       "      <th>2020-06-30</th>\n",
       "      <td>2,285,866.0</td>\n",
       "      <td>80,264.0</td>\n",
       "      <td>804,702.0</td>\n",
       "    </tr>\n",
       "    <tr>\n",
       "      <th>2020-09-30</th>\n",
       "      <td>41,923,945.0</td>\n",
       "      <td>1,359,608.0</td>\n",
       "      <td>29,890,118.0</td>\n",
       "    </tr>\n",
       "    <tr>\n",
       "      <th>2020-12-31</th>\n",
       "      <td>110,933,342.0</td>\n",
       "      <td>3,146,844.0</td>\n",
       "      <td>100,036,710.0</td>\n",
       "    </tr>\n",
       "    <tr>\n",
       "      <th rowspan=\"4\" valign=\"top\">Ethiopia</th>\n",
       "      <th>2020-03-31</th>\n",
       "      <td>203.0</td>\n",
       "      <td>0.0</td>\n",
       "      <td>8.0</td>\n",
       "    </tr>\n",
       "    <tr>\n",
       "      <th>2020-06-30</th>\n",
       "      <td>121,938.0</td>\n",
       "      <td>1,915.0</td>\n",
       "      <td>32,225.0</td>\n",
       "    </tr>\n",
       "    <tr>\n",
       "      <th>2020-09-30</th>\n",
       "      <td>3,264,222.0</td>\n",
       "      <td>52,858.0</td>\n",
       "      <td>1,282,313.0</td>\n",
       "    </tr>\n",
       "    <tr>\n",
       "      <th>2020-12-31</th>\n",
       "      <td>9,446,320.0</td>\n",
       "      <td>145,535.0</td>\n",
       "      <td>6,153,657.0</td>\n",
       "    </tr>\n",
       "    <tr>\n",
       "      <th rowspan=\"4\" valign=\"top\">Indonesia</th>\n",
       "      <th>2020-03-31</th>\n",
       "      <td>11,971.0</td>\n",
       "      <td>989.0</td>\n",
       "      <td>572.0</td>\n",
       "    </tr>\n",
       "    <tr>\n",
       "      <th>2020-06-30</th>\n",
       "      <td>1,923,001.0</td>\n",
       "      <td>116,386.0</td>\n",
       "      <td>604,721.0</td>\n",
       "    </tr>\n",
       "    <tr>\n",
       "      <th>2020-09-30</th>\n",
       "      <td>13,759,781.0</td>\n",
       "      <td>588,091.0</td>\n",
       "      <td>9,244,209.0</td>\n",
       "    </tr>\n",
       "    <tr>\n",
       "      <th>2020-12-31</th>\n",
       "      <td>44,878,972.0</td>\n",
       "      <td>1,443,217.0</td>\n",
       "      <td>36,708,625.0</td>\n",
       "    </tr>\n",
       "    <tr>\n",
       "      <th rowspan=\"4\" valign=\"top\">Malaysia</th>\n",
       "      <th>2020-03-31</th>\n",
       "      <td>28,203.0</td>\n",
       "      <td>264.0</td>\n",
       "      <td>3,912.0</td>\n",
       "    </tr>\n",
       "    <tr>\n",
       "      <th>2020-06-30</th>\n",
       "      <td>612,544.0</td>\n",
       "      <td>9,412.0</td>\n",
       "      <td>469,116.0</td>\n",
       "    </tr>\n",
       "    <tr>\n",
       "      <th>2020-09-30</th>\n",
       "      <td>858,413.0</td>\n",
       "      <td>11,565.0</td>\n",
       "      <td>820,088.0</td>\n",
       "    </tr>\n",
       "    <tr>\n",
       "      <th>2020-12-31</th>\n",
       "      <td>4,806,987.0</td>\n",
       "      <td>28,034.0</td>\n",
       "      <td>3,759,640.0</td>\n",
       "    </tr>\n",
       "  </tbody>\n",
       "</table>\n",
       "</div>"
      ],
      "text/plain": [
       "                         confirmed      deaths     recovered\n",
       "country   date                                              \n",
       "Colombia  2020-03-31       6,132.0        68.0         109.0\n",
       "          2020-06-30   2,285,866.0    80,264.0     804,702.0\n",
       "          2020-09-30  41,923,945.0 1,359,608.0  29,890,118.0\n",
       "          2020-12-31 110,933,342.0 3,146,844.0 100,036,710.0\n",
       "Ethiopia  2020-03-31         203.0         0.0           8.0\n",
       "          2020-06-30     121,938.0     1,915.0      32,225.0\n",
       "          2020-09-30   3,264,222.0    52,858.0   1,282,313.0\n",
       "          2020-12-31   9,446,320.0   145,535.0   6,153,657.0\n",
       "Indonesia 2020-03-31      11,971.0       989.0         572.0\n",
       "          2020-06-30   1,923,001.0   116,386.0     604,721.0\n",
       "          2020-09-30  13,759,781.0   588,091.0   9,244,209.0\n",
       "          2020-12-31  44,878,972.0 1,443,217.0  36,708,625.0\n",
       "Malaysia  2020-03-31      28,203.0       264.0       3,912.0\n",
       "          2020-06-30     612,544.0     9,412.0     469,116.0\n",
       "          2020-09-30     858,413.0    11,565.0     820,088.0\n",
       "          2020-12-31   4,806,987.0    28,034.0   3,759,640.0"
      ]
     },
     "execution_count": 123,
     "metadata": {},
     "output_type": "execute_result"
    }
   ],
   "source": [
    "df.groupby(['country',pd.Grouper(key='date',freq='1Q')]).sum()"
   ]
  },
  {
   "cell_type": "markdown",
   "metadata": {},
   "source": [
    "#### Tabel Perbandingan Perkembangan Kasus COVID-19 pada Q1 Tahun 2020"
   ]
  },
  {
   "cell_type": "code",
   "execution_count": 124,
   "metadata": {},
   "outputs": [
    {
     "data": {
      "text/html": [
       "<div>\n",
       "<style scoped>\n",
       "    .dataframe tbody tr th:only-of-type {\n",
       "        vertical-align: middle;\n",
       "    }\n",
       "\n",
       "    .dataframe tbody tr th {\n",
       "        vertical-align: top;\n",
       "    }\n",
       "\n",
       "    .dataframe thead th {\n",
       "        text-align: right;\n",
       "    }\n",
       "</style>\n",
       "<table border=\"1\" class=\"dataframe\">\n",
       "  <thead>\n",
       "    <tr style=\"text-align: right;\">\n",
       "      <th></th>\n",
       "      <th>confirmed</th>\n",
       "      <th>deaths</th>\n",
       "      <th>recovered</th>\n",
       "    </tr>\n",
       "    <tr>\n",
       "      <th>country</th>\n",
       "      <th></th>\n",
       "      <th></th>\n",
       "      <th></th>\n",
       "    </tr>\n",
       "  </thead>\n",
       "  <tbody>\n",
       "    <tr>\n",
       "      <th>Colombia</th>\n",
       "      <td>6,132.0</td>\n",
       "      <td>68.0</td>\n",
       "      <td>109.0</td>\n",
       "    </tr>\n",
       "    <tr>\n",
       "      <th>Ethiopia</th>\n",
       "      <td>203.0</td>\n",
       "      <td>0.0</td>\n",
       "      <td>8.0</td>\n",
       "    </tr>\n",
       "    <tr>\n",
       "      <th>Indonesia</th>\n",
       "      <td>11,971.0</td>\n",
       "      <td>989.0</td>\n",
       "      <td>572.0</td>\n",
       "    </tr>\n",
       "    <tr>\n",
       "      <th>Malaysia</th>\n",
       "      <td>28,203.0</td>\n",
       "      <td>264.0</td>\n",
       "      <td>3,912.0</td>\n",
       "    </tr>\n",
       "  </tbody>\n",
       "</table>\n",
       "</div>"
      ],
      "text/plain": [
       "           confirmed  deaths  recovered\n",
       "country                                \n",
       "Colombia     6,132.0    68.0      109.0\n",
       "Ethiopia       203.0     0.0        8.0\n",
       "Indonesia   11,971.0   989.0      572.0\n",
       "Malaysia    28,203.0   264.0    3,912.0"
      ]
     },
     "execution_count": 124,
     "metadata": {},
     "output_type": "execute_result"
    }
   ],
   "source": [
    "# Total data terkonfirmasi, meninggal, dan sembuh pada Kuartal 1 antar negara (Q1) tahun 2020\n",
    "Q1 = df[(df[\"date\"] < '2020-04-01')].groupby('country').agg({'confirmed':'sum','deaths':'sum','recovered':'sum'})\n",
    "Q1"
   ]
  },
  {
   "cell_type": "markdown",
   "metadata": {},
   "source": [
    "#### Tabel Perbandingan Perkembangan Kasus COVID-19 pada Q2 Tahun 2020"
   ]
  },
  {
   "cell_type": "code",
   "execution_count": 125,
   "metadata": {},
   "outputs": [
    {
     "data": {
      "text/html": [
       "<div>\n",
       "<style scoped>\n",
       "    .dataframe tbody tr th:only-of-type {\n",
       "        vertical-align: middle;\n",
       "    }\n",
       "\n",
       "    .dataframe tbody tr th {\n",
       "        vertical-align: top;\n",
       "    }\n",
       "\n",
       "    .dataframe thead th {\n",
       "        text-align: right;\n",
       "    }\n",
       "</style>\n",
       "<table border=\"1\" class=\"dataframe\">\n",
       "  <thead>\n",
       "    <tr style=\"text-align: right;\">\n",
       "      <th></th>\n",
       "      <th>confirmed</th>\n",
       "      <th>deaths</th>\n",
       "      <th>recovered</th>\n",
       "    </tr>\n",
       "    <tr>\n",
       "      <th>country</th>\n",
       "      <th></th>\n",
       "      <th></th>\n",
       "      <th></th>\n",
       "    </tr>\n",
       "  </thead>\n",
       "  <tbody>\n",
       "    <tr>\n",
       "      <th>Colombia</th>\n",
       "      <td>2,285,866.0</td>\n",
       "      <td>80,264.0</td>\n",
       "      <td>804,702.0</td>\n",
       "    </tr>\n",
       "    <tr>\n",
       "      <th>Ethiopia</th>\n",
       "      <td>121,938.0</td>\n",
       "      <td>1,915.0</td>\n",
       "      <td>32,225.0</td>\n",
       "    </tr>\n",
       "    <tr>\n",
       "      <th>Indonesia</th>\n",
       "      <td>1,923,001.0</td>\n",
       "      <td>116,386.0</td>\n",
       "      <td>604,721.0</td>\n",
       "    </tr>\n",
       "    <tr>\n",
       "      <th>Malaysia</th>\n",
       "      <td>612,544.0</td>\n",
       "      <td>9,412.0</td>\n",
       "      <td>469,116.0</td>\n",
       "    </tr>\n",
       "  </tbody>\n",
       "</table>\n",
       "</div>"
      ],
      "text/plain": [
       "            confirmed    deaths  recovered\n",
       "country                                   \n",
       "Colombia  2,285,866.0  80,264.0  804,702.0\n",
       "Ethiopia    121,938.0   1,915.0   32,225.0\n",
       "Indonesia 1,923,001.0 116,386.0  604,721.0\n",
       "Malaysia    612,544.0   9,412.0  469,116.0"
      ]
     },
     "execution_count": 125,
     "metadata": {},
     "output_type": "execute_result"
    }
   ],
   "source": [
    "# Total data terkonfirmasi, meninggal, dan sembuh pada Kuartal 2 antar negara (Q2) tahun 2020\n",
    "Q2 = df[(df[\"date\"] >= '2020-04-01') & (df[\"date\"] < '2020-07-01')].groupby('country').agg({'confirmed':'sum','deaths':'sum','recovered':'sum'})\n",
    "Q2"
   ]
  },
  {
   "cell_type": "markdown",
   "metadata": {},
   "source": [
    "#### Tabel Perbandingan Perkembangan Kasus COVID-19 pada Q3 Tahun 2020"
   ]
  },
  {
   "cell_type": "code",
   "execution_count": 126,
   "metadata": {},
   "outputs": [
    {
     "data": {
      "text/html": [
       "<div>\n",
       "<style scoped>\n",
       "    .dataframe tbody tr th:only-of-type {\n",
       "        vertical-align: middle;\n",
       "    }\n",
       "\n",
       "    .dataframe tbody tr th {\n",
       "        vertical-align: top;\n",
       "    }\n",
       "\n",
       "    .dataframe thead th {\n",
       "        text-align: right;\n",
       "    }\n",
       "</style>\n",
       "<table border=\"1\" class=\"dataframe\">\n",
       "  <thead>\n",
       "    <tr style=\"text-align: right;\">\n",
       "      <th></th>\n",
       "      <th>confirmed</th>\n",
       "      <th>deaths</th>\n",
       "      <th>recovered</th>\n",
       "    </tr>\n",
       "    <tr>\n",
       "      <th>country</th>\n",
       "      <th></th>\n",
       "      <th></th>\n",
       "      <th></th>\n",
       "    </tr>\n",
       "  </thead>\n",
       "  <tbody>\n",
       "    <tr>\n",
       "      <th>Colombia</th>\n",
       "      <td>41,923,945.0</td>\n",
       "      <td>1,359,608.0</td>\n",
       "      <td>29,890,118.0</td>\n",
       "    </tr>\n",
       "    <tr>\n",
       "      <th>Ethiopia</th>\n",
       "      <td>3,264,222.0</td>\n",
       "      <td>52,858.0</td>\n",
       "      <td>1,282,313.0</td>\n",
       "    </tr>\n",
       "    <tr>\n",
       "      <th>Indonesia</th>\n",
       "      <td>13,759,781.0</td>\n",
       "      <td>588,091.0</td>\n",
       "      <td>9,244,209.0</td>\n",
       "    </tr>\n",
       "    <tr>\n",
       "      <th>Malaysia</th>\n",
       "      <td>858,413.0</td>\n",
       "      <td>11,565.0</td>\n",
       "      <td>820,088.0</td>\n",
       "    </tr>\n",
       "  </tbody>\n",
       "</table>\n",
       "</div>"
      ],
      "text/plain": [
       "             confirmed      deaths    recovered\n",
       "country                                        \n",
       "Colombia  41,923,945.0 1,359,608.0 29,890,118.0\n",
       "Ethiopia   3,264,222.0    52,858.0  1,282,313.0\n",
       "Indonesia 13,759,781.0   588,091.0  9,244,209.0\n",
       "Malaysia     858,413.0    11,565.0    820,088.0"
      ]
     },
     "execution_count": 126,
     "metadata": {},
     "output_type": "execute_result"
    }
   ],
   "source": [
    "# Total data terkonfirmasi, meninggal, dan sembuh pada Kuartal 3 antar negara (Q3) tahun 2020\n",
    "Q3 = df[(df[\"date\"] >= '2020-07-01') & (df[\"date\"] < '2020-10-01')].groupby('country').agg({'confirmed':'sum','deaths':'sum','recovered':'sum'})\n",
    "Q3"
   ]
  },
  {
   "cell_type": "markdown",
   "metadata": {},
   "source": [
    "#### Tabel Perbandingan Perkembangan Kasus COVID-19 pada Q4 Tahun 2020"
   ]
  },
  {
   "cell_type": "code",
   "execution_count": 127,
   "metadata": {},
   "outputs": [
    {
     "data": {
      "text/html": [
       "<div>\n",
       "<style scoped>\n",
       "    .dataframe tbody tr th:only-of-type {\n",
       "        vertical-align: middle;\n",
       "    }\n",
       "\n",
       "    .dataframe tbody tr th {\n",
       "        vertical-align: top;\n",
       "    }\n",
       "\n",
       "    .dataframe thead th {\n",
       "        text-align: right;\n",
       "    }\n",
       "</style>\n",
       "<table border=\"1\" class=\"dataframe\">\n",
       "  <thead>\n",
       "    <tr style=\"text-align: right;\">\n",
       "      <th></th>\n",
       "      <th>confirmed</th>\n",
       "      <th>deaths</th>\n",
       "      <th>recovered</th>\n",
       "    </tr>\n",
       "    <tr>\n",
       "      <th>country</th>\n",
       "      <th></th>\n",
       "      <th></th>\n",
       "      <th></th>\n",
       "    </tr>\n",
       "  </thead>\n",
       "  <tbody>\n",
       "    <tr>\n",
       "      <th>Colombia</th>\n",
       "      <td>110,933,342.0</td>\n",
       "      <td>3,146,844.0</td>\n",
       "      <td>100,036,710.0</td>\n",
       "    </tr>\n",
       "    <tr>\n",
       "      <th>Ethiopia</th>\n",
       "      <td>9,446,320.0</td>\n",
       "      <td>145,535.0</td>\n",
       "      <td>6,153,657.0</td>\n",
       "    </tr>\n",
       "    <tr>\n",
       "      <th>Indonesia</th>\n",
       "      <td>44,878,972.0</td>\n",
       "      <td>1,443,217.0</td>\n",
       "      <td>36,708,625.0</td>\n",
       "    </tr>\n",
       "    <tr>\n",
       "      <th>Malaysia</th>\n",
       "      <td>4,806,987.0</td>\n",
       "      <td>28,034.0</td>\n",
       "      <td>3,759,640.0</td>\n",
       "    </tr>\n",
       "  </tbody>\n",
       "</table>\n",
       "</div>"
      ],
      "text/plain": [
       "              confirmed      deaths     recovered\n",
       "country                                          \n",
       "Colombia  110,933,342.0 3,146,844.0 100,036,710.0\n",
       "Ethiopia    9,446,320.0   145,535.0   6,153,657.0\n",
       "Indonesia  44,878,972.0 1,443,217.0  36,708,625.0\n",
       "Malaysia    4,806,987.0    28,034.0   3,759,640.0"
      ]
     },
     "execution_count": 127,
     "metadata": {},
     "output_type": "execute_result"
    }
   ],
   "source": [
    "# Total data terkonfirmasi, meninggal, dan sembuh pada Kuartal 4 antar negara (Q4) tahun 2020\n",
    "Q4 = df[(df[\"date\"] >= '2020-10-01') & (df[\"date\"] < '2021-01-01')].groupby('country').agg({'confirmed':'sum','deaths':'sum','recovered':'sum'})\n",
    "Q4"
   ]
  },
  {
   "cell_type": "markdown",
   "metadata": {},
   "source": [
    "## Visualisasi dan Analisis Perbandingan Data COVID-19"
   ]
  },
  {
   "cell_type": "markdown",
   "metadata": {},
   "source": [
    "### Total Confirmed Case"
   ]
  },
  {
   "cell_type": "code",
   "execution_count": 128,
   "metadata": {},
   "outputs": [],
   "source": [
    "# menggabungkan kolom jumlah terkonfirmasi antar kuartal dalam satu dataframe\n",
    "confirmed_q1_to_q4 = pd.concat([Q1.confirmed.rename('Q1'),Q2.confirmed.rename('Q2'),Q3.confirmed.rename('Q3'),Q4.confirmed.rename('Q4')],axis=1)"
   ]
  },
  {
   "cell_type": "code",
   "execution_count": 129,
   "metadata": {},
   "outputs": [
    {
     "data": {
      "text/html": [
       "<div>\n",
       "<style scoped>\n",
       "    .dataframe tbody tr th:only-of-type {\n",
       "        vertical-align: middle;\n",
       "    }\n",
       "\n",
       "    .dataframe tbody tr th {\n",
       "        vertical-align: top;\n",
       "    }\n",
       "\n",
       "    .dataframe thead th {\n",
       "        text-align: right;\n",
       "    }\n",
       "</style>\n",
       "<table border=\"1\" class=\"dataframe\">\n",
       "  <thead>\n",
       "    <tr style=\"text-align: right;\">\n",
       "      <th></th>\n",
       "      <th>Q1</th>\n",
       "      <th>Q2</th>\n",
       "      <th>Q3</th>\n",
       "      <th>Q4</th>\n",
       "    </tr>\n",
       "    <tr>\n",
       "      <th>country</th>\n",
       "      <th></th>\n",
       "      <th></th>\n",
       "      <th></th>\n",
       "      <th></th>\n",
       "    </tr>\n",
       "  </thead>\n",
       "  <tbody>\n",
       "    <tr>\n",
       "      <th>Colombia</th>\n",
       "      <td>6,132.0</td>\n",
       "      <td>2,285,866.0</td>\n",
       "      <td>41,923,945.0</td>\n",
       "      <td>110,933,342.0</td>\n",
       "    </tr>\n",
       "    <tr>\n",
       "      <th>Ethiopia</th>\n",
       "      <td>203.0</td>\n",
       "      <td>121,938.0</td>\n",
       "      <td>3,264,222.0</td>\n",
       "      <td>9,446,320.0</td>\n",
       "    </tr>\n",
       "    <tr>\n",
       "      <th>Indonesia</th>\n",
       "      <td>11,971.0</td>\n",
       "      <td>1,923,001.0</td>\n",
       "      <td>13,759,781.0</td>\n",
       "      <td>44,878,972.0</td>\n",
       "    </tr>\n",
       "    <tr>\n",
       "      <th>Malaysia</th>\n",
       "      <td>28,203.0</td>\n",
       "      <td>612,544.0</td>\n",
       "      <td>858,413.0</td>\n",
       "      <td>4,806,987.0</td>\n",
       "    </tr>\n",
       "  </tbody>\n",
       "</table>\n",
       "</div>"
      ],
      "text/plain": [
       "                Q1          Q2           Q3            Q4\n",
       "country                                                  \n",
       "Colombia   6,132.0 2,285,866.0 41,923,945.0 110,933,342.0\n",
       "Ethiopia     203.0   121,938.0  3,264,222.0   9,446,320.0\n",
       "Indonesia 11,971.0 1,923,001.0 13,759,781.0  44,878,972.0\n",
       "Malaysia  28,203.0   612,544.0    858,413.0   4,806,987.0"
      ]
     },
     "execution_count": 129,
     "metadata": {},
     "output_type": "execute_result"
    }
   ],
   "source": [
    "confirmed_q1_to_q4"
   ]
  },
  {
   "cell_type": "code",
   "execution_count": 130,
   "metadata": {},
   "outputs": [
    {
     "data": {
      "image/png": "[encoded data removed]",
      "text/plain": [
       "<Figure size 640x480 with 1 Axes>"
      ]
     },
     "metadata": {},
     "output_type": "display_data"
    }
   ],
   "source": [
    "# plotting data pasien terkonfirmasi\n",
    "ax = confirmed_q1_to_q4.plot(kind='barh',title=\"Jumlah Terkonfirmasi Penderita COVID-19\",\n",
    "xlabel='Negara',colormap='rainbow_r',edgecolor=\"white\",linewidth=1)\n",
    "for p in ax.patches:\n",
    "    ax.annotate(\"{:,.0f}\".format(p.get_width()), (p.get_x() + p.get_width(), p.get_y()), xytext=(10, 0),textcoords='offset points')"
   ]
  },
  {
   "cell_type": "code",
   "execution_count": 131,
   "metadata": {},
   "outputs": [
    {
     "data": {
      "image/png": "[encoded data removed]",
      "text/plain": [
       "<Figure size 640x480 with 1 Axes>"
      ]
     },
     "metadata": {},
     "output_type": "display_data"
    }
   ],
   "source": [
    "# Memplot ulang grafik perbandingan Q1 antar negara agar terlihat lebih jelas\n",
    "ax = Q1.confirmed.plot(kind='barh', title='Jumlah Terkonfirmasi Penderita COVID-19 di Q1 2020', xlabel='Negara',legend=True)\n",
    "for p in ax.patches:\n",
    "    ax.annotate(\"{:,.0f}\".format(p.get_width()), (p.get_x() + p.get_width(), p.get_y()), xytext=(5, 10), textcoords='offset points')"
   ]
  },
  {
   "cell_type": "markdown",
   "metadata": {},
   "source": [
    "Grafik diatas menunjukkan data terkonfirmasi penderita covid-19 antar negara tropis di masing masing benua pada tiap kuartal. Setiap negara mengalami kenaikan kasus terkonfirmasi covid-19 dari kuartal pertama hingga akhir. Terlihat bahwa Malaysia merupakan negara yang memilki pasien terkonfirmasi covid-19 paling sedikit pada akhir kuartal dua (Q2), tiga (Q3), dan empat (Q4), meskipun pada kuartal pertama (Q1) Malaysia mendapati angka tertiggi daripada negara lainnya dengan jumlah 28.203 pasien.\n",
    "\n",
    "Sebaliknya dengan Colombia, mulai dari kuartal pertama (Q2) hingga kuartal keempat (Q4), negara Columbia terus mendapati pasien terkonfirmasi covid-19 terbanyak dimana puncaknya ada pada Q4 yakni total sebanyak 110.933.342.0 (seratus sepuluh juta sembilan ratus tiga puluh tiga ribu tiga ratus empat puluh dua) pasien yang pernah mengidap covid-19.\n",
    "\n",
    "Angka pertumbuhan pasien terkonfimasi covid-19 di Indonesia relatif rendah jika dibandingkan dengan Colombia, mengingat di kuartal kedua (Q2) Indonesia dan Columbia memiliki pasien yang jumlahnya relatif mendekati.\n",
    "\n",
    "Secara umum, urutan negara dengan jumlah pasien terkonfirmasi dari yang terendah hingga tertinggi adalah: Malaysia, Ethiopia, Indonesia, dan Colombia."
   ]
  },
  {
   "cell_type": "markdown",
   "metadata": {},
   "source": [
    "### Confirmed Case Rate"
   ]
  },
  {
   "cell_type": "code",
   "execution_count": 132,
   "metadata": {},
   "outputs": [
    {
     "data": {
      "text/html": [
       "<div>\n",
       "<style scoped>\n",
       "    .dataframe tbody tr th:only-of-type {\n",
       "        vertical-align: middle;\n",
       "    }\n",
       "\n",
       "    .dataframe tbody tr th {\n",
       "        vertical-align: top;\n",
       "    }\n",
       "\n",
       "    .dataframe thead th {\n",
       "        text-align: right;\n",
       "    }\n",
       "</style>\n",
       "<table border=\"1\" class=\"dataframe\">\n",
       "  <thead>\n",
       "    <tr style=\"text-align: right;\">\n",
       "      <th></th>\n",
       "      <th>Q1</th>\n",
       "      <th>Q2</th>\n",
       "      <th>Q3</th>\n",
       "      <th>Q4</th>\n",
       "    </tr>\n",
       "    <tr>\n",
       "      <th>country</th>\n",
       "      <th></th>\n",
       "      <th></th>\n",
       "      <th></th>\n",
       "      <th></th>\n",
       "    </tr>\n",
       "  </thead>\n",
       "  <tbody>\n",
       "    <tr>\n",
       "      <th>Colombia</th>\n",
       "      <td>1.0</td>\n",
       "      <td>373.0</td>\n",
       "      <td>6,837.0</td>\n",
       "      <td>18,091.0</td>\n",
       "    </tr>\n",
       "    <tr>\n",
       "      <th>Ethiopia</th>\n",
       "      <td>1.0</td>\n",
       "      <td>601.0</td>\n",
       "      <td>16,080.0</td>\n",
       "      <td>46,534.0</td>\n",
       "    </tr>\n",
       "    <tr>\n",
       "      <th>Indonesia</th>\n",
       "      <td>1.0</td>\n",
       "      <td>161.0</td>\n",
       "      <td>1,149.0</td>\n",
       "      <td>3,749.0</td>\n",
       "    </tr>\n",
       "    <tr>\n",
       "      <th>Malaysia</th>\n",
       "      <td>1.0</td>\n",
       "      <td>22.0</td>\n",
       "      <td>30.0</td>\n",
       "      <td>170.0</td>\n",
       "    </tr>\n",
       "  </tbody>\n",
       "</table>\n",
       "</div>"
      ],
      "text/plain": [
       "           Q1    Q2       Q3       Q4\n",
       "country                              \n",
       "Colombia  1.0 373.0  6,837.0 18,091.0\n",
       "Ethiopia  1.0 601.0 16,080.0 46,534.0\n",
       "Indonesia 1.0 161.0  1,149.0  3,749.0\n",
       "Malaysia  1.0  22.0     30.0    170.0"
      ]
     },
     "execution_count": 132,
     "metadata": {},
     "output_type": "execute_result"
    }
   ],
   "source": [
    "# Kelipatan jumlah kasus terkonfirmasi sepanjang kuartal dengan data Q1 tiap negara sebagai baseline value\n",
    "rate_case_confirmed_q1_to_q4 = confirmed_q1_to_q4.apply(lambda x:x/confirmed_q1_to_q4['Q1'], axis=0).round()\n",
    "rate_case_confirmed_q1_to_q4"
   ]
  },
  {
   "cell_type": "code",
   "execution_count": 133,
   "metadata": {},
   "outputs": [
    {
     "data": {
      "image/png": "[encoded data removed]",
      "text/plain": [
       "<Figure size 640x480 with 1 Axes>"
      ]
     },
     "metadata": {},
     "output_type": "display_data"
    }
   ],
   "source": [
    "ax = rate_case_confirmed_q1_to_q4.plot(kind='barh', title='Kelipatan Jumlah Penderita COVID-19 Antar Kuartal di Berbagai Negara pada Tahun 2020', xlabel='Negara',legend=True)\n",
    "for p in ax.patches:\n",
    "    ax.annotate(\"{:,.0f}x\".format(p.get_width()), (p.get_x() + p.get_width(), p.get_y()), xytext=(10, 0),textcoords='offset points')"
   ]
  },
  {
   "cell_type": "markdown",
   "metadata": {},
   "source": [
    "Grafik diatas menunjukkan perbandingan kelipatan pertumbuhan pasien pengidap covid-19 dari Q1 hingga Q4 pada tahun 2020. Sebelumnya diketahui bahwa Malaysia merupakan negara yang memiliki pasien covid-19 terbanyak di kuartal pertama, namun pada grafik ini terlihat bahwa Malaysia adalah negara yang paling sukses menekan angka pasien terkonfirmasi covid-19 (diluar faktor external contohnya seperti pasien terkonfirmasi tidak melapor). \n",
    "\n",
    "Kesuksesan Malaysia dalam menekan angka pasien terkonfirmasi dapat dilihat pada pertumbuhan kelipatannya dari Q2 hingga Q4  Malaysia mendapati angka 22x, 30x, dan 170x dibandingkan dengan negara tropis lainnya yang sudah mencapai kelipatan ribuan bahkan puluh ribuan.\n",
    "\n",
    "Selain hal tersebut, sebelumnya diketahui bahwa Ethiopia merupakan negara kedua yang paling sedikit setelah Malaysia dengan jumlah pasien terkonfirmasi covid-19. Namun, pada grafik diatas terlihat negara Ethiopia tidak dapat mempertahankan laju kelipatan persebaran covid-19 sebaik Malaysia, bahkan menjadi negara yang paling buruk diantara semua negara tropis lainnya untuk menekan laju pasien positif covid-19 dengan angka peningkatan tertinggi sebanyak 46,534x lipat di akhir kuartal keempat."
   ]
  },
  {
   "cell_type": "markdown",
   "metadata": {},
   "source": [
    "### Total Deaths"
   ]
  },
  {
   "cell_type": "code",
   "execution_count": 134,
   "metadata": {},
   "outputs": [],
   "source": [
    "# menggabungkan data kematian antar kuartal dalam satu dataframe\n",
    "deaths_q1_to_q4 = pd.concat([Q1.deaths.rename('Q1'),Q2.deaths.rename('Q2'),Q3.deaths.rename('Q3'),Q4.deaths.rename('Q4')],axis=1)"
   ]
  },
  {
   "cell_type": "code",
   "execution_count": 135,
   "metadata": {},
   "outputs": [
    {
     "data": {
      "image/png": "[encoded data removed]",
      "text/plain": [
       "<Figure size 640x480 with 1 Axes>"
      ]
     },
     "metadata": {},
     "output_type": "display_data"
    }
   ],
   "source": [
    "# plotting data kematian\n",
    "ax = deaths_q1_to_q4.plot(kind='barh',title=\"Jumlah Kematian Penderita COVID-19 Antar Negara Tropis di Berbagai Benua\",\n",
    "xlabel='Negara',colormap='cividis_r',edgecolor='white',linewidth=1)\n",
    "for p in ax.patches:\n",
    "    ax.annotate(\"{:,.0f}\".format(p.get_width()), (p.get_x() + p.get_width(), p.get_y()), xytext=(10, 0),textcoords='offset points')"
   ]
  },
  {
   "cell_type": "markdown",
   "metadata": {},
   "source": [
    "### Mortality Rate"
   ]
  },
  {
   "cell_type": "code",
   "execution_count": 136,
   "metadata": {},
   "outputs": [],
   "source": [
    "# menghitung mortality rate / rasio kematian pasien terkonfirmasi covid19\n",
    "rate_mortality_q1_to_q4 = deaths_q1_to_q4/confirmed_q1_to_q4"
   ]
  },
  {
   "cell_type": "code",
   "execution_count": 137,
   "metadata": {},
   "outputs": [
    {
     "data": {
      "text/html": [
       "<div>\n",
       "<style scoped>\n",
       "    .dataframe tbody tr th:only-of-type {\n",
       "        vertical-align: middle;\n",
       "    }\n",
       "\n",
       "    .dataframe tbody tr th {\n",
       "        vertical-align: top;\n",
       "    }\n",
       "\n",
       "    .dataframe thead th {\n",
       "        text-align: right;\n",
       "    }\n",
       "</style>\n",
       "<table border=\"1\" class=\"dataframe\">\n",
       "  <thead>\n",
       "    <tr style=\"text-align: right;\">\n",
       "      <th></th>\n",
       "      <th>Q1</th>\n",
       "      <th>Q2</th>\n",
       "      <th>Q3</th>\n",
       "      <th>Q4</th>\n",
       "    </tr>\n",
       "    <tr>\n",
       "      <th>country</th>\n",
       "      <th></th>\n",
       "      <th></th>\n",
       "      <th></th>\n",
       "      <th></th>\n",
       "    </tr>\n",
       "  </thead>\n",
       "  <tbody>\n",
       "    <tr>\n",
       "      <th>Colombia</th>\n",
       "      <td>0.011089367253750815</td>\n",
       "      <td>0.035113169363383503</td>\n",
       "      <td>0.03243034499735175</td>\n",
       "      <td>0.028366980956906537</td>\n",
       "    </tr>\n",
       "    <tr>\n",
       "      <th>Ethiopia</th>\n",
       "      <td>0.0</td>\n",
       "      <td>0.015704702389739048</td>\n",
       "      <td>0.01619313882450397</td>\n",
       "      <td>0.015406528679951558</td>\n",
       "    </tr>\n",
       "    <tr>\n",
       "      <th>Indonesia</th>\n",
       "      <td>0.08261632278005179</td>\n",
       "      <td>0.06052310945236118</td>\n",
       "      <td>0.04273985174618695</td>\n",
       "      <td>0.03215797812837602</td>\n",
       "    </tr>\n",
       "    <tr>\n",
       "      <th>Malaysia</th>\n",
       "      <td>0.009360706307839592</td>\n",
       "      <td>0.015365426810155678</td>\n",
       "      <td>0.013472535947148983</td>\n",
       "      <td>0.0058319275671018045</td>\n",
       "    </tr>\n",
       "  </tbody>\n",
       "</table>\n",
       "</div>"
      ],
      "text/plain": [
       "                            Q1                   Q2                   Q3  \\\n",
       "country                                                                    \n",
       "Colombia  0.011089367253750815 0.035113169363383503  0.03243034499735175   \n",
       "Ethiopia                   0.0 0.015704702389739048  0.01619313882450397   \n",
       "Indonesia  0.08261632278005179  0.06052310945236118  0.04273985174618695   \n",
       "Malaysia  0.009360706307839592 0.015365426810155678 0.013472535947148983   \n",
       "\n",
       "                             Q4  \n",
       "country                          \n",
       "Colombia   0.028366980956906537  \n",
       "Ethiopia   0.015406528679951558  \n",
       "Indonesia   0.03215797812837602  \n",
       "Malaysia  0.0058319275671018045  "
      ]
     },
     "execution_count": 137,
     "metadata": {},
     "output_type": "execute_result"
    }
   ],
   "source": [
    "rate_mortality_q1_to_q4"
   ]
  },
  {
   "cell_type": "code",
   "execution_count": 138,
   "metadata": {},
   "outputs": [
    {
     "data": {
      "image/png": "[encoded data removed]",
      "text/plain": [
       "<Figure size 640x480 with 1 Axes>"
      ]
     },
     "metadata": {},
     "output_type": "display_data"
    }
   ],
   "source": [
    "# plotting mortality rate\n",
    "ax = rate_mortality_q1_to_q4.plot(kind='barh',title=\"Mortality Rate Penderita COVID-19 Antar Negara Tropis di Berbagai Benua\",\n",
    "xlabel='Negara',colormap='cividis_r',edgecolor='white',linewidth=1)\n",
    "for p in ax.patches:\n",
    "    ax.annotate(\"{0:.2%}\".format(p.get_width()), (p.get_x() + p.get_width(), p.get_y()), xytext=(10, 0),textcoords='offset points')"
   ]
  },
  {
   "cell_type": "markdown",
   "metadata": {},
   "source": [
    "Grafik pertama menunjukan jumlah kematian terhadap pasien terkonfirmasi covid19 antar negara tropis di setiap kuartal pada tahun 2020. Puncak dari angka kematian terdapat pada kuartal empat (Q4), terlihat bahwa Colombia merupakan negara dengan kematian terbanyak dengan puncaknya mencapai lebih dari 3 juta orang pada Q4. Disusul oleh Indonesia dengan nilai puncak sekitar setengah dari Columbia yakni 1,4 juta orang lalu Ethiopia sebanyak 145 ribu orang dan terakhir yang paling sedikit 28 ribu orang di negara Malaysia.\n",
    "\n",
    "Grafik kedua menunjukkan perbandingan rasio kematian terhadap pasien terkonfirmasi covid19, dari grafik ini terlihat bahwa pada Q1, kemungkinan seorang pasien mengalami kematian tergolong yang paling tinggi di negara Indonesia dengan angka mencapai 8.26%, dibandingkan dengan negara tropis lainnya sekitar 1% bahkan kurang. Seiring berjalannya waktu, rasio kematian di Indonesia mengalami penurunan yang signifikan pada kuartal-kuartal selanjutnya yakni pada angka 6.05% (Q2), 4.27% (Q3), dan 3.22% (Q4).\n",
    "\n",
    "Negara Malaysia mendapat angka terendah pada penghujung kuartal yakni di angka 0.58%, hanya kalah dengan Ethiopia pada kuartal pertama.Pada Q2 terlihat sedikit kenaikan menjadi 1.54% namun tidak terlalu signifikan dan tetap konsisten terjadi penurunan rasio kematian hingga akhir kuartal dengan angka tertinggi tidak lebih dari angka pada kuartal kedua (Q2)."
   ]
  },
  {
   "cell_type": "markdown",
   "metadata": {},
   "source": [
    "### Recovery Rate"
   ]
  },
  {
   "cell_type": "code",
   "execution_count": 139,
   "metadata": {},
   "outputs": [],
   "source": [
    "# menggabungkan data kesembuhan antar kuartal dalam satu dataframe\n",
    "recovered_q1_to_q4 = pd.concat([Q1.recovered.rename('Q1'),Q2.recovered.rename('Q2'),Q3.recovered.rename('Q3'),Q4.recovered.rename('Q4')],axis=1)"
   ]
  },
  {
   "cell_type": "code",
   "execution_count": 140,
   "metadata": {},
   "outputs": [
    {
     "data": {
      "image/png": "[encoded data removed]",
      "text/plain": [
       "<Figure size 640x480 with 1 Axes>"
      ]
     },
     "metadata": {},
     "output_type": "display_data"
    }
   ],
   "source": [
    "# plotting data kesembuhan\n",
    "ax = recovered_q1_to_q4.plot(kind='barh',title=\"Data Kesembuhan Penderita COVID-19 Antar Negara Tropis di Berbagai Benua\",\n",
    "    xlabel='Negara',colormap='turbo')\n",
    "for p in ax.patches:\n",
    "    ax.annotate(\"{:,.0f}\".format(p.get_width()), (p.get_x() + p.get_width(), p.get_y()), xytext=(10, 0),textcoords='offset points')"
   ]
  },
  {
   "cell_type": "code",
   "execution_count": 141,
   "metadata": {},
   "outputs": [],
   "source": [
    "# menghitung recovery rate / rasio kematian pasien terkonfirmasi covid19\n",
    "rate_recovery_q1_to_q4 = recovered_q1_to_q4/confirmed_q1_to_q4"
   ]
  },
  {
   "cell_type": "code",
   "execution_count": 142,
   "metadata": {},
   "outputs": [
    {
     "data": {
      "text/html": [
       "<div>\n",
       "<style scoped>\n",
       "    .dataframe tbody tr th:only-of-type {\n",
       "        vertical-align: middle;\n",
       "    }\n",
       "\n",
       "    .dataframe tbody tr th {\n",
       "        vertical-align: top;\n",
       "    }\n",
       "\n",
       "    .dataframe thead th {\n",
       "        text-align: right;\n",
       "    }\n",
       "</style>\n",
       "<table border=\"1\" class=\"dataframe\">\n",
       "  <thead>\n",
       "    <tr style=\"text-align: right;\">\n",
       "      <th></th>\n",
       "      <th>Q1</th>\n",
       "      <th>Q2</th>\n",
       "      <th>Q3</th>\n",
       "      <th>Q4</th>\n",
       "    </tr>\n",
       "    <tr>\n",
       "      <th>country</th>\n",
       "      <th></th>\n",
       "      <th></th>\n",
       "      <th></th>\n",
       "      <th></th>\n",
       "    </tr>\n",
       "  </thead>\n",
       "  <tbody>\n",
       "    <tr>\n",
       "      <th>Colombia</th>\n",
       "      <td>0.017775603392041747</td>\n",
       "      <td>0.35203375875926235</td>\n",
       "      <td>0.7129605288815258</td>\n",
       "      <td>0.9017731567124336</td>\n",
       "    </tr>\n",
       "    <tr>\n",
       "      <th>Ethiopia</th>\n",
       "      <td>0.03940886699507389</td>\n",
       "      <td>0.26427364726336333</td>\n",
       "      <td>0.39283878363665214</td>\n",
       "      <td>0.6514343151618831</td>\n",
       "    </tr>\n",
       "    <tr>\n",
       "      <th>Indonesia</th>\n",
       "      <td>0.04778214017208253</td>\n",
       "      <td>0.31446733517039255</td>\n",
       "      <td>0.6718282071495179</td>\n",
       "      <td>0.8179471000360703</td>\n",
       "    </tr>\n",
       "    <tr>\n",
       "      <th>Malaysia</th>\n",
       "      <td>0.1387086480161685</td>\n",
       "      <td>0.7658486574025702</td>\n",
       "      <td>0.9553536584371393</td>\n",
       "      <td>0.7821198601119579</td>\n",
       "    </tr>\n",
       "  </tbody>\n",
       "</table>\n",
       "</div>"
      ],
      "text/plain": [
       "                            Q1                  Q2                  Q3  \\\n",
       "country                                                                  \n",
       "Colombia  0.017775603392041747 0.35203375875926235  0.7129605288815258   \n",
       "Ethiopia   0.03940886699507389 0.26427364726336333 0.39283878363665214   \n",
       "Indonesia  0.04778214017208253 0.31446733517039255  0.6718282071495179   \n",
       "Malaysia    0.1387086480161685  0.7658486574025702  0.9553536584371393   \n",
       "\n",
       "                          Q4  \n",
       "country                       \n",
       "Colombia  0.9017731567124336  \n",
       "Ethiopia  0.6514343151618831  \n",
       "Indonesia 0.8179471000360703  \n",
       "Malaysia  0.7821198601119579  "
      ]
     },
     "execution_count": 142,
     "metadata": {},
     "output_type": "execute_result"
    }
   ],
   "source": [
    "rate_recovery_q1_to_q4"
   ]
  },
  {
   "cell_type": "code",
   "execution_count": 143,
   "metadata": {},
   "outputs": [
    {
     "data": {
      "image/png": "[encoded data removed]",
      "text/plain": [
       "<Figure size 640x480 with 1 Axes>"
      ]
     },
     "metadata": {},
     "output_type": "display_data"
    }
   ],
   "source": [
    "# plotting recovery rate\n",
    "ax = rate_recovery_q1_to_q4.plot(kind='barh',title=\"Recovery Rate Penderita COVID-19 Antar Negara Tropis di Berbagai Benua\",\n",
    "xlabel='Negara',colormap='turbo',edgecolor='white',linewidth=1)\n",
    "for p in ax.patches:\n",
    "    ax.annotate(\"{0:.2%}\".format(p.get_width()), (p.get_x() + p.get_width(), p.get_y()), xytext=(10, 0),textcoords='offset points')"
   ]
  },
  {
   "cell_type": "markdown",
   "metadata": {},
   "source": [
    "Grafik diatas menunjukkan laju kesembuhan pasien positif covid19 per kuartal antar negara tropis di berbagai benua pada tahun 2020. Data Q1 dan Q2 menunjukkan bahwa negara malaysia memiliki angka laju kesembuhan terbesar, yakni 13.87% (Q1) dan 76.58% (Q2) artinya dua kali lipat jika dibandingkan negara tropis lainnya. Negara tropis lainnya mencapai laju kesembuhan paling tinggi tidak lebih dari 5% untuk Q1 dan tidak lebih dari 35% pada Q2. Laju kesembuhan tertinggi pada Q3 dimiliki negara Malaysia yang mencapai angka 95.54% dan pada Q4 dimiliki negara Columbia sebesar 90.18%"
   ]
  },
  {
   "cell_type": "markdown",
   "metadata": {},
   "source": [
    "## Conclusions, Assumptions, Overall Analysis"
   ]
  },
  {
   "cell_type": "markdown",
   "metadata": {},
   "source": [
    "- Secara umum, Malaysia adalah negara terbaik dalam penanganan covid19 diantara negara tropis lainnya. Hal ini didukung oleh data jumlah kelipatan pasien positif, mortality rate yang terendah, dan recovery rate yang tinggi meskipun memiliki jumlah pasien terkonfirmasi terbanyak pada Q1.\n",
    "- Kesigapan Malaysia dalam penanganan covid19 terlihat dari data mortality rate yang rendah dan recovery rate yang sangat jauh tinggi di awal Q1 dan Q2 dibandingkan negara lainnya.\n",
    "- Indonesia terlihat tidak siap menghadapi covid19 pada awal tahun 2020 yang tercermin dari data mortality rate yang relatif tinggi pada Q1. Namun Indonesia cepat pulih untuk meminimalkan angka kematian di kuartal-kuartal selanjutnya\n",
    "- Pencegahan penyebaran covid19 di Ethiopia sangatlah buruk hingga mencapai angka 46rb kali lipat pada akhir Q4 jika dibandingkan dengan data Q1 negara tersebut namun rasio kematian di negara tersebut tetaplah rendah. \n",
    "- Dengan recovery rate yang relatif sama dengan Indonesia namun mortality rate yang jauh berbeda, dapat dikatakan kasus covid19 di negara Ethiopia tidaklah se-fatal di Indonesia.\n",
    "- Semua negara tropis pada tiap benua hendaklah mencontoh Malaysia dalam menangani wabah covid19, khususnya negara Indonesia dengan pertimbangan letak geografis yang tidak begitu jauh terpisah dan kondisi iklim yang relatif sama.\n"
   ]
  }
 ],
 "metadata": {
  "kernelspec": {
   "display_name": "Python 3.9.13 ('base')",
   "language": "python",
   "name": "python3"
  },
  "language_info": {
   "codemirror_mode": {
    "name": "ipython",
    "version": 3
   },
   "file_extension": ".py",
   "mimetype": "text/x-python",
   "name": "python",
   "nbconvert_exporter": "python",
   "pygments_lexer": "ipython3",
   "version": "3.9.13"
  },
  "orig_nbformat": 4,
  "vscode": {
   "interpreter": {
    "hash": "38cca0c38332a56087b24af0bc80247f4fced29cb4f7f437d91dc159adec9c4e"
   }
  }
 },
 "nbformat": 4,
 "nbformat_minor": 2
}
