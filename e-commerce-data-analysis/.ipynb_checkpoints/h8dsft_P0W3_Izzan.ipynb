{
  "cells": [
    {
      "attachments": {},
      "cell_type": "markdown",
      "metadata": {
        "id": "6g8j8HUv-BI-"
      },
      "source": [
        "# Graded Challenge 3\n",
        "Izzan Dienurrahman HCK-003\n",
        "\n",
        "## Deskripsi \n",
        "Saya bekerja sebagai data analis di The Look yang merupakan platform e-commerce terbesar di planet mars dan saya bertugas untuk membuat laporan evaluasi aktivitas penjualan di platform tersebut.\n",
        "\n",
        "## Objektif \n",
        "Meningkatkan revenue penjualan produk dari platform e-commerce The Look sebesar 10% pada tiap bulan-bulan berikutnya hingga akhir Q4.\n",
        "\n",
        "## Problem Statement\n",
        "- Mengevaluasi data historis revenue bulanan.\n",
        "- Menentukan target kenaikan revenue yang wajar\n",
        "- Menentukan target jumlah penjualan produk bulan-bulan berikutnya\n",
        "- Mengetahui tren suatu produk & jumlah transaksi serta korelasi dari hal-hal yang berkaitan dengan revenue.\n",
        "- Merencanakan strategi untuk kuartal berikutnya (Q4)"
      ]
    },
    {
      "cell_type": "code",
      "execution_count": 95,
      "metadata": {
        "colab": {
          "base_uri": "https://localhost:8080/"
        },
        "id": "CnwUXSN6-lp_",
        "outputId": "531a1920-bcf6-4161-fea5-11e42868123c"
      },
      "outputs": [
        {
          "name": "stdout",
          "output_type": "stream",
          "text": [
            "Authenticated\n"
          ]
        }
      ],
      "source": [
        "# import library yang dibutuhkan\n",
        "from google.colab import auth\n",
        "from google.cloud import bigquery\n",
        "\n",
        "auth.authenticate_user()\n",
        "print('Authenticated') # print ketika auth sukses\n",
        "\n",
        "project_id = \"hacktiv8-izzan\"\n",
        "client = bigquery.Client(project=project_id) # connect ke google big query"
      ]
    },
    {
      "cell_type": "markdown",
      "metadata": {
        "id": "H_-TP1foCLiM"
      },
      "source": [
        "1. Berapa jumlah transaksi yang berstatus Complete tiap bulan selama Q1 sampai Q3 di tahun 2022? Insight apa yang bisa kamu berikan?"
      ]
    },
    {
      "cell_type": "code",
      "execution_count": 96,
      "metadata": {
        "colab": {
          "base_uri": "https://localhost:8080/",
          "height": 80
        },
        "id": "fx5Bh0vspKLc",
        "outputId": "ad41a250-4ba2-45d7-f027-371fe9946489"
      },
      "outputs": [
        {
          "data": {
            "text/html": [
              "<style type=\"text/css\">\n",
              "</style>\n",
              "<table id=\"T_a6f77_\" class=\"dataframe\">\n",
              "  <thead>\n",
              "    <tr>\n",
              "      <th class=\"blank level0\" >&nbsp;</th>\n",
              "      <th class=\"col_heading level0 col0\" >Jan</th>\n",
              "      <th class=\"col_heading level0 col1\" >Feb</th>\n",
              "      <th class=\"col_heading level0 col2\" >Mar</th>\n",
              "      <th class=\"col_heading level0 col3\" >Apr</th>\n",
              "      <th class=\"col_heading level0 col4\" >May</th>\n",
              "      <th class=\"col_heading level0 col5\" >Jun</th>\n",
              "      <th class=\"col_heading level0 col6\" >Jul</th>\n",
              "      <th class=\"col_heading level0 col7\" >Aug</th>\n",
              "      <th class=\"col_heading level0 col8\" >Sep</th>\n",
              "    </tr>\n",
              "  </thead>\n",
              "  <tbody>\n",
              "    <tr>\n",
              "      <th id=\"T_a6f77_level0_row0\" class=\"row_heading level0 row0\" >0</th>\n",
              "      <td id=\"T_a6f77_row0_col0\" class=\"data row0 col0\" >1,316</td>\n",
              "      <td id=\"T_a6f77_row0_col1\" class=\"data row0 col1\" >1,364</td>\n",
              "      <td id=\"T_a6f77_row0_col2\" class=\"data row0 col2\" >1,564</td>\n",
              "      <td id=\"T_a6f77_row0_col3\" class=\"data row0 col3\" >1,635</td>\n",
              "      <td id=\"T_a6f77_row0_col4\" class=\"data row0 col4\" >1,750</td>\n",
              "      <td id=\"T_a6f77_row0_col5\" class=\"data row0 col5\" >1,879</td>\n",
              "      <td id=\"T_a6f77_row0_col6\" class=\"data row0 col6\" >2,111</td>\n",
              "      <td id=\"T_a6f77_row0_col7\" class=\"data row0 col7\" >2,378</td>\n",
              "      <td id=\"T_a6f77_row0_col8\" class=\"data row0 col8\" >2,442</td>\n",
              "    </tr>\n",
              "  </tbody>\n",
              "</table>\n"
            ],
            "text/plain": [
              "<pandas.io.formats.style.Styler at 0x7fee89756760>"
            ]
          },
          "execution_count": 96,
          "metadata": {},
          "output_type": "execute_result"
        }
      ],
      "source": [
        "# jumlah transaksi tiap bulan selama Q1-Q3 tahun 2022 dengan status 'Complete'\n",
        "query = '''SELECT \n",
        "COUNT(CASE WHEN month=1 THEN status ELSE NULL END) AS Jan,\n",
        "COUNT(CASE WHEN month=2 THEN status ELSE NULL END) AS Feb,\n",
        "COUNT(CASE WHEN month=3 THEN status ELSE NULL END) AS Mar,\n",
        "COUNT(CASE WHEN month=4 THEN status ELSE NULL END) AS Apr,\n",
        "COUNT(CASE WHEN month=5 THEN status ELSE NULL END) AS May,\n",
        "COUNT(CASE WHEN month=6 THEN status ELSE NULL END) AS Jun,\n",
        "COUNT(CASE WHEN month=7 THEN status ELSE NULL END) AS Jul,\n",
        "COUNT(CASE WHEN month=8 THEN status ELSE NULL END) AS Aug,\n",
        "COUNT(CASE WHEN month=9 THEN status ELSE NULL END) AS Sep\n",
        "FROM (SELECT *,\n",
        "EXTRACT (YEAR FROM ord_items.created_at) as year,\n",
        "EXTRACT (MONTH FROM ord_items.created_at) as month\n",
        " FROM `bigquery-public-data.thelook_ecommerce.order_items` as ord_items) AS sub\n",
        "WHERE status = 'Complete' AND year=2022'''\n",
        "df_total_trans = client.query(query).to_dataframe()\n",
        "df_total_trans.style.format(\"{:,}\")"
      ]
    },
    {
      "cell_type": "markdown",
      "metadata": {
        "id": "ju7XnHmkQvQe"
      },
      "source": [
        "- Secara umum terjadi peningkatan jumlah transaksi yang cukup konsisten tiap bulannya pada kuartal 1 hingga kuartal 3."
      ]
    },
    {
      "cell_type": "markdown",
      "metadata": {
        "id": "V7zSlWN7p6Na"
      },
      "source": [
        "2. Berikan informasi total penjualan (dalam USD) tiap bulan selama Q1 sampai Q3 di tahun 2022! (Hanya yang transaksi berstatus Complete. Apa informasi yang bisa kamu sampaikan?"
      ]
    },
    {
      "cell_type": "code",
      "execution_count": 97,
      "metadata": {
        "colab": {
          "base_uri": "https://localhost:8080/",
          "height": 80
        },
        "id": "N4xGQPnTmfI2",
        "outputId": "d6ca166f-462a-47a3-8b20-3cfbae5cc9ff"
      },
      "outputs": [
        {
          "data": {
            "text/html": [
              "<style type=\"text/css\">\n",
              "</style>\n",
              "<table id=\"T_6c6f9_\" class=\"dataframe\">\n",
              "  <thead>\n",
              "    <tr>\n",
              "      <th class=\"blank level0\" >&nbsp;</th>\n",
              "      <th class=\"col_heading level0 col0\" >Jan</th>\n",
              "      <th class=\"col_heading level0 col1\" >Feb</th>\n",
              "      <th class=\"col_heading level0 col2\" >Mar</th>\n",
              "      <th class=\"col_heading level0 col3\" >Apr</th>\n",
              "      <th class=\"col_heading level0 col4\" >May</th>\n",
              "      <th class=\"col_heading level0 col5\" >Jun</th>\n",
              "      <th class=\"col_heading level0 col6\" >Jul</th>\n",
              "      <th class=\"col_heading level0 col7\" >Aug</th>\n",
              "      <th class=\"col_heading level0 col8\" >Sep</th>\n",
              "    </tr>\n",
              "  </thead>\n",
              "  <tbody>\n",
              "    <tr>\n",
              "      <th id=\"T_6c6f9_level0_row0\" class=\"row_heading level0 row0\" >0</th>\n",
              "      <td id=\"T_6c6f9_row0_col0\" class=\"data row0 col0\" >$81,454.26</td>\n",
              "      <td id=\"T_6c6f9_row0_col1\" class=\"data row0 col1\" >$85,810.48</td>\n",
              "      <td id=\"T_6c6f9_row0_col2\" class=\"data row0 col2\" >$93,958.48</td>\n",
              "      <td id=\"T_6c6f9_row0_col3\" class=\"data row0 col3\" >$105,278.45</td>\n",
              "      <td id=\"T_6c6f9_row0_col4\" class=\"data row0 col4\" >$101,416.36</td>\n",
              "      <td id=\"T_6c6f9_row0_col5\" class=\"data row0 col5\" >$108,924.85</td>\n",
              "      <td id=\"T_6c6f9_row0_col6\" class=\"data row0 col6\" >$124,116.78</td>\n",
              "      <td id=\"T_6c6f9_row0_col7\" class=\"data row0 col7\" >$134,899.61</td>\n",
              "      <td id=\"T_6c6f9_row0_col8\" class=\"data row0 col8\" >$145,558.89</td>\n",
              "    </tr>\n",
              "  </tbody>\n",
              "</table>\n"
            ],
            "text/plain": [
              "<pandas.io.formats.style.Styler at 0x7fee896d4a00>"
            ]
          },
          "execution_count": 97,
          "metadata": {},
          "output_type": "execute_result"
        }
      ],
      "source": [
        "# total penjualan bulanan selama Q1-Q3 tahun 2022\n",
        "query = '''SELECT \n",
        "SUM(CASE WHEN month=1 THEN sale_price ELSE NULL END) AS Jan,\n",
        "SUM(CASE WHEN month=2 THEN sale_price ELSE NULL END) AS Feb,\n",
        "SUM(CASE WHEN month=3 THEN sale_price ELSE NULL END) AS Mar,\n",
        "SUM(CASE WHEN month=4 THEN sale_price ELSE NULL END) AS Apr,\n",
        "SUM(CASE WHEN month=5 THEN sale_price ELSE NULL END) AS May,\n",
        "SUM(CASE WHEN month=6 THEN sale_price ELSE NULL END) AS Jun,\n",
        "SUM(CASE WHEN month=7 THEN sale_price ELSE NULL END) AS Jul,\n",
        "SUM(CASE WHEN month=8 THEN sale_price ELSE NULL END) AS Aug,\n",
        "SUM(CASE WHEN month=9 THEN sale_price ELSE NULL END) AS Sep\n",
        "FROM (SELECT *,\n",
        "EXTRACT (YEAR FROM ord_items.created_at) as year,\n",
        "EXTRACT (MONTH FROM ord_items.created_at) as month\n",
        " FROM `bigquery-public-data.thelook_ecommerce.order_items` as ord_items) AS sub\n",
        "WHERE status = 'Complete' AND year=2022'''\n",
        "df_total_sales = client.query(query).to_dataframe()\n",
        "df_total_sales.style.format(\"${:,.2f}\")"
      ]
    },
    {
      "cell_type": "markdown",
      "metadata": {
        "id": "XhN8i4FJSfNb"
      },
      "source": [
        "- Total penjualan tiap bulannya mengalami peningkatan yang konsisten dan berbanding lurus dengan data jumlah transaksi sebelumnya."
      ]
    },
    {
      "cell_type": "markdown",
      "metadata": {
        "id": "BKoGDH4k5iVb"
      },
      "source": [
        "3. Berapa user yang melakukan transaksi berstatus Complete di tiap bulan dari Q1 sampai Q3 2022? Apa kesimpulanmu?"
      ]
    },
    {
      "cell_type": "code",
      "execution_count": 98,
      "metadata": {
        "colab": {
          "base_uri": "https://localhost:8080/",
          "height": 80
        },
        "id": "2smPh1l35mko",
        "outputId": "72d72b9f-586b-435a-9c42-9d0a3b32c33a"
      },
      "outputs": [
        {
          "data": {
            "text/html": [
              "<style type=\"text/css\">\n",
              "</style>\n",
              "<table id=\"T_11e40_\" class=\"dataframe\">\n",
              "  <thead>\n",
              "    <tr>\n",
              "      <th class=\"blank level0\" >&nbsp;</th>\n",
              "      <th class=\"col_heading level0 col0\" >Jan</th>\n",
              "      <th class=\"col_heading level0 col1\" >Feb</th>\n",
              "      <th class=\"col_heading level0 col2\" >Mar</th>\n",
              "      <th class=\"col_heading level0 col3\" >Apr</th>\n",
              "      <th class=\"col_heading level0 col4\" >May</th>\n",
              "      <th class=\"col_heading level0 col5\" >Jun</th>\n",
              "      <th class=\"col_heading level0 col6\" >Jul</th>\n",
              "      <th class=\"col_heading level0 col7\" >Aug</th>\n",
              "      <th class=\"col_heading level0 col8\" >Sep</th>\n",
              "    </tr>\n",
              "  </thead>\n",
              "  <tbody>\n",
              "    <tr>\n",
              "      <th id=\"T_11e40_level0_row0\" class=\"row_heading level0 row0\" >0</th>\n",
              "      <td id=\"T_11e40_row0_col0\" class=\"data row0 col0\" >909</td>\n",
              "      <td id=\"T_11e40_row0_col1\" class=\"data row0 col1\" >941</td>\n",
              "      <td id=\"T_11e40_row0_col2\" class=\"data row0 col2\" >1,074</td>\n",
              "      <td id=\"T_11e40_row0_col3\" class=\"data row0 col3\" >1,150</td>\n",
              "      <td id=\"T_11e40_row0_col4\" class=\"data row0 col4\" >1,252</td>\n",
              "      <td id=\"T_11e40_row0_col5\" class=\"data row0 col5\" >1,338</td>\n",
              "      <td id=\"T_11e40_row0_col6\" class=\"data row0 col6\" >1,462</td>\n",
              "      <td id=\"T_11e40_row0_col7\" class=\"data row0 col7\" >1,640</td>\n",
              "      <td id=\"T_11e40_row0_col8\" class=\"data row0 col8\" >1,710</td>\n",
              "    </tr>\n",
              "  </tbody>\n",
              "</table>\n"
            ],
            "text/plain": [
              "<pandas.io.formats.style.Styler at 0x7fee896cb310>"
            ]
          },
          "execution_count": 98,
          "metadata": {},
          "output_type": "execute_result"
        }
      ],
      "source": [
        "# jumlah unique user yang melakukan transaksi tiap bulan selama Q1-Q3 tahun 2022\n",
        "query = '''SELECT\n",
        "COUNT (DISTINCT CASE WHEN month=1 THEN user_id ELSE NULL END) AS Jan,\n",
        "COUNT (DISTINCT CASE WHEN month=2 THEN user_id ELSE NULL END) AS Feb,\n",
        "COUNT (DISTINCT CASE WHEN month=3 THEN user_id ELSE NULL END) AS Mar,\n",
        "COUNT (DISTINCT CASE WHEN month=4 THEN user_id ELSE NULL END) AS Apr,\n",
        "COUNT (DISTINCT CASE WHEN month=5 THEN user_id ELSE NULL END) AS May,\n",
        "COUNT (DISTINCT CASE WHEN month=6 THEN user_id ELSE NULL END) AS Jun,\n",
        "COUNT (DISTINCT CASE WHEN month=7 THEN user_id ELSE NULL END) AS Jul,\n",
        "COUNT (DISTINCT CASE WHEN month=8 THEN user_id ELSE NULL END) AS Aug,\n",
        "COUNT (DISTINCT CASE WHEN month=9 THEN user_id ELSE NULL END) AS Sep\n",
        "FROM (SELECT *,\n",
        "EXTRACT (YEAR FROM ord_items.created_at) as year,\n",
        "EXTRACT (MONTH FROM ord_items.created_at) as month\n",
        " FROM `bigquery-public-data.thelook_ecommerce.order_items` as ord_items\n",
        " JOIN `bigquery-public-data.thelook_ecommerce.inventory_items`as inv_items\n",
        "ON ord_items.product_id = inv_items.product_id) AS sub\n",
        "WHERE status = 'Complete' AND year=2022'''\n",
        "df_total_user = client.query(query).to_dataframe()\n",
        "df_total_user.style.format(\"{:,}\")"
      ]
    },
    {
      "cell_type": "markdown",
      "metadata": {
        "id": "BWmofEFVTTKG"
      },
      "source": [
        "- Secara umum user yang melakukan transaksi mengalami peningkatan tiap bulannya. Sejauh ini, dapat dikatakan jumlah user yang melakukan transaksi berbanding lurus dengan banyaknya total transaksi dan juga total penjualan."
      ]
    },
    {
      "cell_type": "markdown",
      "metadata": {
        "id": "CiZR_7U89tuD"
      },
      "source": [
        "4. Kategori produk apa saja yang paling banyak dibeli (staus transaksi: Complete) di tiap bulannya selama Q1 sampai Q3 tahun 2022? Berikan insight!"
      ]
    },
    {
      "cell_type": "code",
      "execution_count": 108,
      "metadata": {
        "colab": {
          "base_uri": "https://localhost:8080/",
          "height": 328
        },
        "id": "ilwMgQOb9tRo",
        "outputId": "adcdcc15-c608-46c4-9585-9133fb94fe0c"
      },
      "outputs": [
        {
          "data": {
            "text/html": [
              "<style type=\"text/css\">\n",
              "</style>\n",
              "<table id=\"T_bcc9e_\" class=\"dataframe\">\n",
              "  <thead>\n",
              "    <tr>\n",
              "      <th class=\"blank level0\" >&nbsp;</th>\n",
              "      <th class=\"col_heading level0 col0\" >month</th>\n",
              "      <th class=\"col_heading level0 col1\" >product_category</th>\n",
              "      <th class=\"col_heading level0 col2\" >total_sales</th>\n",
              "      <th class=\"col_heading level0 col3\" >rank_sales</th>\n",
              "    </tr>\n",
              "  </thead>\n",
              "  <tbody>\n",
              "    <tr>\n",
              "      <th id=\"T_bcc9e_level0_row0\" class=\"row_heading level0 row0\" >0</th>\n",
              "      <td id=\"T_bcc9e_row0_col0\" class=\"data row0 col0\" >1</td>\n",
              "      <td id=\"T_bcc9e_row0_col1\" class=\"data row0 col1\" >Jeans</td>\n",
              "      <td id=\"T_bcc9e_row0_col2\" class=\"data row0 col2\" >2,020</td>\n",
              "      <td id=\"T_bcc9e_row0_col3\" class=\"data row0 col3\" >1</td>\n",
              "    </tr>\n",
              "    <tr>\n",
              "      <th id=\"T_bcc9e_level0_row1\" class=\"row_heading level0 row1\" >1</th>\n",
              "      <td id=\"T_bcc9e_row1_col0\" class=\"data row1 col0\" >2</td>\n",
              "      <td id=\"T_bcc9e_row1_col1\" class=\"data row1 col1\" >Swim</td>\n",
              "      <td id=\"T_bcc9e_row1_col2\" class=\"data row1 col2\" >2,027</td>\n",
              "      <td id=\"T_bcc9e_row1_col3\" class=\"data row1 col3\" >1</td>\n",
              "    </tr>\n",
              "    <tr>\n",
              "      <th id=\"T_bcc9e_level0_row2\" class=\"row_heading level0 row2\" >2</th>\n",
              "      <td id=\"T_bcc9e_row2_col0\" class=\"data row2 col0\" >3</td>\n",
              "      <td id=\"T_bcc9e_row2_col1\" class=\"data row2 col1\" >Tops & Tees</td>\n",
              "      <td id=\"T_bcc9e_row2_col2\" class=\"data row2 col2\" >2,419</td>\n",
              "      <td id=\"T_bcc9e_row2_col3\" class=\"data row2 col3\" >1</td>\n",
              "    </tr>\n",
              "    <tr>\n",
              "      <th id=\"T_bcc9e_level0_row3\" class=\"row_heading level0 row3\" >3</th>\n",
              "      <td id=\"T_bcc9e_row3_col0\" class=\"data row3 col0\" >4</td>\n",
              "      <td id=\"T_bcc9e_row3_col1\" class=\"data row3 col1\" >Tops & Tees</td>\n",
              "      <td id=\"T_bcc9e_row3_col2\" class=\"data row3 col2\" >2,493</td>\n",
              "      <td id=\"T_bcc9e_row3_col3\" class=\"data row3 col3\" >1</td>\n",
              "    </tr>\n",
              "    <tr>\n",
              "      <th id=\"T_bcc9e_level0_row4\" class=\"row_heading level0 row4\" >4</th>\n",
              "      <td id=\"T_bcc9e_row4_col0\" class=\"data row4 col0\" >5</td>\n",
              "      <td id=\"T_bcc9e_row4_col1\" class=\"data row4 col1\" >Intimates</td>\n",
              "      <td id=\"T_bcc9e_row4_col2\" class=\"data row4 col2\" >2,473</td>\n",
              "      <td id=\"T_bcc9e_row4_col3\" class=\"data row4 col3\" >1</td>\n",
              "    </tr>\n",
              "    <tr>\n",
              "      <th id=\"T_bcc9e_level0_row5\" class=\"row_heading level0 row5\" >5</th>\n",
              "      <td id=\"T_bcc9e_row5_col0\" class=\"data row5 col0\" >6</td>\n",
              "      <td id=\"T_bcc9e_row5_col1\" class=\"data row5 col1\" >Jeans</td>\n",
              "      <td id=\"T_bcc9e_row5_col2\" class=\"data row5 col2\" >3,146</td>\n",
              "      <td id=\"T_bcc9e_row5_col3\" class=\"data row5 col3\" >1</td>\n",
              "    </tr>\n",
              "    <tr>\n",
              "      <th id=\"T_bcc9e_level0_row6\" class=\"row_heading level0 row6\" >6</th>\n",
              "      <td id=\"T_bcc9e_row6_col0\" class=\"data row6 col0\" >7</td>\n",
              "      <td id=\"T_bcc9e_row6_col1\" class=\"data row6 col1\" >Jeans</td>\n",
              "      <td id=\"T_bcc9e_row6_col2\" class=\"data row6 col2\" >3,040</td>\n",
              "      <td id=\"T_bcc9e_row6_col3\" class=\"data row6 col3\" >1</td>\n",
              "    </tr>\n",
              "    <tr>\n",
              "      <th id=\"T_bcc9e_level0_row7\" class=\"row_heading level0 row7\" >7</th>\n",
              "      <td id=\"T_bcc9e_row7_col0\" class=\"data row7 col0\" >8</td>\n",
              "      <td id=\"T_bcc9e_row7_col1\" class=\"data row7 col1\" >Shorts</td>\n",
              "      <td id=\"T_bcc9e_row7_col2\" class=\"data row7 col2\" >3,437</td>\n",
              "      <td id=\"T_bcc9e_row7_col3\" class=\"data row7 col3\" >1</td>\n",
              "    </tr>\n",
              "    <tr>\n",
              "      <th id=\"T_bcc9e_level0_row8\" class=\"row_heading level0 row8\" >8</th>\n",
              "      <td id=\"T_bcc9e_row8_col0\" class=\"data row8 col0\" >9</td>\n",
              "      <td id=\"T_bcc9e_row8_col1\" class=\"data row8 col1\" >Jeans</td>\n",
              "      <td id=\"T_bcc9e_row8_col2\" class=\"data row8 col2\" >3,652</td>\n",
              "      <td id=\"T_bcc9e_row8_col3\" class=\"data row8 col3\" >1</td>\n",
              "    </tr>\n",
              "  </tbody>\n",
              "</table>\n"
            ],
            "text/plain": [
              "<pandas.io.formats.style.Styler at 0x7fee8978f4c0>"
            ]
          },
          "execution_count": 108,
          "metadata": {},
          "output_type": "execute_result"
        }
      ],
      "source": [
        "# kategori produk yang paling banyak dibeli tiap bulan pada Q1-Q3 2022\n",
        "query = '''\n",
        "SELECT * \n",
        "FROM\n",
        "(SELECT *,\n",
        "RANK() OVER(partition by month order by sub2.total_sales desc) as rank_sales\n",
        "FROM\n",
        "(SELECT \n",
        "  month,\n",
        "  product_category,\n",
        "  COUNT(month) AS total_sales\n",
        "FROM (SELECT *,\n",
        "EXTRACT (YEAR FROM ord_items.created_at) as year,\n",
        "EXTRACT (MONTH FROM ord_items.created_at) as month\n",
        " FROM `bigquery-public-data.thelook_ecommerce.order_items` as ord_items\n",
        " JOIN `bigquery-public-data.thelook_ecommerce.inventory_items` as inv_items\n",
        "ON ord_items.product_id = inv_items.product_id) AS sub\n",
        "WHERE status = 'Complete' AND year=2022 AND month BETWEEN 1 AND 9\n",
        "GROUP BY product_category,month) AS sub2\n",
        "ORDER BY month) AS sub3\n",
        "WHERE rank_sales =1\n",
        "ORDER BY month\n",
        "'''\n",
        "df = client.query(query).to_dataframe()\n",
        "df.style.format({\"total_sales\":\"{:,}\"})"
      ]
    },
    {
      "cell_type": "markdown",
      "metadata": {
        "id": "w7nJecNNW3Cy"
      },
      "source": [
        "- Pada awal Q1 terlihat populernya penjualan Jeans, Swim, dan Top & tees\n",
        "- Memasuki Q2 Tops & Tees, Intimates, dan Jeans menjadi kategori produk yang terlaris.\n",
        "- Pada Q3 Jeans & Short menjadi kategori produk yang paling banyak dibeli.\n",
        "- Jeans merupakan kategori terlaris.\n",
        "- Peminat Jeans selalu ada sepanjang kuartal."
      ]
    },
    {
      "cell_type": "markdown",
      "metadata": {
        "id": "oMIqUVW9S74j"
      },
      "source": [
        "5. Kategori produk apa saja yang paling banyak mendapatkan pendapatan (staus transaksi: Complete) di tiap bulannya selama Q1 sampai Q3 tahun 2022? Berikan insight!"
      ]
    },
    {
      "cell_type": "code",
      "execution_count": 100,
      "metadata": {
        "colab": {
          "base_uri": "https://localhost:8080/",
          "height": 328
        },
        "id": "29ttQEmhJdXv",
        "outputId": "2548a85a-24f2-4dfd-bb93-9f058d633dac"
      },
      "outputs": [
        {
          "data": {
            "text/html": [
              "<style type=\"text/css\">\n",
              "</style>\n",
              "<table id=\"T_65fac_\" class=\"dataframe\">\n",
              "  <thead>\n",
              "    <tr>\n",
              "      <th class=\"blank level0\" >&nbsp;</th>\n",
              "      <th class=\"col_heading level0 col0\" >month</th>\n",
              "      <th class=\"col_heading level0 col1\" >product_category</th>\n",
              "      <th class=\"col_heading level0 col2\" >gross_revenue</th>\n",
              "      <th class=\"col_heading level0 col3\" >rank_revenue</th>\n",
              "    </tr>\n",
              "  </thead>\n",
              "  <tbody>\n",
              "    <tr>\n",
              "      <th id=\"T_65fac_level0_row0\" class=\"row_heading level0 row0\" >0</th>\n",
              "      <td id=\"T_65fac_row0_col0\" class=\"data row0 col0\" >1</td>\n",
              "      <td id=\"T_65fac_row0_col1\" class=\"data row0 col1\" >Outerwear & Coats</td>\n",
              "      <td id=\"T_65fac_row0_col2\" class=\"data row0 col2\" >$ 192,537.59</td>\n",
              "      <td id=\"T_65fac_row0_col3\" class=\"data row0 col3\" >1</td>\n",
              "    </tr>\n",
              "    <tr>\n",
              "      <th id=\"T_65fac_level0_row1\" class=\"row_heading level0 row1\" >1</th>\n",
              "      <td id=\"T_65fac_row1_col0\" class=\"data row1 col0\" >2</td>\n",
              "      <td id=\"T_65fac_row1_col1\" class=\"data row1 col1\" >Jeans</td>\n",
              "      <td id=\"T_65fac_row1_col2\" class=\"data row1 col2\" >$ 217,275.20</td>\n",
              "      <td id=\"T_65fac_row1_col3\" class=\"data row1 col3\" >1</td>\n",
              "    </tr>\n",
              "    <tr>\n",
              "      <th id=\"T_65fac_level0_row2\" class=\"row_heading level0 row2\" >2</th>\n",
              "      <td id=\"T_65fac_row2_col0\" class=\"data row2 col0\" >3</td>\n",
              "      <td id=\"T_65fac_row2_col1\" class=\"data row2 col1\" >Outerwear & Coats</td>\n",
              "      <td id=\"T_65fac_row2_col2\" class=\"data row2 col2\" >$ 218,551.28</td>\n",
              "      <td id=\"T_65fac_row2_col3\" class=\"data row2 col3\" >1</td>\n",
              "    </tr>\n",
              "    <tr>\n",
              "      <th id=\"T_65fac_level0_row3\" class=\"row_heading level0 row3\" >3</th>\n",
              "      <td id=\"T_65fac_row3_col0\" class=\"data row3 col0\" >4</td>\n",
              "      <td id=\"T_65fac_row3_col1\" class=\"data row3 col1\" >Outerwear & Coats</td>\n",
              "      <td id=\"T_65fac_row3_col2\" class=\"data row3 col2\" >$ 296,134.54</td>\n",
              "      <td id=\"T_65fac_row3_col3\" class=\"data row3 col3\" >1</td>\n",
              "    </tr>\n",
              "    <tr>\n",
              "      <th id=\"T_65fac_level0_row4\" class=\"row_heading level0 row4\" >4</th>\n",
              "      <td id=\"T_65fac_row4_col0\" class=\"data row4 col0\" >5</td>\n",
              "      <td id=\"T_65fac_row4_col1\" class=\"data row4 col1\" >Jeans</td>\n",
              "      <td id=\"T_65fac_row4_col2\" class=\"data row4 col2\" >$ 241,062.81</td>\n",
              "      <td id=\"T_65fac_row4_col3\" class=\"data row4 col3\" >1</td>\n",
              "    </tr>\n",
              "    <tr>\n",
              "      <th id=\"T_65fac_level0_row5\" class=\"row_heading level0 row5\" >5</th>\n",
              "      <td id=\"T_65fac_row5_col0\" class=\"data row5 col0\" >6</td>\n",
              "      <td id=\"T_65fac_row5_col1\" class=\"data row5 col1\" >Jeans</td>\n",
              "      <td id=\"T_65fac_row5_col2\" class=\"data row5 col2\" >$ 315,775.35</td>\n",
              "      <td id=\"T_65fac_row5_col3\" class=\"data row5 col3\" >1</td>\n",
              "    </tr>\n",
              "    <tr>\n",
              "      <th id=\"T_65fac_level0_row6\" class=\"row_heading level0 row6\" >6</th>\n",
              "      <td id=\"T_65fac_row6_col0\" class=\"data row6 col0\" >7</td>\n",
              "      <td id=\"T_65fac_row6_col1\" class=\"data row6 col1\" >Outerwear & Coats</td>\n",
              "      <td id=\"T_65fac_row6_col2\" class=\"data row6 col2\" >$ 311,862.72</td>\n",
              "      <td id=\"T_65fac_row6_col3\" class=\"data row6 col3\" >1</td>\n",
              "    </tr>\n",
              "    <tr>\n",
              "      <th id=\"T_65fac_level0_row7\" class=\"row_heading level0 row7\" >7</th>\n",
              "      <td id=\"T_65fac_row7_col0\" class=\"data row7 col0\" >8</td>\n",
              "      <td id=\"T_65fac_row7_col1\" class=\"data row7 col1\" >Jeans</td>\n",
              "      <td id=\"T_65fac_row7_col2\" class=\"data row7 col2\" >$ 319,362.39</td>\n",
              "      <td id=\"T_65fac_row7_col3\" class=\"data row7 col3\" >1</td>\n",
              "    </tr>\n",
              "    <tr>\n",
              "      <th id=\"T_65fac_level0_row8\" class=\"row_heading level0 row8\" >8</th>\n",
              "      <td id=\"T_65fac_row8_col0\" class=\"data row8 col0\" >9</td>\n",
              "      <td id=\"T_65fac_row8_col1\" class=\"data row8 col1\" >Outerwear & Coats</td>\n",
              "      <td id=\"T_65fac_row8_col2\" class=\"data row8 col2\" >$ 372,053.00</td>\n",
              "      <td id=\"T_65fac_row8_col3\" class=\"data row8 col3\" >1</td>\n",
              "    </tr>\n",
              "  </tbody>\n",
              "</table>\n"
            ],
            "text/plain": [
              "<pandas.io.formats.style.Styler at 0x7fee896ddb20>"
            ]
          },
          "execution_count": 100,
          "metadata": {},
          "output_type": "execute_result"
        }
      ],
      "source": [
        "# kategori produk dengan pendapatan tertinggi tiap bulan pada Q1-Q3 2022\n",
        "query = '''\n",
        "SELECT *,\n",
        "FROM\n",
        "(SELECT *,\n",
        "RANK() OVER(partition by month order by sub2.gross_revenue desc) as rank_revenue\n",
        "FROM\n",
        "(SELECT month,\n",
        "product_category,\n",
        "SUM(sale_price) AS gross_revenue\n",
        "FROM\n",
        "(SELECT product_category,sale_price,status,\n",
        "EXTRACT (YEAR FROM ord_items.created_at) as year,\n",
        "EXTRACT (MONTH FROM ord_items.created_at) as month\n",
        " FROM `bigquery-public-data.thelook_ecommerce.order_items` as ord_items\n",
        " JOIN `bigquery-public-data.thelook_ecommerce.inventory_items` as inv_items\n",
        "ON ord_items.product_id = inv_items.product_id) AS sub\n",
        "WHERE status='Complete' AND year =2022 AND month BETWEEN 1 AND 9\n",
        "GROUP BY month, product_category) AS sub2\n",
        "ORDER BY month) as sub3\n",
        "WHERE rank_revenue=1\n",
        "'''\n",
        "df = client.query(query).to_dataframe()\n",
        "df.style.format({\"gross_revenue\":\"$ {:,.2f}\"})"
      ]
    },
    {
      "cell_type": "markdown",
      "metadata": {
        "id": "XyAkYw8xcbJ7"
      },
      "source": [
        "- Secara umum Jeans dan Outerwear & Coats menjadi kategori produk dengan pendapatan terbanyak tiap bulannya. Penulis menarik kesimpulan bahwa produk Jeans dan Outerwear & Coats merupakan pakaian yang paling diminati dan cocok digunakan sepanjang bulan pada Q1 hingga Q3."
      ]
    },
    {
      "cell_type": "markdown",
      "metadata": {
        "id": "vAJHX_B4q6YS"
      },
      "source": [
        "6. Dibandingkan dengan jumlah transaksi dan total penjualan, mana yang paling berkaitan dengan jumlah user yang melakukan transaksi? Apa analisis yang dapat kamu jelaskan? (Hint: Kamu bisa menggunakan korelasi)\n"
      ]
    },
    {
      "cell_type": "code",
      "execution_count": 101,
      "metadata": {
        "id": "Nnio9n30tfjt"
      },
      "outputs": [],
      "source": [
        "import pandas as pd # import library yang dibutuhkan"
      ]
    },
    {
      "cell_type": "code",
      "execution_count": 102,
      "metadata": {
        "colab": {
          "base_uri": "https://localhost:8080/",
          "height": 328
        },
        "id": "xjb0tXJxtm0Y",
        "outputId": "74b99e42-33a9-43b3-fb60-868cf6743253"
      },
      "outputs": [
        {
          "data": {
            "text/html": [
              "\n",
              "  <div id=\"df-da57758e-77ca-473d-8a74-79bfb95464d3\">\n",
              "    <div class=\"colab-df-container\">\n",
              "      <div>\n",
              "<style scoped>\n",
              "    .dataframe tbody tr th:only-of-type {\n",
              "        vertical-align: middle;\n",
              "    }\n",
              "\n",
              "    .dataframe tbody tr th {\n",
              "        vertical-align: top;\n",
              "    }\n",
              "\n",
              "    .dataframe thead th {\n",
              "        text-align: right;\n",
              "    }\n",
              "</style>\n",
              "<table border=\"1\" class=\"dataframe\">\n",
              "  <thead>\n",
              "    <tr style=\"text-align: right;\">\n",
              "      <th></th>\n",
              "      <th>total_user</th>\n",
              "      <th>total_trans</th>\n",
              "      <th>total_sales</th>\n",
              "    </tr>\n",
              "  </thead>\n",
              "  <tbody>\n",
              "    <tr>\n",
              "      <th>Jan</th>\n",
              "      <td>909</td>\n",
              "      <td>1316</td>\n",
              "      <td>81454.259979</td>\n",
              "    </tr>\n",
              "    <tr>\n",
              "      <th>Feb</th>\n",
              "      <td>941</td>\n",
              "      <td>1364</td>\n",
              "      <td>85810.480045</td>\n",
              "    </tr>\n",
              "    <tr>\n",
              "      <th>Mar</th>\n",
              "      <td>1074</td>\n",
              "      <td>1564</td>\n",
              "      <td>93958.480139</td>\n",
              "    </tr>\n",
              "    <tr>\n",
              "      <th>Apr</th>\n",
              "      <td>1150</td>\n",
              "      <td>1635</td>\n",
              "      <td>105278.450055</td>\n",
              "    </tr>\n",
              "    <tr>\n",
              "      <th>May</th>\n",
              "      <td>1252</td>\n",
              "      <td>1750</td>\n",
              "      <td>101416.360103</td>\n",
              "    </tr>\n",
              "    <tr>\n",
              "      <th>Jun</th>\n",
              "      <td>1338</td>\n",
              "      <td>1879</td>\n",
              "      <td>108924.850134</td>\n",
              "    </tr>\n",
              "    <tr>\n",
              "      <th>Jul</th>\n",
              "      <td>1462</td>\n",
              "      <td>2111</td>\n",
              "      <td>124116.780211</td>\n",
              "    </tr>\n",
              "    <tr>\n",
              "      <th>Aug</th>\n",
              "      <td>1640</td>\n",
              "      <td>2378</td>\n",
              "      <td>134899.610057</td>\n",
              "    </tr>\n",
              "    <tr>\n",
              "      <th>Sep</th>\n",
              "      <td>1710</td>\n",
              "      <td>2442</td>\n",
              "      <td>145558.890296</td>\n",
              "    </tr>\n",
              "  </tbody>\n",
              "</table>\n",
              "</div>\n",
              "      <button class=\"colab-df-convert\" onclick=\"convertToInteractive('df-da57758e-77ca-473d-8a74-79bfb95464d3')\"\n",
              "              title=\"Convert this dataframe to an interactive table.\"\n",
              "              style=\"display:none;\">\n",
              "        \n",
              "  <svg xmlns=\"http://www.w3.org/2000/svg\" height=\"24px\"viewBox=\"0 0 24 24\"\n",
              "       width=\"24px\">\n",
              "    <path d=\"M0 0h24v24H0V0z\" fill=\"none\"/>\n",
              "    <path d=\"M18.56 5.44l.94 2.06.94-2.06 2.06-.94-2.06-.94-.94-2.06-.94 2.06-2.06.94zm-11 1L8.5 8.5l.94-2.06 2.06-.94-2.06-.94L8.5 2.5l-.94 2.06-2.06.94zm10 10l.94 2.06.94-2.06 2.06-.94-2.06-.94-.94-2.06-.94 2.06-2.06.94z\"/><path d=\"M17.41 7.96l-1.37-1.37c-.4-.4-.92-.59-1.43-.59-.52 0-1.04.2-1.43.59L10.3 9.45l-7.72 7.72c-.78.78-.78 2.05 0 2.83L4 21.41c.39.39.9.59 1.41.59.51 0 1.02-.2 1.41-.59l7.78-7.78 2.81-2.81c.8-.78.8-2.07 0-2.86zM5.41 20L4 18.59l7.72-7.72 1.47 1.35L5.41 20z\"/>\n",
              "  </svg>\n",
              "      </button>\n",
              "      \n",
              "  <style>\n",
              "    .colab-df-container {\n",
              "      display:flex;\n",
              "      flex-wrap:wrap;\n",
              "      gap: 12px;\n",
              "    }\n",
              "\n",
              "    .colab-df-convert {\n",
              "      background-color: #E8F0FE;\n",
              "      border: none;\n",
              "      border-radius: 50%;\n",
              "      cursor: pointer;\n",
              "      display: none;\n",
              "      fill: #1967D2;\n",
              "      height: 32px;\n",
              "      padding: 0 0 0 0;\n",
              "      width: 32px;\n",
              "    }\n",
              "\n",
              "    .colab-df-convert:hover {\n",
              "      background-color: #E2EBFA;\n",
              "      box-shadow: 0px 1px 2px rgba(60, 64, 67, 0.3), 0px 1px 3px 1px rgba(60, 64, 67, 0.15);\n",
              "      fill: #174EA6;\n",
              "    }\n",
              "\n",
              "    [theme=dark] .colab-df-convert {\n",
              "      background-color: #3B4455;\n",
              "      fill: #D2E3FC;\n",
              "    }\n",
              "\n",
              "    [theme=dark] .colab-df-convert:hover {\n",
              "      background-color: #434B5C;\n",
              "      box-shadow: 0px 1px 3px 1px rgba(0, 0, 0, 0.15);\n",
              "      filter: drop-shadow(0px 1px 2px rgba(0, 0, 0, 0.3));\n",
              "      fill: #FFFFFF;\n",
              "    }\n",
              "  </style>\n",
              "\n",
              "      <script>\n",
              "        const buttonEl =\n",
              "          document.querySelector('#df-da57758e-77ca-473d-8a74-79bfb95464d3 button.colab-df-convert');\n",
              "        buttonEl.style.display =\n",
              "          google.colab.kernel.accessAllowed ? 'block' : 'none';\n",
              "\n",
              "        async function convertToInteractive(key) {\n",
              "          const element = document.querySelector('#df-da57758e-77ca-473d-8a74-79bfb95464d3');\n",
              "          const dataTable =\n",
              "            await google.colab.kernel.invokeFunction('convertToInteractive',\n",
              "                                                     [key], {});\n",
              "          if (!dataTable) return;\n",
              "\n",
              "          const docLinkHtml = 'Like what you see? Visit the ' +\n",
              "            '<a target=\"_blank\" href=https://colab.research.google.com/notebooks/data_table.ipynb>data table notebook</a>'\n",
              "            + ' to learn more about interactive tables.';\n",
              "          element.innerHTML = '';\n",
              "          dataTable['output_type'] = 'display_data';\n",
              "          await google.colab.output.renderOutput(dataTable, element);\n",
              "          const docLink = document.createElement('div');\n",
              "          docLink.innerHTML = docLinkHtml;\n",
              "          element.appendChild(docLink);\n",
              "        }\n",
              "      </script>\n",
              "    </div>\n",
              "  </div>\n",
              "  "
            ],
            "text/plain": [
              "     total_user  total_trans    total_sales\n",
              "Jan         909         1316   81454.259979\n",
              "Feb         941         1364   85810.480045\n",
              "Mar        1074         1564   93958.480139\n",
              "Apr        1150         1635  105278.450055\n",
              "May        1252         1750  101416.360103\n",
              "Jun        1338         1879  108924.850134\n",
              "Jul        1462         2111  124116.780211\n",
              "Aug        1640         2378  134899.610057\n",
              "Sep        1710         2442  145558.890296"
            ]
          },
          "execution_count": 102,
          "metadata": {},
          "output_type": "execute_result"
        }
      ],
      "source": [
        "# menggabungkan kolom jumlah pelanggan, jumlah transaksi, dan jumlah revenue\n",
        "columns = ['total_user','total_trans','total_sales']\n",
        "df_corr = pd.concat([df_total_user.T,df_total_trans.T,df_total_sales.T],axis=1)\n",
        "df_corr.columns=columns\n",
        "df_corr"
      ]
    },
    {
      "cell_type": "code",
      "execution_count": 103,
      "metadata": {
        "colab": {
          "base_uri": "https://localhost:8080/",
          "height": 142
        },
        "id": "MAlkJoqDvUXK",
        "outputId": "ae977b29-f181-48eb-d760-b7191acfe831"
      },
      "outputs": [
        {
          "data": {
            "text/html": [
              "\n",
              "  <div id=\"df-09440a5c-e44a-4813-aaf2-931c1723441b\">\n",
              "    <div class=\"colab-df-container\">\n",
              "      <div>\n",
              "<style scoped>\n",
              "    .dataframe tbody tr th:only-of-type {\n",
              "        vertical-align: middle;\n",
              "    }\n",
              "\n",
              "    .dataframe tbody tr th {\n",
              "        vertical-align: top;\n",
              "    }\n",
              "\n",
              "    .dataframe thead th {\n",
              "        text-align: right;\n",
              "    }\n",
              "</style>\n",
              "<table border=\"1\" class=\"dataframe\">\n",
              "  <thead>\n",
              "    <tr style=\"text-align: right;\">\n",
              "      <th></th>\n",
              "      <th>total_user</th>\n",
              "      <th>total_trans</th>\n",
              "      <th>total_sales</th>\n",
              "    </tr>\n",
              "  </thead>\n",
              "  <tbody>\n",
              "    <tr>\n",
              "      <th>total_user</th>\n",
              "      <td>1.000000</td>\n",
              "      <td>0.997897</td>\n",
              "      <td>0.985321</td>\n",
              "    </tr>\n",
              "    <tr>\n",
              "      <th>total_trans</th>\n",
              "      <td>0.997897</td>\n",
              "      <td>1.000000</td>\n",
              "      <td>0.987978</td>\n",
              "    </tr>\n",
              "    <tr>\n",
              "      <th>total_sales</th>\n",
              "      <td>0.985321</td>\n",
              "      <td>0.987978</td>\n",
              "      <td>1.000000</td>\n",
              "    </tr>\n",
              "  </tbody>\n",
              "</table>\n",
              "</div>\n",
              "      <button class=\"colab-df-convert\" onclick=\"convertToInteractive('df-09440a5c-e44a-4813-aaf2-931c1723441b')\"\n",
              "              title=\"Convert this dataframe to an interactive table.\"\n",
              "              style=\"display:none;\">\n",
              "        \n",
              "  <svg xmlns=\"http://www.w3.org/2000/svg\" height=\"24px\"viewBox=\"0 0 24 24\"\n",
              "       width=\"24px\">\n",
              "    <path d=\"M0 0h24v24H0V0z\" fill=\"none\"/>\n",
              "    <path d=\"M18.56 5.44l.94 2.06.94-2.06 2.06-.94-2.06-.94-.94-2.06-.94 2.06-2.06.94zm-11 1L8.5 8.5l.94-2.06 2.06-.94-2.06-.94L8.5 2.5l-.94 2.06-2.06.94zm10 10l.94 2.06.94-2.06 2.06-.94-2.06-.94-.94-2.06-.94 2.06-2.06.94z\"/><path d=\"M17.41 7.96l-1.37-1.37c-.4-.4-.92-.59-1.43-.59-.52 0-1.04.2-1.43.59L10.3 9.45l-7.72 7.72c-.78.78-.78 2.05 0 2.83L4 21.41c.39.39.9.59 1.41.59.51 0 1.02-.2 1.41-.59l7.78-7.78 2.81-2.81c.8-.78.8-2.07 0-2.86zM5.41 20L4 18.59l7.72-7.72 1.47 1.35L5.41 20z\"/>\n",
              "  </svg>\n",
              "      </button>\n",
              "      \n",
              "  <style>\n",
              "    .colab-df-container {\n",
              "      display:flex;\n",
              "      flex-wrap:wrap;\n",
              "      gap: 12px;\n",
              "    }\n",
              "\n",
              "    .colab-df-convert {\n",
              "      background-color: #E8F0FE;\n",
              "      border: none;\n",
              "      border-radius: 50%;\n",
              "      cursor: pointer;\n",
              "      display: none;\n",
              "      fill: #1967D2;\n",
              "      height: 32px;\n",
              "      padding: 0 0 0 0;\n",
              "      width: 32px;\n",
              "    }\n",
              "\n",
              "    .colab-df-convert:hover {\n",
              "      background-color: #E2EBFA;\n",
              "      box-shadow: 0px 1px 2px rgba(60, 64, 67, 0.3), 0px 1px 3px 1px rgba(60, 64, 67, 0.15);\n",
              "      fill: #174EA6;\n",
              "    }\n",
              "\n",
              "    [theme=dark] .colab-df-convert {\n",
              "      background-color: #3B4455;\n",
              "      fill: #D2E3FC;\n",
              "    }\n",
              "\n",
              "    [theme=dark] .colab-df-convert:hover {\n",
              "      background-color: #434B5C;\n",
              "      box-shadow: 0px 1px 3px 1px rgba(0, 0, 0, 0.15);\n",
              "      filter: drop-shadow(0px 1px 2px rgba(0, 0, 0, 0.3));\n",
              "      fill: #FFFFFF;\n",
              "    }\n",
              "  </style>\n",
              "\n",
              "      <script>\n",
              "        const buttonEl =\n",
              "          document.querySelector('#df-09440a5c-e44a-4813-aaf2-931c1723441b button.colab-df-convert');\n",
              "        buttonEl.style.display =\n",
              "          google.colab.kernel.accessAllowed ? 'block' : 'none';\n",
              "\n",
              "        async function convertToInteractive(key) {\n",
              "          const element = document.querySelector('#df-09440a5c-e44a-4813-aaf2-931c1723441b');\n",
              "          const dataTable =\n",
              "            await google.colab.kernel.invokeFunction('convertToInteractive',\n",
              "                                                     [key], {});\n",
              "          if (!dataTable) return;\n",
              "\n",
              "          const docLinkHtml = 'Like what you see? Visit the ' +\n",
              "            '<a target=\"_blank\" href=https://colab.research.google.com/notebooks/data_table.ipynb>data table notebook</a>'\n",
              "            + ' to learn more about interactive tables.';\n",
              "          element.innerHTML = '';\n",
              "          dataTable['output_type'] = 'display_data';\n",
              "          await google.colab.output.renderOutput(dataTable, element);\n",
              "          const docLink = document.createElement('div');\n",
              "          docLink.innerHTML = docLinkHtml;\n",
              "          element.appendChild(docLink);\n",
              "        }\n",
              "      </script>\n",
              "    </div>\n",
              "  </div>\n",
              "  "
            ],
            "text/plain": [
              "             total_user  total_trans  total_sales\n",
              "total_user     1.000000     0.997897     0.985321\n",
              "total_trans    0.997897     1.000000     0.987978\n",
              "total_sales    0.985321     0.987978     1.000000"
            ]
          },
          "execution_count": 103,
          "metadata": {},
          "output_type": "execute_result"
        }
      ],
      "source": [
        "df_corr.corr() # memanggil fungsi korelasi dan menampilkan nilainya."
      ]
    },
    {
      "cell_type": "markdown",
      "metadata": {
        "id": "2mh_Vi77xPSC"
      },
      "source": [
        "- Dari data korelasi terlihat bahwa jumlah user(total_user) lebih berkaitan erat dengan jumlah transaksi(total_trans) dengan nilai korelasi sebesar 0.997 daripada total penjualan(total_sales) dengan nilai korelasi sebesar 0.985\n",
        "- Kedua nilai merupakan positif dan sangat mendekati angka 1 sehingga dapat dikatakan hubungan mereka secara erat berbanding lurus, yang artinya kenaikan jumlah user mengakibatkan kenaikan pada jumlah transaksi dan juga total penjualan. Begitupun sebaliknya, penurunan jumlah user mengakibatkan penurunan jumlah transaksi dan juga total penjualannnya."
      ]
    },
    {
      "attachments": {},
      "cell_type": "markdown",
      "metadata": {
        "id": "4pLrWtqMzrU2"
      },
      "source": [
        "POIN ANALISIS\n",
        "- Jumlah user, jumlah transaksi, dan total penjualan terus mengalami peningkatan dari awal Q1 hingga akhir Q3\n",
        "- Kenaikan revenue bulanan kurang lebih sebesar 5-10%\n",
        "- Kenaikan total penjualan bulanan sebesar 5-13%\n",
        "- Jeans merupakan kategori produk terpopuler dan terlaris.\n",
        "- Peminat Jeans selalu ada sepanjang kuartal\n",
        "- Puncak peminat produk Swim terjadi pada bulan Februari\n",
        "- Puncak peminat produk Tops & Tees terjadi pada bulan Maret-April\n",
        "- Puncak peminat produk Shorts terjadi pada bulan Agustus\n",
        "- Peningkatan jumlah penjualan sebesar kurang lebih 7-10% menghasilkan kenaikan revenue sebesar +-10%\n",
        "- Melihat popularitas produk Jeans, penulis menyarankan untuk strategi penjualan pada kuartal 4, perbanyak model Jeans dan naikkan stocknya sebanyak 10% tiap bulannya. Selain itu, melihat spending habit warga planet Mars, sepertinya sudah cukup konsumtif. Namun untuk mendorong total sales yang lebih banyak, mungkin tim sales dan tim finance dapat mengatur cashback dan diskon dengan pertimbangan yang matang agar tren ini dapat dipertahankan. Jikalau hal ini dapat dipertahankan, revenue bulanan The Look e-commerce pada akhir Q4 diprediksikan dapat mencapai +- 213K USD.\n",
        "  "
      ]
    },
    {
      "attachments": {},
      "cell_type": "markdown",
      "metadata": {
        "id": "Fug4_FCd93rN"
      },
      "source": [
        "POIN PERTANYAAN\n",
        "1. Apakah problem statement yang kamu definisikan di awal dapat terukur ketercapaiannya? berikan pendapatmu!\n",
        "> - Ya, pertama karena spesifik yakni menaikkan revenue.\n",
        "> - Kedua karena terukur dan wajar yakni ekspektasi peningkatan sebesar 10% setiap bulannya.\n",
        "> - Ketiga karena peningkatan revenue dapat dicapai dengan meningkatnya jumlah transaksi yang konsisten sebesar 5-13%.\n",
        "> - Keempat karena relevansi dari informasi tren barang dan jumlah user yang melakukan transaksi terus mengalami peningkatan serta korelasinya dengan revenue sangat erat dan berbanding lurus.\n",
        "> - Kelima karena time-bound atau ada batas waktu yang sudah ditentukan dalam pencapaian target yakni pada akhir Q4."
      ]
    },
    {
      "attachments": {},
      "cell_type": "markdown",
      "metadata": {
        "id": "HKaHa5ONGvFD"
      },
      "source": [
        "2. Berdasarkan hasil analisis yang sudah kamu lakukan dari 6 penjabaran di atas, jika CEO perusahaanmu ingin menargetkan pendapatan di awal kuartal 4 harus mencapai $250000, apakah masuk akal?\n",
        ">Rasanya kurang masuk akal, mengingat peningkatan jumlah user yang melakukan transaksi hanya sekitar 5-10% dari bulan ke bulan. Kalaupun mau dipaksakan, harus dibantu dengan peningkatan jumlah transaksi sekitar sebesar 70-80% dari user yang ada pada saat itu."
      ]
    },
    {
      "cell_type": "markdown",
      "metadata": {
        "id": "WIF6ohZHHtkh"
      },
      "source": [
        "3. CEO kamu menargetkan di kuartal 4 ada investor yang dapat menyuntikan dana ke perusahaanmu, dimana investor akan melihat GMV selama 3 kuartal terakhir serta prospek kedepan minimal di kuartal 4 akan seperti apa. Berikan informasi kepada CEO mu berdasarkan trend transaksi, jumlah user yang bertransaksi, dan GMV 3 kuartal terakhir, apakah perusahaanmu layak atau tidak mendapatkan investor baru!"
      ]
    },
    {
      "cell_type": "code",
      "execution_count": 161,
      "metadata": {
        "colab": {
          "base_uri": "https://localhost:8080/",
          "height": 173
        },
        "id": "hvoLaQSvr5gY",
        "outputId": "dfd54577-6952-477d-aa88-1b67412027df"
      },
      "outputs": [
        {
          "data": {
            "text/html": [
              "<style type=\"text/css\">\n",
              "</style>\n",
              "<table id=\"T_0f5b8_\" class=\"dataframe\">\n",
              "  <thead>\n",
              "    <tr>\n",
              "      <th class=\"blank level0\" >&nbsp;</th>\n",
              "      <th class=\"col_heading level0 col0\" >month</th>\n",
              "      <th class=\"col_heading level0 col1\" >jumlah_user</th>\n",
              "      <th class=\"col_heading level0 col2\" >quarterly_percent_diff</th>\n",
              "    </tr>\n",
              "  </thead>\n",
              "  <tbody>\n",
              "    <tr>\n",
              "      <th id=\"T_0f5b8_level0_row0\" class=\"row_heading level0 row0\" >0</th>\n",
              "      <td id=\"T_0f5b8_row0_col0\" class=\"data row0 col0\" >1</td>\n",
              "      <td id=\"T_0f5b8_row0_col1\" class=\"data row0 col1\" >909</td>\n",
              "      <td id=\"T_0f5b8_row0_col2\" class=\"data row0 col2\" >nan%</td>\n",
              "    </tr>\n",
              "    <tr>\n",
              "      <th id=\"T_0f5b8_level0_row1\" class=\"row_heading level0 row1\" >1</th>\n",
              "      <td id=\"T_0f5b8_row1_col0\" class=\"data row1 col0\" >3</td>\n",
              "      <td id=\"T_0f5b8_row1_col1\" class=\"data row1 col1\" >1074</td>\n",
              "      <td id=\"T_0f5b8_row1_col2\" class=\"data row1 col2\" >18.15%</td>\n",
              "    </tr>\n",
              "    <tr>\n",
              "      <th id=\"T_0f5b8_level0_row2\" class=\"row_heading level0 row2\" >2</th>\n",
              "      <td id=\"T_0f5b8_row2_col0\" class=\"data row2 col0\" >6</td>\n",
              "      <td id=\"T_0f5b8_row2_col1\" class=\"data row2 col1\" >1338</td>\n",
              "      <td id=\"T_0f5b8_row2_col2\" class=\"data row2 col2\" >24.58%</td>\n",
              "    </tr>\n",
              "    <tr>\n",
              "      <th id=\"T_0f5b8_level0_row3\" class=\"row_heading level0 row3\" >3</th>\n",
              "      <td id=\"T_0f5b8_row3_col0\" class=\"data row3 col0\" >9</td>\n",
              "      <td id=\"T_0f5b8_row3_col1\" class=\"data row3 col1\" >1710</td>\n",
              "      <td id=\"T_0f5b8_row3_col2\" class=\"data row3 col2\" >27.80%</td>\n",
              "    </tr>\n",
              "  </tbody>\n",
              "</table>\n"
            ],
            "text/plain": [
              "<pandas.io.formats.style.Styler at 0x7fee895dda30>"
            ]
          },
          "execution_count": 161,
          "metadata": {},
          "output_type": "execute_result"
        }
      ],
      "source": [
        "# peningkatan jumlah user antar kuartal\n",
        "query = '''\n",
        "SELECT \n",
        "month,count(DISTINCT user_id) as jumlah_user,\n",
        "(count(DISTINCT user_id)/LAG(count(DISTINCT user_id),1) over(order by month) -1)*100 as quarterly_percent_diff\n",
        "FROM (SELECT *,\n",
        "EXTRACT (YEAR FROM ord_items.created_at) as year,\n",
        "EXTRACT (MONTH FROM ord_items.created_at) as month\n",
        " FROM `bigquery-public-data.thelook_ecommerce.order_items` as ord_items) AS sub\n",
        "WHERE status = 'Complete' AND year=2022 AND month BETWEEN 1 AND 9\n",
        "GROUP BY month\n",
        "HAVING mod(month,3)=0 OR month=1\n",
        "ORDER BY month\n",
        "'''\n",
        "df = client.query(query).to_dataframe()\n",
        "df.style.format({\"quarterly_percent_diff\":\"{:,.2f}%\"})"
      ]
    },
    {
      "cell_type": "code",
      "execution_count": 152,
      "metadata": {
        "colab": {
          "base_uri": "https://localhost:8080/",
          "height": 80
        },
        "id": "Hx29iTDmnPpv",
        "outputId": "d13e515d-cedb-49b1-8c64-f440cc4c3162"
      },
      "outputs": [
        {
          "data": {
            "text/html": [
              "<style type=\"text/css\">\n",
              "</style>\n",
              "<table id=\"T_8f9cc_\" class=\"dataframe\">\n",
              "  <thead>\n",
              "    <tr>\n",
              "      <th class=\"blank level0\" >&nbsp;</th>\n",
              "      <th class=\"col_heading level0 col0\" >Q1</th>\n",
              "      <th class=\"col_heading level0 col1\" >Q2</th>\n",
              "      <th class=\"col_heading level0 col2\" >Q3</th>\n",
              "    </tr>\n",
              "  </thead>\n",
              "  <tbody>\n",
              "    <tr>\n",
              "      <th id=\"T_8f9cc_level0_row0\" class=\"row_heading level0 row0\" >0</th>\n",
              "      <td id=\"T_8f9cc_row0_col0\" class=\"data row0 col0\" >4,244</td>\n",
              "      <td id=\"T_8f9cc_row0_col1\" class=\"data row0 col1\" >5,264</td>\n",
              "      <td id=\"T_8f9cc_row0_col2\" class=\"data row0 col2\" >6,931</td>\n",
              "    </tr>\n",
              "  </tbody>\n",
              "</table>\n"
            ],
            "text/plain": [
              "<pandas.io.formats.style.Styler at 0x7fee89611a30>"
            ]
          },
          "execution_count": 152,
          "metadata": {},
          "output_type": "execute_result"
        }
      ],
      "source": [
        "# jumlah transaksi Q1, Q2, Q3\n",
        "trans_q1 = df_total_trans[['Jan','Feb','Mar']].T.sum()\n",
        "trans_q2 = df_total_trans[['Apr','May','Jun']].T.sum()\n",
        "trans_q3 = df_total_trans[['Jul','Aug','Sep']].T.sum()\n",
        "columns=['Q1','Q2','Q3']\n",
        "trans_q = pd.concat([trans_q1,trans_q2,trans_q3],axis=1)\n",
        "trans_q.columns=columns\n",
        "trans_q.style.format(\"{:,}\")"
      ]
    },
    {
      "cell_type": "code",
      "execution_count": 111,
      "metadata": {
        "colab": {
          "base_uri": "https://localhost:8080/",
          "height": 80
        },
        "id": "xJtDp-h7Wn4X",
        "outputId": "baab6aa6-3f52-4aa3-a2be-83c2692f7d96"
      },
      "outputs": [
        {
          "data": {
            "text/html": [
              "<style type=\"text/css\">\n",
              "</style>\n",
              "<table id=\"T_8c9d3_\" class=\"dataframe\">\n",
              "  <thead>\n",
              "    <tr>\n",
              "      <th class=\"blank level0\" >&nbsp;</th>\n",
              "      <th class=\"col_heading level0 col0\" >Jan</th>\n",
              "      <th class=\"col_heading level0 col1\" >Feb</th>\n",
              "      <th class=\"col_heading level0 col2\" >Mar</th>\n",
              "      <th class=\"col_heading level0 col3\" >Apr</th>\n",
              "      <th class=\"col_heading level0 col4\" >May</th>\n",
              "      <th class=\"col_heading level0 col5\" >Jun</th>\n",
              "      <th class=\"col_heading level0 col6\" >Jul</th>\n",
              "      <th class=\"col_heading level0 col7\" >Aug</th>\n",
              "      <th class=\"col_heading level0 col8\" >Sep</th>\n",
              "    </tr>\n",
              "  </thead>\n",
              "  <tbody>\n",
              "    <tr>\n",
              "      <th id=\"T_8c9d3_level0_row0\" class=\"row_heading level0 row0\" >0</th>\n",
              "      <td id=\"T_8c9d3_row0_col0\" class=\"data row0 col0\" >$81,454.26</td>\n",
              "      <td id=\"T_8c9d3_row0_col1\" class=\"data row0 col1\" >$85,810.48</td>\n",
              "      <td id=\"T_8c9d3_row0_col2\" class=\"data row0 col2\" >$93,958.48</td>\n",
              "      <td id=\"T_8c9d3_row0_col3\" class=\"data row0 col3\" >$105,278.45</td>\n",
              "      <td id=\"T_8c9d3_row0_col4\" class=\"data row0 col4\" >$101,416.36</td>\n",
              "      <td id=\"T_8c9d3_row0_col5\" class=\"data row0 col5\" >$108,924.85</td>\n",
              "      <td id=\"T_8c9d3_row0_col6\" class=\"data row0 col6\" >$124,116.78</td>\n",
              "      <td id=\"T_8c9d3_row0_col7\" class=\"data row0 col7\" >$134,899.61</td>\n",
              "      <td id=\"T_8c9d3_row0_col8\" class=\"data row0 col8\" >$145,558.89</td>\n",
              "    </tr>\n",
              "  </tbody>\n",
              "</table>\n"
            ],
            "text/plain": [
              "<pandas.io.formats.style.Styler at 0x7fee8963eeb0>"
            ]
          },
          "execution_count": 111,
          "metadata": {},
          "output_type": "execute_result"
        }
      ],
      "source": [
        "# total sales / GMV Q1-Q3 2022\n",
        "df_total_sales.style.format(\"${:,.2f}\")"
      ]
    },
    {
      "cell_type": "code",
      "execution_count": 137,
      "metadata": {
        "colab": {
          "base_uri": "https://localhost:8080/",
          "height": 80
        },
        "id": "BC9IJ9sxY4Rm",
        "outputId": "99e57dd6-7b24-4c3a-c3e0-e6d1b37eb6e1"
      },
      "outputs": [
        {
          "data": {
            "text/html": [
              "<style type=\"text/css\">\n",
              "</style>\n",
              "<table id=\"T_b2503_\" class=\"dataframe\">\n",
              "  <thead>\n",
              "    <tr>\n",
              "      <th class=\"blank level0\" >&nbsp;</th>\n",
              "      <th class=\"col_heading level0 col0\" >Q1</th>\n",
              "      <th class=\"col_heading level0 col1\" >Q2</th>\n",
              "      <th class=\"col_heading level0 col2\" >Q3</th>\n",
              "    </tr>\n",
              "  </thead>\n",
              "  <tbody>\n",
              "    <tr>\n",
              "      <th id=\"T_b2503_level0_row0\" class=\"row_heading level0 row0\" >0</th>\n",
              "      <td id=\"T_b2503_row0_col0\" class=\"data row0 col0\" >$261,223.22</td>\n",
              "      <td id=\"T_b2503_row0_col1\" class=\"data row0 col1\" >$315,619.66</td>\n",
              "      <td id=\"T_b2503_row0_col2\" class=\"data row0 col2\" >$404,575.28</td>\n",
              "    </tr>\n",
              "  </tbody>\n",
              "</table>\n"
            ],
            "text/plain": [
              "<pandas.io.formats.style.Styler at 0x7fee89669a00>"
            ]
          },
          "execution_count": 137,
          "metadata": {},
          "output_type": "execute_result"
        }
      ],
      "source": [
        "# Akumulasi Gross Merchandise Value (GMV) pada Q1,Q2,Q3\n",
        "gmv_q1 = df_total_sales[['Jan','Feb','Mar']].T.sum()\n",
        "gmv_q2 = df_total_sales[['Apr','May','Jun']].T.sum()\n",
        "gmv_q3 = df_total_sales[['Jul','Aug','Sep']].T.sum()\n",
        "columns=['Q1','Q2','Q3']\n",
        "gmv_q = pd.concat([gmv_q1,gmv_q2,gmv_q3],axis=1)\n",
        "gmv_q.columns=columns\n",
        "gmv_q.style.format(\"${:,.2f}\")\n"
      ]
    },
    {
      "cell_type": "markdown",
      "metadata": {
        "id": "abZb4jzwm22-"
      },
      "source": [
        "- Dari aspek peningkatan jumlah user pada akhir Q1 mendapat 18.5% user baru dibanding awal Q1. Menjelang Akhir Q2, mendapat 24.58% user baru dibanding awal Q2. Menjelang Akhir Q3, mendapat 27.8% user baru dibanding awal Q3. Secara umum The Look e-commerce mendapatkan peningkatan jumlah user yang cukup stabil antar kuartalnya.\n",
        "- Ditinjau dari aspek jumlah transaksi: menjelang akhir Q1, tercatat total jumlah transaksi sebanyak 4,244 Menjelang akhir Q2 terjadi kenaikan sebanyak 24% menjadi 5,264. Pada akhir Q3 terjadi peningkatan kembali sebanyak 31% menjadi 6,931 total transaksi dari jumlah transaksi yang tercatat pada Q2.\n",
        "- Ditinjau dari aspek GMV, peningkatan Q2 terhadap Q1 sebesar 20.8% dan peningkatan dari Q3 terhadap Q2 sebesar 28%.\n",
        "- Dari data diatas, dapat diprediksi GMV pada akhir kuartal 4 dapat mencapai peningkatan sebesar 20% yakni pada nominal $485,490\n",
        "- Mengutip sumber dari [sini](https://www.ekrut.com/media/gmv-adalah),\n",
        ">\"*Investor umumnya akan tertarik dengan perusahaan yang tetap maju atau memiliki progress bisnis stabil, meski tidak selalu mencapai angka tertinggi.\"* \n",
        "- Jika ditinjau dari ketiga aspek diatas, ***The Look*** e-commerce sangat layak mendapatkan investor baru. Selain karena pertumbuhan yang stabil, peningkatan pertumbuhannya juga relatif besar."
      ]
    }
  ],
  "metadata": {
    "colab": {
      "provenance": []
    },
    "kernelspec": {
      "display_name": "base",
      "language": "python",
      "name": "python3"
    },
    "language_info": {
      "name": "python",
      "version": "3.9.13 (main, Aug 25 2022, 18:24:45) \n[Clang 12.0.0 ]"
    },
    "vscode": {
      "interpreter": {
        "hash": "38cca0c38332a56087b24af0bc80247f4fced29cb4f7f437d91dc159adec9c4e"
      }
    }
  },
  "nbformat": 4,
  "nbformat_minor": 0
}
